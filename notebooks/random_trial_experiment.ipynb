{
 "cells": [
  {
   "cell_type": "code",
   "execution_count": 1,
   "metadata": {},
   "outputs": [],
   "source": [
    "import sys\n",
    "import os\n",
    "import numpy as np\n",
    "sys.path.append(os.path.join(os.path.abspath(os.path.dirname(\"__file__\")), '..'))\n",
    "from utils import data_handling, model_development\n",
    "import matplotlib.pyplot as plt\n",
    "from ipywidgets import interact\n",
    "from sklearn.model_selection import train_test_split"
   ]
  },
  {
   "cell_type": "markdown",
   "metadata": {},
   "source": [
    "## Configure the model training policy\n"
   ]
  },
  {
   "cell_type": "code",
   "execution_count": 2,
   "metadata": {},
   "outputs": [],
   "source": [
    "model_development.configure_training_policy()"
   ]
  },
  {
   "cell_type": "markdown",
   "metadata": {},
   "source": [
    "## Load data"
   ]
  },
  {
   "cell_type": "code",
   "execution_count": 3,
   "metadata": {},
   "outputs": [
    {
     "name": "stdout",
     "output_type": "stream",
     "text": [
      "[(2624, 300, 300), 2624, 2624]\n"
     ]
    }
   ],
   "source": [
    "cell_images, cell_labels, cell_types = data_handling.load_data_from_file('../data/labels.csv')\n",
    "print([cell_images.shape, len(cell_labels), len(cell_types)])"
   ]
  },
  {
   "cell_type": "markdown",
   "metadata": {},
   "source": [
    "## Prepare data for model training"
   ]
  },
  {
   "cell_type": "code",
   "execution_count": 4,
   "metadata": {},
   "outputs": [],
   "source": [
    "cell_images = np.stack((cell_images,) * 3, axis = -1)\n",
    "cell_labels[cell_labels == 0.3333333333333333] = 1.0\n",
    "cell_labels[cell_labels == 0.6666666666666666] = 1.0\n",
    "\n",
    "X_train_1, _ , Y_train_1 , _ = \\\n",
    "    train_test_split(cell_images, cell_labels, test_size = 0.15, random_state = 1)\n",
    "X_train_2, _ , Y_train_2 , _ = \\\n",
    "        train_test_split(cell_images, cell_labels, test_size = 0.15, random_state = 2)\n",
    "X_train_3, _ , Y_train_3, _ = \\\n",
    "    train_test_split(cell_images, cell_labels, test_size = 0.15, random_state = 3)\n",
    "X_train_4, _ , Y_train_4, _ = \\\n",
    "    train_test_split(cell_images, cell_labels, test_size = 0.15, random_state = 4)\n",
    "X_train_5, _ , Y_train_5, _ = \\\n",
    "    train_test_split(cell_images, cell_labels, test_size = 0.15, random_state = 5)\n"
   ]
  },
  {
   "cell_type": "markdown",
   "metadata": {},
   "source": [
    "## Train classification model (only the first phase)"
   ]
  },
  {
   "cell_type": "code",
   "execution_count": 5,
   "metadata": {},
   "outputs": [],
   "source": [
    "def run_random_trial_experiment(X_train, Y_train):\n",
    "    optimizer = model_development.create_optimizer('nadam')\n",
    "    resnet152v2 = \\\n",
    "        model_development.resnet152v2(input_shape = (300, 300, 3), weights = 'imagenet', freeze_convolutional_base = True, display_model_information = False)\n",
    "    history, _ = model_development.train_classification_model(1, resnet152v2, optimizer, ['accuracy', 'Precision', 'Recall'], 'ResNet152v2', '1.00.00fs_rt', X_train, Y_train, 'val_accuracy', 100, 16, 0.15)\n",
    "\n",
    "    return history"
   ]
  },
  {
   "cell_type": "markdown",
   "metadata": {},
   "source": [
    "### Seed 1"
   ]
  },
  {
   "cell_type": "code",
   "execution_count": 6,
   "metadata": {},
   "outputs": [
    {
     "name": "stdout",
     "output_type": "stream",
     "text": [
      "WARNING:tensorflow:Using a while_loop for converting RngReadAndSkip\n",
      "WARNING:tensorflow:Using a while_loop for converting Bitcast\n",
      "WARNING:tensorflow:Using a while_loop for converting Bitcast\n",
      "WARNING:tensorflow:Using a while_loop for converting StatelessRandomUniformV2\n",
      "WARNING:tensorflow:Using a while_loop for converting RngReadAndSkip\n",
      "WARNING:tensorflow:Using a while_loop for converting Bitcast\n",
      "WARNING:tensorflow:Using a while_loop for converting Bitcast\n",
      "WARNING:tensorflow:Using a while_loop for converting StatelessRandomUniformV2\n",
      "WARNING:tensorflow:Using a while_loop for converting ImageProjectiveTransformV3\n",
      "Epoch 1/100\n",
      "WARNING:tensorflow:Model was constructed with shape (None, 300, 300, 3) for input KerasTensor(type_spec=TensorSpec(shape=(None, 300, 300, 3), dtype=tf.float32, name='input_1'), name='input_1', description=\"created by layer 'input_1'\"), but it was called on an input with incompatible shape (None, 300, 300).\n"
     ]
    },
    {
     "ename": "ValueError",
     "evalue": "in user code:\n\n    File \"c:\\ProgramData\\Anaconda3\\envs\\tensorflow_latest\\lib\\site-packages\\keras\\engine\\training.py\", line 1051, in train_function  *\n        return step_function(self, iterator)\n    File \"c:\\ProgramData\\Anaconda3\\envs\\tensorflow_latest\\lib\\site-packages\\keras\\engine\\training.py\", line 1040, in step_function  **\n        outputs = model.distribute_strategy.run(run_step, args=(data,))\n    File \"c:\\ProgramData\\Anaconda3\\envs\\tensorflow_latest\\lib\\site-packages\\keras\\engine\\training.py\", line 1030, in run_step  **\n        outputs = model.train_step(data)\n    File \"c:\\ProgramData\\Anaconda3\\envs\\tensorflow_latest\\lib\\site-packages\\keras\\engine\\training.py\", line 889, in train_step\n        y_pred = self(x, training=True)\n    File \"c:\\ProgramData\\Anaconda3\\envs\\tensorflow_latest\\lib\\site-packages\\keras\\utils\\traceback_utils.py\", line 67, in error_handler\n        raise e.with_traceback(filtered_tb) from None\n    File \"c:\\ProgramData\\Anaconda3\\envs\\tensorflow_latest\\lib\\site-packages\\keras\\engine\\input_spec.py\", line 214, in assert_input_compatibility\n        raise ValueError(f'Input {input_index} of layer \"{layer_name}\" '\n\n    ValueError: Exception encountered when calling layer \"ResNet152v2\" (type Functional).\n    \n    Input 0 of layer \"conv1_pad\" is incompatible with the layer: expected ndim=4, found ndim=3. Full shape received: (None, 300, 300)\n    \n    Call arguments received by layer \"ResNet152v2\" (type Functional):\n      • inputs=tf.Tensor(shape=(None, 300, 300), dtype=uint8)\n      • training=True\n      • mask=None\n",
     "output_type": "error",
     "traceback": [
      "\u001b[1;31m---------------------------------------------------------------------------\u001b[0m",
      "\u001b[1;31mValueError\u001b[0m                                Traceback (most recent call last)",
      "Cell \u001b[1;32mIn [6], line 3\u001b[0m\n\u001b[0;32m      1\u001b[0m training_session \u001b[39m=\u001b[39m \u001b[39m30\u001b[39m\n\u001b[0;32m      2\u001b[0m \u001b[39mfor\u001b[39;00m idx \u001b[39min\u001b[39;00m \u001b[39mrange\u001b[39m(training_session):\n\u001b[1;32m----> 3\u001b[0m     history \u001b[39m=\u001b[39m run_random_trial_experiment(X_train_1, Y_train_1)\n\u001b[0;32m      4\u001b[0m     val_accuracy \u001b[39m=\u001b[39m np\u001b[39m.\u001b[39marray(history\u001b[39m.\u001b[39mhistory[\u001b[39m'\u001b[39m\u001b[39mval_accuracy\u001b[39m\u001b[39m'\u001b[39m])\n\u001b[0;32m      5\u001b[0m     val_precision \u001b[39m=\u001b[39m np\u001b[39m.\u001b[39marray(history\u001b[39m.\u001b[39mhistory[\u001b[39m'\u001b[39m\u001b[39mval_precision\u001b[39m\u001b[39m'\u001b[39m])\n",
      "Cell \u001b[1;32mIn [5], line 5\u001b[0m, in \u001b[0;36mrun_random_trial_experiment\u001b[1;34m(X_train, Y_train)\u001b[0m\n\u001b[0;32m      2\u001b[0m optimizer \u001b[39m=\u001b[39m model_development\u001b[39m.\u001b[39mcreate_optimizer(\u001b[39m'\u001b[39m\u001b[39mnadam\u001b[39m\u001b[39m'\u001b[39m)\n\u001b[0;32m      3\u001b[0m resnet152v2 \u001b[39m=\u001b[39m \\\n\u001b[0;32m      4\u001b[0m     model_development\u001b[39m.\u001b[39mresnet152v2(input_shape \u001b[39m=\u001b[39m (\u001b[39m300\u001b[39m, \u001b[39m300\u001b[39m, \u001b[39m3\u001b[39m), weights \u001b[39m=\u001b[39m \u001b[39m'\u001b[39m\u001b[39mimagenet\u001b[39m\u001b[39m'\u001b[39m, freeze_convolutional_base \u001b[39m=\u001b[39m \u001b[39mTrue\u001b[39;00m, display_model_information \u001b[39m=\u001b[39m \u001b[39mFalse\u001b[39;00m)\n\u001b[1;32m----> 5\u001b[0m history, _ \u001b[39m=\u001b[39m model_development\u001b[39m.\u001b[39;49mtrain_classification_model(\u001b[39m1\u001b[39;49m, resnet152v2, optimizer, [\u001b[39m'\u001b[39;49m\u001b[39maccuracy\u001b[39;49m\u001b[39m'\u001b[39;49m, \u001b[39m'\u001b[39;49m\u001b[39mPrecision\u001b[39;49m\u001b[39m'\u001b[39;49m, \u001b[39m'\u001b[39;49m\u001b[39mRecall\u001b[39;49m\u001b[39m'\u001b[39;49m], \u001b[39m'\u001b[39;49m\u001b[39mResNet152v2\u001b[39;49m\u001b[39m'\u001b[39;49m, \u001b[39m'\u001b[39;49m\u001b[39m1.00.00fs_rt\u001b[39;49m\u001b[39m'\u001b[39;49m, X_train, Y_train, \u001b[39m'\u001b[39;49m\u001b[39mval_accuracy\u001b[39;49m\u001b[39m'\u001b[39;49m, \u001b[39m100\u001b[39;49m, \u001b[39m16\u001b[39;49m, \u001b[39m0.15\u001b[39;49m)\n\u001b[0;32m      7\u001b[0m \u001b[39mreturn\u001b[39;00m history\n",
      "File \u001b[1;32mc:\\Users\\vohuynhq\\OneDrive - Intel Corporation\\Desktop\\Github Desktop\\research.informationsystem.elpv\\notebooks\\..\\utils\\model_development.py:141\u001b[0m, in \u001b[0;36mtrain_classification_model\u001b[1;34m(training_phase, model, optimizer, training_metrics, model_name, version, X, Y, metric_to_monitor, n_of_epochs, batch_size, validation_split_ratio)\u001b[0m\n\u001b[0;32m    138\u001b[0m checkpoint \u001b[39m=\u001b[39m ModelCheckpoint(weight_path, monitor \u001b[39m=\u001b[39m metric_to_monitor, \n\u001b[0;32m    139\u001b[0m     verbose \u001b[39m=\u001b[39m \u001b[39m1\u001b[39m, save_best_only \u001b[39m=\u001b[39m \u001b[39mTrue\u001b[39;00m, mode \u001b[39m=\u001b[39m \u001b[39m'\u001b[39m\u001b[39mmax\u001b[39m\u001b[39m'\u001b[39m)\n\u001b[0;32m    140\u001b[0m callbacks_list \u001b[39m=\u001b[39m [checkpoint]\n\u001b[1;32m--> 141\u001b[0m history \u001b[39m=\u001b[39m model\u001b[39m.\u001b[39;49mfit(X, Y, validation_split \u001b[39m=\u001b[39;49m validation_split_ratio, epochs \u001b[39m=\u001b[39;49m n_of_epochs, \n\u001b[0;32m    142\u001b[0m     batch_size \u001b[39m=\u001b[39;49m batch_size, callbacks \u001b[39m=\u001b[39;49m callbacks_list, verbose \u001b[39m=\u001b[39;49m \u001b[39m1\u001b[39;49m)\n\u001b[0;32m    143\u001b[0m np\u001b[39m.\u001b[39msave(\u001b[39mf\u001b[39m\u001b[39m'\u001b[39m\u001b[39m../models/history/\u001b[39m\u001b[39m{\u001b[39;00mmodel_name\u001b[39m}\u001b[39;00m\u001b[39m_\u001b[39m\u001b[39m{\u001b[39;00mversion\u001b[39m}\u001b[39;00m\u001b[39m'\u001b[39m, history\u001b[39m.\u001b[39mhistory)\n\u001b[0;32m    144\u001b[0m \u001b[39m###\u001b[39;00m\n",
      "File \u001b[1;32mc:\\ProgramData\\Anaconda3\\envs\\tensorflow_latest\\lib\\site-packages\\keras\\utils\\traceback_utils.py:67\u001b[0m, in \u001b[0;36mfilter_traceback.<locals>.error_handler\u001b[1;34m(*args, **kwargs)\u001b[0m\n\u001b[0;32m     65\u001b[0m \u001b[39mexcept\u001b[39;00m \u001b[39mException\u001b[39;00m \u001b[39mas\u001b[39;00m e:  \u001b[39m# pylint: disable=broad-except\u001b[39;00m\n\u001b[0;32m     66\u001b[0m   filtered_tb \u001b[39m=\u001b[39m _process_traceback_frames(e\u001b[39m.\u001b[39m__traceback__)\n\u001b[1;32m---> 67\u001b[0m   \u001b[39mraise\u001b[39;00m e\u001b[39m.\u001b[39mwith_traceback(filtered_tb) \u001b[39mfrom\u001b[39;00m \u001b[39mNone\u001b[39m\n\u001b[0;32m     68\u001b[0m \u001b[39mfinally\u001b[39;00m:\n\u001b[0;32m     69\u001b[0m   \u001b[39mdel\u001b[39;00m filtered_tb\n",
      "File \u001b[1;32m~\\AppData\\Local\\Temp\\__autograph_generated_filerdxghwoh.py:15\u001b[0m, in \u001b[0;36mouter_factory.<locals>.inner_factory.<locals>.tf__train_function\u001b[1;34m(iterator)\u001b[0m\n\u001b[0;32m     13\u001b[0m \u001b[39mtry\u001b[39;00m:\n\u001b[0;32m     14\u001b[0m     do_return \u001b[39m=\u001b[39m \u001b[39mTrue\u001b[39;00m\n\u001b[1;32m---> 15\u001b[0m     retval_ \u001b[39m=\u001b[39m ag__\u001b[39m.\u001b[39mconverted_call(ag__\u001b[39m.\u001b[39mld(step_function), (ag__\u001b[39m.\u001b[39mld(\u001b[39mself\u001b[39m), ag__\u001b[39m.\u001b[39mld(iterator)), \u001b[39mNone\u001b[39;00m, fscope)\n\u001b[0;32m     16\u001b[0m \u001b[39mexcept\u001b[39;00m:\n\u001b[0;32m     17\u001b[0m     do_return \u001b[39m=\u001b[39m \u001b[39mFalse\u001b[39;00m\n",
      "\u001b[1;31mValueError\u001b[0m: in user code:\n\n    File \"c:\\ProgramData\\Anaconda3\\envs\\tensorflow_latest\\lib\\site-packages\\keras\\engine\\training.py\", line 1051, in train_function  *\n        return step_function(self, iterator)\n    File \"c:\\ProgramData\\Anaconda3\\envs\\tensorflow_latest\\lib\\site-packages\\keras\\engine\\training.py\", line 1040, in step_function  **\n        outputs = model.distribute_strategy.run(run_step, args=(data,))\n    File \"c:\\ProgramData\\Anaconda3\\envs\\tensorflow_latest\\lib\\site-packages\\keras\\engine\\training.py\", line 1030, in run_step  **\n        outputs = model.train_step(data)\n    File \"c:\\ProgramData\\Anaconda3\\envs\\tensorflow_latest\\lib\\site-packages\\keras\\engine\\training.py\", line 889, in train_step\n        y_pred = self(x, training=True)\n    File \"c:\\ProgramData\\Anaconda3\\envs\\tensorflow_latest\\lib\\site-packages\\keras\\utils\\traceback_utils.py\", line 67, in error_handler\n        raise e.with_traceback(filtered_tb) from None\n    File \"c:\\ProgramData\\Anaconda3\\envs\\tensorflow_latest\\lib\\site-packages\\keras\\engine\\input_spec.py\", line 214, in assert_input_compatibility\n        raise ValueError(f'Input {input_index} of layer \"{layer_name}\" '\n\n    ValueError: Exception encountered when calling layer \"ResNet152v2\" (type Functional).\n    \n    Input 0 of layer \"conv1_pad\" is incompatible with the layer: expected ndim=4, found ndim=3. Full shape received: (None, 300, 300)\n    \n    Call arguments received by layer \"ResNet152v2\" (type Functional):\n      • inputs=tf.Tensor(shape=(None, 300, 300), dtype=uint8)\n      • training=True\n      • mask=None\n"
     ]
    }
   ],
   "source": [
    "training_session = 30\n",
    "for idx in range(training_session):\n",
    "    history = run_random_trial_experiment(X_train_1, Y_train_1)\n",
    "    val_accuracy = np.array(history.history['val_accuracy'])\n",
    "    val_precision = np.array(history.history['val_precision'])\n",
    "    val_recall = np.array(history.history['val_recall'])\n",
    "\n",
    "    best_validation_accuracy = np.max(val_accuracy, axis = - 1)\n",
    "    accompanied_precision = val_precision[np.argmax(val_accuracy)]\n",
    "    accompanied_recall = val_recall[np.argmax(val_accuracy)]\n",
    "    print([best_validation_accuracy, accompanied_precision, accompanied_recall])"
   ]
  },
  {
   "cell_type": "markdown",
   "metadata": {},
   "source": [
    "### Seed 2"
   ]
  },
  {
   "cell_type": "raw",
   "metadata": {},
   "source": [
    "training_session = 30\n",
    "for idx in range(training_session):\n",
    "    history = run_random_trial_experiment(X_train_2, Y_train_2)\n",
    "    val_accuracy = np.array(history.history['val_accuracy'])\n",
    "    val_precision = np.array(history.history['val_precision'])\n",
    "    val_recall = np.array(history.history['val_recall'])\n",
    "    best_validation_accuracy = np.max(val_accuracy, axis = - 1)\n",
    "    accompanied_precision = val_precision[np.argmax(val_accuracy)]\n",
    "    accompanied_recall = val_recall[np.argmax(val_accuracy)]\n",
    "    print([best_validation_accuracy, accompanied_precision, accompanied_recall])"
   ]
  },
  {
   "cell_type": "markdown",
   "metadata": {},
   "source": [
    "### Seed 3"
   ]
  },
  {
   "cell_type": "raw",
   "metadata": {},
   "source": [
    "training_session = 30\n",
    "for idx in range(training_session):\n",
    "    history = run_random_trial_experiment(X_train_3, Y_train_3)\n",
    "    val_accuracy = np.array(history.history['val_accuracy'])\n",
    "    val_precision = np.array(history.history['val_precision'])\n",
    "    val_recall = np.array(history.history['val_recall'])\n",
    "    \n",
    "    best_validation_accuracy = np.max(val_accuracy, axis = - 1)\n",
    "    accompanied_precision = val_precision[np.argmax(val_accuracy)]\n",
    "    accompanied_recall = val_recall[np.argmax(val_accuracy)]\n",
    "    print([best_validation_accuracy, accompanied_precision, accompanied_recall])"
   ]
  },
  {
   "cell_type": "markdown",
   "metadata": {},
   "source": [
    "### Seed 4"
   ]
  },
  {
   "cell_type": "raw",
   "metadata": {},
   "source": [
    "training_session = 30\n",
    "for idx in range(training_session):\n",
    "    history = run_random_trial_experiment(X_train_4, Y_train_4)\n",
    "    val_accuracy = np.array(history.history['val_accuracy'])\n",
    "    val_precision = np.array(history.history['val_precision'])\n",
    "    val_recall = np.array(history.history['val_recall'])\n",
    "    \n",
    "    best_validation_accuracy = np.max(val_accuracy, axis = - 1)\n",
    "    accompanied_precision = val_precision[np.argmax(val_accuracy)]\n",
    "    accompanied_recall = val_recall[np.argmax(val_accuracy)]\n",
    "    print([best_validation_accuracy, accompanied_precision, accompanied_recall])"
   ]
  },
  {
   "cell_type": "markdown",
   "metadata": {},
   "source": [
    "### Seed 5"
   ]
  },
  {
   "cell_type": "raw",
   "metadata": {},
   "source": [
    "training_session = 30\n",
    "for idx in range(training_session):\n",
    "    history = run_random_trial_experiment(X_train_5, Y_train_5)\n",
    "    val_accuracy = np.array(history.history['val_accuracy'])\n",
    "    val_precision = np.array(history.history['val_precision'])\n",
    "    val_recall = np.array(history.history['val_recall'])\n",
    "    \n",
    "    best_validation_accuracy = np.max(val_accuracy, axis = - 1)\n",
    "    accompanied_precision = val_precision[np.argmax(val_accuracy)]\n",
    "    accompanied_recall = val_recall[np.argmax(val_accuracy)]\n",
    "    print([best_validation_accuracy, accompanied_precision, accompanied_recall])"
   ]
  }
 ],
 "metadata": {
  "kernelspec": {
   "display_name": "Python 3.10.4 ('tensorflow_latest')",
   "language": "python",
   "name": "python3"
  },
  "language_info": {
   "codemirror_mode": {
    "name": "ipython",
    "version": 3
   },
   "file_extension": ".py",
   "mimetype": "text/x-python",
   "name": "python",
   "nbconvert_exporter": "python",
   "pygments_lexer": "ipython3",
   "version": "3.10.4"
  },
  "orig_nbformat": 4,
  "vscode": {
   "interpreter": {
    "hash": "7d1c19e37e5f6196bc516d7b965f651cc74a678b65e0e3f127f9e9132621bafc"
   }
  }
 },
 "nbformat": 4,
 "nbformat_minor": 2
}
