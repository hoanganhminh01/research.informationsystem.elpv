{
 "cells": [
  {
   "cell_type": "code",
   "execution_count": 1,
   "metadata": {},
   "outputs": [],
   "source": [
    "import sys\n",
    "import os\n",
    "import numpy as np\n",
    "sys.path.append(os.path.join(os.path.abspath(os.path.dirname(\"__file__\")), '..'))\n",
    "from utils import data_handling, model_development\n",
    "import matplotlib.pyplot as plt\n",
    "from ipywidgets import interact\n",
    "from sklearn.model_selection import train_test_split"
   ]
  },
  {
   "cell_type": "markdown",
   "metadata": {},
   "source": [
    "## Configure the model training policy\n"
   ]
  },
  {
   "cell_type": "code",
   "execution_count": 2,
   "metadata": {},
   "outputs": [],
   "source": [
    "model_development.configure_training_policy()"
   ]
  },
  {
   "cell_type": "markdown",
   "metadata": {},
   "source": [
    "## Load data"
   ]
  },
  {
   "cell_type": "code",
   "execution_count": 3,
   "metadata": {},
   "outputs": [
    {
     "name": "stdout",
     "output_type": "stream",
     "text": [
      "[(2624, 300, 300), 2624, 2624]\n"
     ]
    }
   ],
   "source": [
    "cell_images, cell_labels, cell_types = data_handling.load_data_from_file('../data/labels.csv')\n",
    "print([cell_images.shape, len(cell_labels), len(cell_types)])"
   ]
  },
  {
   "cell_type": "markdown",
   "metadata": {},
   "source": [
    "## Prepare data for model training"
   ]
  },
  {
   "cell_type": "code",
   "execution_count": 4,
   "metadata": {},
   "outputs": [],
   "source": [
    "X_train_1, _ , Y_train_1 , _ = \\\n",
    "    train_test_split(cell_images, cell_labels, test_size = 0.15, random_state = 1)\n",
    "X_train_2, _ , Y_train_2 , _ = \\\n",
    "        train_test_split(cell_images, cell_labels, test_size = 0.15, random_state = 2)\n",
    "X_train_3, _ , Y_train_3, _ = \\\n",
    "    train_test_split(cell_images, cell_labels, test_size = 0.15, random_state = 3)\n",
    "X_train_4, _ , Y_train_4, _ = \\\n",
    "    train_test_split(cell_images, cell_labels, test_size = 0.15, random_state = 4)\n",
    "X_train_5, _ , Y_train_5, _ = \\\n",
    "    train_test_split(cell_images, cell_labels, test_size = 0.15, random_state = 5)\n"
   ]
  },
  {
   "cell_type": "markdown",
   "metadata": {},
   "source": [
    "## Train classification model (only the first phase)"
   ]
  },
  {
   "cell_type": "code",
   "execution_count": 5,
   "metadata": {},
   "outputs": [],
   "source": [
    "def run_random_trial_experiment(X_train, Y_train):\n",
    "    optimizer = model_development.create_optimizer('nadam')\n",
    "    resnet152v2 = \\\n",
    "        model_development.resnet152v2(input_shape = (300, 300, 3), weights = 'imagenet', freeze_convolutional_base = True, display_model_information = False)\n",
    "\n",
    "    history, _ = \\\n",
    "        model_development.train_classification_model(training_phase = 1, model = resnet152v2, \n",
    "        optimizer = optimizer, training_metrics = ['accuracy', 'Precision', 'Recall'],\n",
    "        model_name = 'ResNetv152v2', version = '1.00.00rt', \n",
    "        X = np.stack((X_train_2,) * 3, axis = -1), Y = Y_train_2, metric_to_monitor = 'val_accuracy', \n",
    "        no_of_epochs = 100, batch_size = 16, validation_split_ratio = 0.15)\n",
    "        \n",
    "    return history"
   ]
  },
  {
   "cell_type": "markdown",
   "metadata": {},
   "source": [
    "### Seed 1"
   ]
  },
  {
   "cell_type": "raw",
   "metadata": {},
   "source": [
    "training_session = 30\n",
    "for idx in range(training_session):\n",
    "    history = run_random_trial_experiment(X_train_1, Y_train_1)\n",
    "    val_accuracy = np.array(history.history['val_accuracy'])\n",
    "    val_precision = np.array(history.history['val_precision'])\n",
    "    val_recall = np.array(history.history['val_recall'])\n",
    "\n",
    "    best_validation_accuracy = np.max(val_accuracy, axis = - 1)\n",
    "    accompanied_precision = val_precision[np.argmax(val_accuracy)]\n",
    "    accompanied_recall = val_recall[np.argmax(val_accuracy)]\n",
    "    print([best_validation_accuracy, accompanied_precision, accompanied_recall])"
   ]
  },
  {
   "cell_type": "markdown",
   "metadata": {},
   "source": [
    "### Seed 2"
   ]
  },
  {
   "cell_type": "code",
   "execution_count": 6,
   "metadata": {},
   "outputs": [
    {
     "name": "stdout",
     "output_type": "stream",
     "text": [
      "WARNING:tensorflow:Using a while_loop for converting RngReadAndSkip\n",
      "WARNING:tensorflow:Using a while_loop for converting Bitcast\n",
      "WARNING:tensorflow:Using a while_loop for converting Bitcast\n",
      "WARNING:tensorflow:Using a while_loop for converting StatelessRandomUniformV2\n",
      "WARNING:tensorflow:Using a while_loop for converting RngReadAndSkip\n",
      "WARNING:tensorflow:Using a while_loop for converting Bitcast\n",
      "WARNING:tensorflow:Using a while_loop for converting Bitcast\n",
      "WARNING:tensorflow:Using a while_loop for converting StatelessRandomUniformV2\n",
      "WARNING:tensorflow:Using a while_loop for converting ImageProjectiveTransformV3\n",
      "Epoch 1/100\n",
      "WARNING:tensorflow:Using a while_loop for converting RngReadAndSkip\n",
      "WARNING:tensorflow:Using a while_loop for converting Bitcast\n",
      "WARNING:tensorflow:Using a while_loop for converting Bitcast\n",
      "WARNING:tensorflow:Using a while_loop for converting StatelessRandomUniformV2\n",
      "WARNING:tensorflow:Using a while_loop for converting RngReadAndSkip\n",
      "WARNING:tensorflow:Using a while_loop for converting Bitcast\n",
      "WARNING:tensorflow:Using a while_loop for converting Bitcast\n",
      "WARNING:tensorflow:Using a while_loop for converting StatelessRandomUniformV2\n",
      "WARNING:tensorflow:Using a while_loop for converting ImageProjectiveTransformV3\n",
      "WARNING:tensorflow:Using a while_loop for converting RngReadAndSkip\n",
      "WARNING:tensorflow:Using a while_loop for converting Bitcast\n",
      "WARNING:tensorflow:Using a while_loop for converting Bitcast\n",
      "WARNING:tensorflow:Using a while_loop for converting StatelessRandomUniformV2\n",
      "WARNING:tensorflow:Using a while_loop for converting RngReadAndSkip\n",
      "WARNING:tensorflow:Using a while_loop for converting Bitcast\n",
      "WARNING:tensorflow:Using a while_loop for converting Bitcast\n",
      "WARNING:tensorflow:Using a while_loop for converting StatelessRandomUniformV2\n",
      "WARNING:tensorflow:Using a while_loop for converting ImageProjectiveTransformV3\n",
      "119/119 [==============================] - ETA: 0s - loss: 0.9725 - accuracy: 0.6702 - precision: 0.7685 - recall: 0.3838\n",
      "Epoch 1: val_accuracy improved from -inf to 0.27761, saving model to ../models/weights\\ResNetv152v2_1.00.00rt.hdf5\n",
      "119/119 [==============================] - 35s 199ms/step - loss: 0.9725 - accuracy: 0.6702 - precision: 0.7685 - recall: 0.3838 - val_loss: 2.3233 - val_accuracy: 0.2776 - val_precision: 0.4627 - val_recall: 1.0000\n",
      "Epoch 2/100\n",
      "119/119 [==============================] - ETA: 0s - loss: 0.4614 - accuracy: 0.7214 - precision: 0.8918 - recall: 0.4157\n",
      "Epoch 2: val_accuracy improved from 0.27761 to 0.48955, saving model to ../models/weights\\ResNetv152v2_1.00.00rt.hdf5\n"
     ]
    },
    {
     "ename": "PermissionError",
     "evalue": "[Errno 13] Unable to create file (unable to open file: name = '../models/weights\\ResNetv152v2_1.00.00rt.hdf5', errno = 13, error message = 'Permission denied', flags = 13, o_flags = 302)",
     "output_type": "error",
     "traceback": [
      "\u001b[1;31m---------------------------------------------------------------------------\u001b[0m",
      "\u001b[1;31mPermissionError\u001b[0m                           Traceback (most recent call last)",
      "Cell \u001b[1;32mIn [6], line 3\u001b[0m\n\u001b[0;32m      1\u001b[0m training_session \u001b[39m=\u001b[39m \u001b[39m30\u001b[39m\n\u001b[0;32m      2\u001b[0m \u001b[39mfor\u001b[39;00m idx \u001b[39min\u001b[39;00m \u001b[39mrange\u001b[39m(training_session):\n\u001b[1;32m----> 3\u001b[0m     history \u001b[39m=\u001b[39m run_random_trial_experiment(X_train_2, Y_train_2)\n\u001b[0;32m      4\u001b[0m     val_accuracy \u001b[39m=\u001b[39m np\u001b[39m.\u001b[39marray(history\u001b[39m.\u001b[39mhistory[\u001b[39m'\u001b[39m\u001b[39mval_accuracy\u001b[39m\u001b[39m'\u001b[39m])\n\u001b[0;32m      5\u001b[0m     val_precision \u001b[39m=\u001b[39m np\u001b[39m.\u001b[39marray(history\u001b[39m.\u001b[39mhistory[\u001b[39m'\u001b[39m\u001b[39mval_precision\u001b[39m\u001b[39m'\u001b[39m])\n",
      "Cell \u001b[1;32mIn [5], line 7\u001b[0m, in \u001b[0;36mrun_random_trial_experiment\u001b[1;34m(X_train, Y_train)\u001b[0m\n\u001b[0;32m      2\u001b[0m optimizer \u001b[39m=\u001b[39m model_development\u001b[39m.\u001b[39mcreate_optimizer(\u001b[39m'\u001b[39m\u001b[39mnadam\u001b[39m\u001b[39m'\u001b[39m)\n\u001b[0;32m      3\u001b[0m resnet152v2 \u001b[39m=\u001b[39m \\\n\u001b[0;32m      4\u001b[0m     model_development\u001b[39m.\u001b[39mresnet152v2(input_shape \u001b[39m=\u001b[39m (\u001b[39m300\u001b[39m, \u001b[39m300\u001b[39m, \u001b[39m3\u001b[39m), weights \u001b[39m=\u001b[39m \u001b[39m'\u001b[39m\u001b[39mimagenet\u001b[39m\u001b[39m'\u001b[39m, freeze_convolutional_base \u001b[39m=\u001b[39m \u001b[39mTrue\u001b[39;00m, display_model_information \u001b[39m=\u001b[39m \u001b[39mFalse\u001b[39;00m)\n\u001b[0;32m      6\u001b[0m history, _ \u001b[39m=\u001b[39m \\\n\u001b[1;32m----> 7\u001b[0m     model_development\u001b[39m.\u001b[39;49mtrain_classification_model(training_phase \u001b[39m=\u001b[39;49m \u001b[39m1\u001b[39;49m, model \u001b[39m=\u001b[39;49m resnet152v2, \n\u001b[0;32m      8\u001b[0m     optimizer \u001b[39m=\u001b[39;49m optimizer, training_metrics \u001b[39m=\u001b[39;49m [\u001b[39m'\u001b[39;49m\u001b[39maccuracy\u001b[39;49m\u001b[39m'\u001b[39;49m, \u001b[39m'\u001b[39;49m\u001b[39mPrecision\u001b[39;49m\u001b[39m'\u001b[39;49m, \u001b[39m'\u001b[39;49m\u001b[39mRecall\u001b[39;49m\u001b[39m'\u001b[39;49m],\n\u001b[0;32m      9\u001b[0m     model_name \u001b[39m=\u001b[39;49m \u001b[39m'\u001b[39;49m\u001b[39mResNetv152v2\u001b[39;49m\u001b[39m'\u001b[39;49m, version \u001b[39m=\u001b[39;49m \u001b[39m'\u001b[39;49m\u001b[39m1.00.00rt\u001b[39;49m\u001b[39m'\u001b[39;49m, \n\u001b[0;32m     10\u001b[0m     X \u001b[39m=\u001b[39;49m np\u001b[39m.\u001b[39;49mstack((X_train_2,) \u001b[39m*\u001b[39;49m \u001b[39m3\u001b[39;49m, axis \u001b[39m=\u001b[39;49m \u001b[39m-\u001b[39;49m\u001b[39m1\u001b[39;49m), Y \u001b[39m=\u001b[39;49m Y_train_2, metric_to_monitor \u001b[39m=\u001b[39;49m \u001b[39m'\u001b[39;49m\u001b[39mval_accuracy\u001b[39;49m\u001b[39m'\u001b[39;49m, \n\u001b[0;32m     11\u001b[0m     no_of_epochs \u001b[39m=\u001b[39;49m \u001b[39m100\u001b[39;49m, batch_size \u001b[39m=\u001b[39;49m \u001b[39m16\u001b[39;49m, validation_split_ratio \u001b[39m=\u001b[39;49m \u001b[39m0.15\u001b[39;49m)\n\u001b[0;32m     13\u001b[0m \u001b[39mreturn\u001b[39;00m history\n",
      "File \u001b[1;32mc:\\Users\\vohuynhq\\OneDrive - Intel Corporation\\Desktop\\Github Desktop\\research.informationsystem.elpv\\notebooks\\..\\utils\\model_development.py:128\u001b[0m, in \u001b[0;36mtrain_classification_model\u001b[1;34m(training_phase, model, optimizer, training_metrics, model_name, version, X, Y, metric_to_monitor, no_of_epochs, batch_size, validation_split_ratio)\u001b[0m\n\u001b[0;32m    125\u001b[0m checkpoint \u001b[39m=\u001b[39m ModelCheckpoint(weight_path, monitor \u001b[39m=\u001b[39m metric_to_monitor, \n\u001b[0;32m    126\u001b[0m     verbose \u001b[39m=\u001b[39m \u001b[39m1\u001b[39m, save_best_only \u001b[39m=\u001b[39m \u001b[39mTrue\u001b[39;00m, mode \u001b[39m=\u001b[39m \u001b[39m'\u001b[39m\u001b[39mmax\u001b[39m\u001b[39m'\u001b[39m)\n\u001b[0;32m    127\u001b[0m callbacks_list \u001b[39m=\u001b[39m [checkpoint]\n\u001b[1;32m--> 128\u001b[0m history \u001b[39m=\u001b[39m model\u001b[39m.\u001b[39;49mfit(X, Y, validation_split \u001b[39m=\u001b[39;49m validation_split_ratio, epochs \u001b[39m=\u001b[39;49m no_of_epochs, \n\u001b[0;32m    129\u001b[0m     batch_size \u001b[39m=\u001b[39;49m batch_size, callbacks \u001b[39m=\u001b[39;49m callbacks_list, verbose \u001b[39m=\u001b[39;49m \u001b[39m1\u001b[39;49m)\n\u001b[0;32m    130\u001b[0m np\u001b[39m.\u001b[39msave(\u001b[39mf\u001b[39m\u001b[39m'\u001b[39m\u001b[39m../models/history/\u001b[39m\u001b[39m{\u001b[39;00mmodel_name\u001b[39m}\u001b[39;00m\u001b[39m_\u001b[39m\u001b[39m{\u001b[39;00mversion\u001b[39m}\u001b[39;00m\u001b[39m'\u001b[39m, history\u001b[39m.\u001b[39mhistory)\n\u001b[0;32m    131\u001b[0m \u001b[39m###\u001b[39;00m\n",
      "File \u001b[1;32mc:\\ProgramData\\Anaconda3\\envs\\tensorflow_latest\\lib\\site-packages\\keras\\utils\\traceback_utils.py:67\u001b[0m, in \u001b[0;36mfilter_traceback.<locals>.error_handler\u001b[1;34m(*args, **kwargs)\u001b[0m\n\u001b[0;32m     65\u001b[0m \u001b[39mexcept\u001b[39;00m \u001b[39mException\u001b[39;00m \u001b[39mas\u001b[39;00m e:  \u001b[39m# pylint: disable=broad-except\u001b[39;00m\n\u001b[0;32m     66\u001b[0m   filtered_tb \u001b[39m=\u001b[39m _process_traceback_frames(e\u001b[39m.\u001b[39m__traceback__)\n\u001b[1;32m---> 67\u001b[0m   \u001b[39mraise\u001b[39;00m e\u001b[39m.\u001b[39mwith_traceback(filtered_tb) \u001b[39mfrom\u001b[39;00m \u001b[39mNone\u001b[39m\n\u001b[0;32m     68\u001b[0m \u001b[39mfinally\u001b[39;00m:\n\u001b[0;32m     69\u001b[0m   \u001b[39mdel\u001b[39;00m filtered_tb\n",
      "File \u001b[1;32mc:\\ProgramData\\Anaconda3\\envs\\tensorflow_latest\\lib\\site-packages\\h5py\\_hl\\files.py:507\u001b[0m, in \u001b[0;36mFile.__init__\u001b[1;34m(self, name, mode, driver, libver, userblock_size, swmr, rdcc_nslots, rdcc_nbytes, rdcc_w0, track_order, fs_strategy, fs_persist, fs_threshold, fs_page_size, page_buf_size, min_meta_keep, min_raw_keep, locking, **kwds)\u001b[0m\n\u001b[0;32m    502\u001b[0m     fapl \u001b[39m=\u001b[39m make_fapl(driver, libver, rdcc_nslots, rdcc_nbytes, rdcc_w0,\n\u001b[0;32m    503\u001b[0m                      locking, page_buf_size, min_meta_keep, min_raw_keep, \u001b[39m*\u001b[39m\u001b[39m*\u001b[39mkwds)\n\u001b[0;32m    504\u001b[0m     fcpl \u001b[39m=\u001b[39m make_fcpl(track_order\u001b[39m=\u001b[39mtrack_order, fs_strategy\u001b[39m=\u001b[39mfs_strategy,\n\u001b[0;32m    505\u001b[0m                      fs_persist\u001b[39m=\u001b[39mfs_persist, fs_threshold\u001b[39m=\u001b[39mfs_threshold,\n\u001b[0;32m    506\u001b[0m                      fs_page_size\u001b[39m=\u001b[39mfs_page_size)\n\u001b[1;32m--> 507\u001b[0m     fid \u001b[39m=\u001b[39m make_fid(name, mode, userblock_size, fapl, fcpl, swmr\u001b[39m=\u001b[39;49mswmr)\n\u001b[0;32m    509\u001b[0m \u001b[39mif\u001b[39;00m \u001b[39misinstance\u001b[39m(libver, \u001b[39mtuple\u001b[39m):\n\u001b[0;32m    510\u001b[0m     \u001b[39mself\u001b[39m\u001b[39m.\u001b[39m_libver \u001b[39m=\u001b[39m libver\n",
      "File \u001b[1;32mc:\\ProgramData\\Anaconda3\\envs\\tensorflow_latest\\lib\\site-packages\\h5py\\_hl\\files.py:226\u001b[0m, in \u001b[0;36mmake_fid\u001b[1;34m(name, mode, userblock_size, fapl, fcpl, swmr)\u001b[0m\n\u001b[0;32m    224\u001b[0m     fid \u001b[39m=\u001b[39m h5f\u001b[39m.\u001b[39mcreate(name, h5f\u001b[39m.\u001b[39mACC_EXCL, fapl\u001b[39m=\u001b[39mfapl, fcpl\u001b[39m=\u001b[39mfcpl)\n\u001b[0;32m    225\u001b[0m \u001b[39melif\u001b[39;00m mode \u001b[39m==\u001b[39m \u001b[39m'\u001b[39m\u001b[39mw\u001b[39m\u001b[39m'\u001b[39m:\n\u001b[1;32m--> 226\u001b[0m     fid \u001b[39m=\u001b[39m h5f\u001b[39m.\u001b[39;49mcreate(name, h5f\u001b[39m.\u001b[39;49mACC_TRUNC, fapl\u001b[39m=\u001b[39;49mfapl, fcpl\u001b[39m=\u001b[39;49mfcpl)\n\u001b[0;32m    227\u001b[0m \u001b[39melif\u001b[39;00m mode \u001b[39m==\u001b[39m \u001b[39m'\u001b[39m\u001b[39ma\u001b[39m\u001b[39m'\u001b[39m:\n\u001b[0;32m    228\u001b[0m     \u001b[39m# Open in append mode (read/write).\u001b[39;00m\n\u001b[0;32m    229\u001b[0m     \u001b[39m# If that fails, create a new file only if it won't clobber an\u001b[39;00m\n\u001b[0;32m    230\u001b[0m     \u001b[39m# existing one (ACC_EXCL)\u001b[39;00m\n\u001b[0;32m    231\u001b[0m     \u001b[39mtry\u001b[39;00m:\n",
      "File \u001b[1;32mh5py\\_objects.pyx:54\u001b[0m, in \u001b[0;36mh5py._objects.with_phil.wrapper\u001b[1;34m()\u001b[0m\n",
      "File \u001b[1;32mh5py\\_objects.pyx:55\u001b[0m, in \u001b[0;36mh5py._objects.with_phil.wrapper\u001b[1;34m()\u001b[0m\n",
      "File \u001b[1;32mh5py\\h5f.pyx:126\u001b[0m, in \u001b[0;36mh5py.h5f.create\u001b[1;34m()\u001b[0m\n",
      "\u001b[1;31mPermissionError\u001b[0m: [Errno 13] Unable to create file (unable to open file: name = '../models/weights\\ResNetv152v2_1.00.00rt.hdf5', errno = 13, error message = 'Permission denied', flags = 13, o_flags = 302)"
     ]
    }
   ],
   "source": [
    "training_session = 30\n",
    "for idx in range(training_session):\n",
    "    history = run_random_trial_experiment(X_train_2, Y_train_2)\n",
    "    val_accuracy = np.array(history.history['val_accuracy'])\n",
    "    val_precision = np.array(history.history['val_precision'])\n",
    "    val_recall = np.array(history.history['val_recall'])\n",
    "    best_validation_accuracy = np.max(val_accuracy, axis = - 1)\n",
    "    accompanied_precision = val_precision[np.argmax(val_accuracy)]\n",
    "    accompanied_recall = val_recall[np.argmax(val_accuracy)]\n",
    "    print([best_validation_accuracy, accompanied_precision, accompanied_recall])"
   ]
  },
  {
   "cell_type": "markdown",
   "metadata": {},
   "source": [
    "### Seed 3"
   ]
  },
  {
   "cell_type": "code",
   "execution_count": null,
   "metadata": {},
   "outputs": [],
   "source": [
    "training_session = 30\n",
    "for idx in range(training_session):\n",
    "    history = run_random_trial_experiment(X_train_3, Y_train_3)\n",
    "    val_accuracy = np.array(history.history['val_accuracy'])\n",
    "    val_precision = np.array(history.history['val_precision'])\n",
    "    val_recall = np.array(history.history['val_recall'])\n",
    "    \n",
    "    best_validation_accuracy = np.max(val_accuracy, axis = - 1)\n",
    "    accompanied_precision = val_precision[np.argmax(val_accuracy)]\n",
    "    accompanied_recall = val_recall[np.argmax(val_accuracy)]\n",
    "    print([best_validation_accuracy, accompanied_precision, accompanied_recall])"
   ]
  },
  {
   "cell_type": "markdown",
   "metadata": {},
   "source": [
    "### Seed 4"
   ]
  },
  {
   "cell_type": "code",
   "execution_count": null,
   "metadata": {},
   "outputs": [],
   "source": [
    "training_session = 30\n",
    "for idx in range(training_session):\n",
    "    history = run_random_trial_experiment(X_train_4, Y_train_4)\n",
    "    val_accuracy = np.array(history.history['val_accuracy'])\n",
    "    val_precision = np.array(history.history['val_precision'])\n",
    "    val_recall = np.array(history.history['val_recall'])\n",
    "    \n",
    "    best_validation_accuracy = np.max(val_accuracy, axis = - 1)\n",
    "    accompanied_precision = val_precision[np.argmax(val_accuracy)]\n",
    "    accompanied_recall = val_recall[np.argmax(val_accuracy)]\n",
    "    print([best_validation_accuracy, accompanied_precision, accompanied_recall])"
   ]
  },
  {
   "cell_type": "markdown",
   "metadata": {},
   "source": [
    "### Seed 5"
   ]
  },
  {
   "cell_type": "code",
   "execution_count": null,
   "metadata": {},
   "outputs": [],
   "source": [
    "training_session = 30\n",
    "for idx in range(training_session):\n",
    "    history = run_random_trial_experiment(X_train_5, Y_train_5)\n",
    "    val_accuracy = np.array(history.history['val_accuracy'])\n",
    "    val_precision = np.array(history.history['val_precision'])\n",
    "    val_recall = np.array(history.history['val_recall'])\n",
    "    \n",
    "    best_validation_accuracy = np.max(val_accuracy, axis = - 1)\n",
    "    accompanied_precision = val_precision[np.argmax(val_accuracy)]\n",
    "    accompanied_recall = val_recall[np.argmax(val_accuracy)]\n",
    "    print([best_validation_accuracy, accompanied_precision, accompanied_recall])"
   ]
  }
 ],
 "metadata": {
  "kernelspec": {
   "display_name": "Python 3.10.4 ('tensorflow_latest')",
   "language": "python",
   "name": "python3"
  },
  "language_info": {
   "codemirror_mode": {
    "name": "ipython",
    "version": 3
   },
   "file_extension": ".py",
   "mimetype": "text/x-python",
   "name": "python",
   "nbconvert_exporter": "python",
   "pygments_lexer": "ipython3",
   "version": "3.10.4"
  },
  "orig_nbformat": 4,
  "vscode": {
   "interpreter": {
    "hash": "7d1c19e37e5f6196bc516d7b965f651cc74a678b65e0e3f127f9e9132621bafc"
   }
  }
 },
 "nbformat": 4,
 "nbformat_minor": 2
}
