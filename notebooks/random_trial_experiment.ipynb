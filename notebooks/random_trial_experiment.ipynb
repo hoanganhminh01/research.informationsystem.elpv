{
 "cells": [
  {
   "cell_type": "code",
   "execution_count": null,
   "metadata": {},
   "outputs": [],
   "source": [
    "import sys\n",
    "import os\n",
    "import numpy as np\n",
    "sys.path.append(os.path.join(os.path.abspath(os.path.dirname(\"__file__\")), '..'))\n",
    "from utils import data_handling, model_development\n",
    "import matplotlib.pyplot as plt\n",
    "from ipywidgets import interact\n",
    "from sklearn.model_selection import train_test_split"
   ]
  },
  {
   "cell_type": "markdown",
   "metadata": {},
   "source": [
    "## Configure the model training policy\n"
   ]
  },
  {
   "cell_type": "code",
   "execution_count": null,
   "metadata": {},
   "outputs": [],
   "source": [
    "model_development.configure_training_policy()"
   ]
  },
  {
   "cell_type": "markdown",
   "metadata": {},
   "source": [
    "## Load data"
   ]
  },
  {
   "cell_type": "code",
   "execution_count": null,
   "metadata": {},
   "outputs": [],
   "source": [
    "cell_images, cell_labels, cell_types = data_handling.load_data_from_file('../data/labels.csv')\n",
    "print([cell_images.shape, len(cell_labels), len(cell_types)])"
   ]
  },
  {
   "cell_type": "markdown",
   "metadata": {},
   "source": [
    "## Prepare data for model training"
   ]
  },
  {
   "cell_type": "code",
   "execution_count": null,
   "metadata": {},
   "outputs": [],
   "source": [
    "cell_images = np.stack((cell_images,) * 3, axis = -1)\n",
    "cell_labels[cell_labels == 0.3333333333333333] = 1.0\n",
    "cell_labels[cell_labels == 0.6666666666666666] = 1.0\n",
    "\n",
    "X_train_1, _ , Y_train_1 , _ = \\\n",
    "    train_test_split(cell_images, cell_labels, test_size = 0.15, random_state = 1)\n",
    "X_train_2, _ , Y_train_2 , _ = \\\n",
    "        train_test_split(cell_images, cell_labels, test_size = 0.15, random_state = 2)\n",
    "X_train_3, _ , Y_train_3, _ = \\\n",
    "    train_test_split(cell_images, cell_labels, test_size = 0.15, random_state = 3)\n",
    "X_train_4, _ , Y_train_4, _ = \\\n",
    "    train_test_split(cell_images, cell_labels, test_size = 0.15, random_state = 4)\n",
    "X_train_5, _ , Y_train_5, _ = \\\n",
    "    train_test_split(cell_images, cell_labels, test_size = 0.15, random_state = 5)\n"
   ]
  },
  {
   "cell_type": "markdown",
   "metadata": {},
   "source": [
    "## Train classification model (only the first phase)"
   ]
  },
  {
   "cell_type": "code",
   "execution_count": null,
   "metadata": {},
   "outputs": [],
   "source": [
    "def run_random_trial_experiment(X_train, Y_train):\n",
    "    optimizer = model_development.create_optimizer('nadam')\n",
    "    resnet152v2 = \\\n",
    "        model_development.resnet152v2(input_shape = (300, 300, 3), weights = 'imagenet', freeze_convolutional_base = True, display_model_information = False)\n",
    "    history, _ = model_development.train_classification_model(1, resnet152v2, optimizer, ['accuracy', 'Precision', 'Recall'], 'ResNet152v2', '1.00.00fs_rt', X_train, Y_train, 'val_accuracy', 100, 16, 0.15)\n",
    "\n",
    "    return history"
   ]
  },
  {
   "cell_type": "markdown",
   "metadata": {},
   "source": [
    "### Seed 1"
   ]
  },
  {
   "cell_type": "raw",
   "metadata": {},
   "source": [
    "training_session = 30\n",
    "seed_1_results = []\n",
    "\n",
    "for idx in range(training_session):\n",
    "    history = run_random_trial_experiment(X_train_1, Y_train_1)\n",
    "    val_accuracy = np.array(history.history['val_accuracy'])\n",
    "    val_precision = np.array(history.history['val_precision'])\n",
    "    val_recall = np.array(history.history['val_recall'])\n",
    "\n",
    "    best_validation_accuracy = np.max(val_accuracy, axis = - 1)\n",
    "    accompanied_precision = val_precision[np.argmax(val_accuracy)]\n",
    "    accompanied_recall = val_recall[np.argmax(val_accuracy)]\n",
    "    seed_1_results.append([best_validation_accuracy, accompanied_precision, accompanied_recall])\n"
   ]
  },
  {
   "cell_type": "markdown",
   "metadata": {},
   "source": [
    "### Seed 2"
   ]
  },
  {
   "cell_type": "raw",
   "metadata": {},
   "source": [
    "training_session = 30\n",
    "seed_2_results = []\n",
    "\n",
    "for idx in range(training_session):\n",
    "    history = run_random_trial_experiment(X_train_2, Y_train_2)\n",
    "    val_accuracy = np.array(history.history['val_accuracy'])\n",
    "    val_precision = np.array(history.history['val_precision'])\n",
    "    val_recall = np.array(history.history['val_recall'])\n",
    "    \n",
    "    best_validation_accuracy = np.max(val_accuracy, axis = - 1)\n",
    "    accompanied_precision = val_precision[np.argmax(val_accuracy)]\n",
    "    accompanied_recall = val_recall[np.argmax(val_accuracy)]\n",
    "    seed_2_results.append([best_validation_accuracy, accompanied_precision, accompanied_recall])\n"
   ]
  },
  {
   "cell_type": "markdown",
   "metadata": {},
   "source": [
    "### Seed 3"
   ]
  },
  {
   "cell_type": "raw",
   "metadata": {},
   "source": [
    "training_session = 30\n",
    "seed_3_results = []\n",
    "\n",
    "for idx in range(training_session):\n",
    "    history = run_random_trial_experiment(X_train_3, Y_train_3)\n",
    "    val_accuracy = np.array(history.history['val_accuracy'])\n",
    "    val_precision = np.array(history.history['val_precision'])\n",
    "    val_recall = np.array(history.history['val_recall'])\n",
    "    \n",
    "    best_validation_accuracy = np.max(val_accuracy, axis = - 1)\n",
    "    accompanied_precision = val_precision[np.argmax(val_accuracy)]\n",
    "    accompanied_recall = val_recall[np.argmax(val_accuracy)]\n",
    "    seed_3_results.append([best_validation_accuracy, accompanied_precision, accompanied_recall])\n"
   ]
  },
  {
   "cell_type": "markdown",
   "metadata": {},
   "source": [
    "### Seed 4"
   ]
  },
  {
   "cell_type": "raw",
   "metadata": {},
   "source": [
    "training_session = 30\n",
    "seed_4_results = []\n",
    "\n",
    "for idx in range(training_session):\n",
    "    history = run_random_trial_experiment(X_train_4, Y_train_4)\n",
    "    val_accuracy = np.array(history.history['val_accuracy'])\n",
    "    val_precision = np.array(history.history['val_precision'])\n",
    "    val_recall = np.array(history.history['val_recall'])\n",
    "    \n",
    "    best_validation_accuracy = np.max(val_accuracy, axis = - 1)\n",
    "    accompanied_precision = val_precision[np.argmax(val_accuracy)]\n",
    "    accompanied_recall = val_recall[np.argmax(val_accuracy)]\n",
    "    seed_4_results.append([best_validation_accuracy, accompanied_precision, accompanied_recall])\n"
   ]
  },
  {
   "cell_type": "markdown",
   "metadata": {},
   "source": [
    "### Seed 5"
   ]
  },
  {
   "cell_type": "code",
   "execution_count": null,
   "metadata": {},
   "outputs": [],
   "source": [
    "training_session = 30\n",
    "seed_5_results = []\n",
    "\n",
    "for idx in range(training_session):\n",
    "    history = run_random_trial_experiment(X_train_5, Y_train_5)\n",
    "    val_accuracy = np.array(history.history['val_accuracy'])\n",
    "    val_precision = np.array(history.history['val_precision'])\n",
    "    val_recall = np.array(history.history['val_recall'])\n",
    "    \n",
    "    best_validation_accuracy = np.max(val_accuracy, axis = - 1)\n",
    "    accompanied_precision = val_precision[np.argmax(val_accuracy)]\n",
    "    accompanied_recall = val_recall[np.argmax(val_accuracy)]\n",
    "    seed_5_results.append([best_validation_accuracy, accompanied_precision, accompanied_recall])\n"
   ]
  }
 ],
 "metadata": {
  "kernelspec": {
   "display_name": "Python 3.10.4 ('tensorflow_latest')",
   "language": "python",
   "name": "python3"
  },
  "language_info": {
   "codemirror_mode": {
    "name": "ipython",
    "version": 3
   },
   "file_extension": ".py",
   "mimetype": "text/x-python",
   "name": "python",
   "nbconvert_exporter": "python",
   "pygments_lexer": "ipython3",
   "version": "3.10.4"
  },
  "orig_nbformat": 4,
  "vscode": {
   "interpreter": {
    "hash": "7d1c19e37e5f6196bc516d7b965f651cc74a678b65e0e3f127f9e9132621bafc"
   }
  }
 },
 "nbformat": 4,
 "nbformat_minor": 2
}
