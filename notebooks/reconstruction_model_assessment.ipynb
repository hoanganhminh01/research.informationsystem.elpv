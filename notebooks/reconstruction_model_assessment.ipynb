{
 "cells": [
  {
   "cell_type": "code",
   "execution_count": 1,
   "metadata": {},
   "outputs": [],
   "source": [
    "import os\n",
    "import sys\n",
    "sys.path.append(os.path.join(os.path.abspath(os.path.dirname(\"__file__\")), '..'))\n",
    "import numpy as np\n",
    "import matplotlib.pyplot as plt\n",
    "from matplotlib.ticker import AutoMinorLocator\n",
    "from utils import data_handling, model_assessment\n",
    "from ipywidgets import interact"
   ]
  },
  {
   "cell_type": "markdown",
   "metadata": {},
   "source": [
    "## Setup visualization settings"
   ]
  },
  {
   "cell_type": "code",
   "execution_count": 2,
   "metadata": {},
   "outputs": [],
   "source": [
    "plt.style.use('seaborn-paper')\n",
    "plt.rcParams['text.usetex'] = True\n",
    "plt.rcParams['font.family'] = 'Helvetica'\n",
    "plt.rcParams['font.size'] = 15\n",
    "plt.rcParams['legend.fontsize'] = 18\n",
    "plt.rcParams['xtick.direction'] = 'in'\n",
    "plt.rcParams['ytick.direction'] = 'in'\n",
    "plt.rcParams['xtick.major.size'] = 5.0\n",
    "plt.rcParams['xtick.minor.size'] = 3.0\n",
    "plt.rcParams['ytick.major.size'] = 5.0\n",
    "plt.rcParams['ytick.minor.size'] = 3.0\n",
    "plt.rcParams['axes.linewidth'] = 0.8\n",
    "plt.rcParams['legend.handlelength'] = 2.0\n",
    "minor_locator = AutoMinorLocator(4)"
   ]
  },
  {
   "cell_type": "markdown",
   "metadata": {},
   "source": [
    "## Load and prepare test data"
   ]
  },
  {
   "cell_type": "code",
   "execution_count": 3,
   "metadata": {},
   "outputs": [],
   "source": [
    "cell_images, cell_labels, cell_types = data_handling.load_data_from_file('../data/labels.csv')\n",
    "\n",
    "train_test_split = int(0.85 * cell_images.shape[0])\n",
    "X_test, Y_test, Z_test = \\\n",
    "    cell_images[train_test_split : ], \\\n",
    "    cell_labels[train_test_split : ], cell_types[train_test_split : ]\n",
    "X_test, Y_test, Z_test = data_handling.preprocess_data(X_test, Y_test, Z_test)"
   ]
  },
  {
   "cell_type": "markdown",
   "metadata": {},
   "source": [
    "## Assess reconstruction models' capability"
   ]
  },
  {
   "cell_type": "code",
   "execution_count": 5,
   "metadata": {},
   "outputs": [
    {
     "data": {
      "application/vnd.jupyter.widget-view+json": {
       "model_id": "3f26094978d1424cacaf9fcb363c0ddf",
       "version_major": 2,
       "version_minor": 0
      },
      "text/plain": [
       "interactive(children=(IntSlider(value=0, description='n', max=393), Output()), _dom_classes=('widget-interact'…"
      ]
     },
     "metadata": {},
     "output_type": "display_data"
    }
   ],
   "source": [
    "@interact(n = (0, X_test.shape[0] - 1))\n",
    "def display_image(n = 0):\n",
    "    target_image = X_test[n]\n",
    "    heatmap , reconstructed_image, score = \\\n",
    "        model_assessment.compute_heatmap('../models/weights/CAE_VGG19_1.00.00_ss.hdf5', target_image)\n",
    "    print(Y_test[n])\n",
    "    print(score)\n",
    "    fig, axs = plt.subplots(1, 3, figsize = (10, 5))\n",
    "    axs[0].imshow(target_image)\n",
    "    axs[0].set_title(f'Input Image - Cell Type:{Z_test[n]}')\n",
    "    axs[1].imshow(reconstructed_image[0].astype('uint8'))\n",
    "    axs[1].set_title(f'Reconstructed Image')\n",
    "    axs[2].imshow(heatmap, cmap = 'jet')\n",
    "    axs[2].set_title(f'Heatmap')\n",
    "    plt.tight_layout()\n",
    "\n",
    "    return None "
   ]
  }
 ],
 "metadata": {
  "kernelspec": {
   "display_name": "Python 3.10.4 ('tensorflow_latest')",
   "language": "python",
   "name": "python3"
  },
  "language_info": {
   "codemirror_mode": {
    "name": "ipython",
    "version": 3
   },
   "file_extension": ".py",
   "mimetype": "text/x-python",
   "name": "python",
   "nbconvert_exporter": "python",
   "pygments_lexer": "ipython3",
   "version": "3.10.4"
  },
  "orig_nbformat": 4,
  "vscode": {
   "interpreter": {
    "hash": "7d1c19e37e5f6196bc516d7b965f651cc74a678b65e0e3f127f9e9132621bafc"
   }
  }
 },
 "nbformat": 4,
 "nbformat_minor": 2
}
