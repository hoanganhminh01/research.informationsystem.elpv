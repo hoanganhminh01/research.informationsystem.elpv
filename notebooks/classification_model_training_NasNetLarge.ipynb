{
 "cells": [
  {
   "cell_type": "code",
   "execution_count": 1,
   "metadata": {},
   "outputs": [],
   "source": [
    "import sys\n",
    "import os\n",
    "sys.path.append(os.path.join(os.path.abspath(os.path.dirname(\"__file__\")), '..'))\n",
    "from utils import data_handling, model_development\n",
    "import matplotlib.pyplot as plt\n",
    "from ipywidgets import interact"
   ]
  },
  {
   "cell_type": "code",
   "execution_count": 2,
   "metadata": {},
   "outputs": [],
   "source": [
    "## Configure the model training policy\n",
    "model_development.configure_training_policy()"
   ]
  },
  {
   "cell_type": "code",
   "execution_count": 3,
   "metadata": {},
   "outputs": [
    {
     "ename": "TypeError",
     "evalue": "load_data_from_file() takes 1 positional argument but 2 were given",
     "output_type": "error",
     "traceback": [
      "\u001b[1;31m---------------------------------------------------------------------------\u001b[0m",
      "\u001b[1;31mTypeError\u001b[0m                                 Traceback (most recent call last)",
      "\u001b[1;32mc:\\Users\\Admin\\Documents\\GitHub\\research.informationsystem.elpv\\notebooks\\classification_model_training_NasNetLarge.ipynb Cell 3\u001b[0m in \u001b[0;36m<cell line: 2>\u001b[1;34m()\u001b[0m\n\u001b[0;32m      <a href='vscode-notebook-cell:/c%3A/Users/Admin/Documents/GitHub/research.informationsystem.elpv/notebooks/classification_model_training_NasNetLarge.ipynb#W2sZmlsZQ%3D%3D?line=0'>1</a>\u001b[0m \u001b[39m### Load and preprocess data\u001b[39;00m\n\u001b[1;32m----> <a href='vscode-notebook-cell:/c%3A/Users/Admin/Documents/GitHub/research.informationsystem.elpv/notebooks/classification_model_training_NasNetLarge.ipynb#W2sZmlsZQ%3D%3D?line=1'>2</a>\u001b[0m cell_images, cell_labels, cell_types \u001b[39m=\u001b[39m data_handling\u001b[39m.\u001b[39;49mload_data_from_file(\u001b[39m'\u001b[39;49m\u001b[39m../data/labels.csv\u001b[39;49m\u001b[39m'\u001b[39;49m, \u001b[39mTrue\u001b[39;49;00m)\n\u001b[0;32m      <a href='vscode-notebook-cell:/c%3A/Users/Admin/Documents/GitHub/research.informationsystem.elpv/notebooks/classification_model_training_NasNetLarge.ipynb#W2sZmlsZQ%3D%3D?line=2'>3</a>\u001b[0m \u001b[39mprint\u001b[39m([cell_images\u001b[39m.\u001b[39mshape, \u001b[39mlen\u001b[39m(cell_labels), \u001b[39mlen\u001b[39m(cell_types)])\n\u001b[0;32m      <a href='vscode-notebook-cell:/c%3A/Users/Admin/Documents/GitHub/research.informationsystem.elpv/notebooks/classification_model_training_NasNetLarge.ipynb#W2sZmlsZQ%3D%3D?line=4'>5</a>\u001b[0m \u001b[39m@interact\u001b[39m(n \u001b[39m=\u001b[39m (\u001b[39m0\u001b[39m, cell_images\u001b[39m.\u001b[39mshape[\u001b[39m0\u001b[39m] \u001b[39m-\u001b[39m \u001b[39m1\u001b[39m))\n\u001b[0;32m      <a href='vscode-notebook-cell:/c%3A/Users/Admin/Documents/GitHub/research.informationsystem.elpv/notebooks/classification_model_training_NasNetLarge.ipynb#W2sZmlsZQ%3D%3D?line=5'>6</a>\u001b[0m \u001b[39mdef\u001b[39;00m \u001b[39mdisplay_data\u001b[39m(n \u001b[39m=\u001b[39m \u001b[39m0\u001b[39m):\n",
      "\u001b[1;31mTypeError\u001b[0m: load_data_from_file() takes 1 positional argument but 2 were given"
     ]
    }
   ],
   "source": [
    "### Load and preprocess data\n",
    "cell_images, cell_labels, cell_types = data_handling.load_data_from_file('../data/labels.csv')\n",
    "print([cell_images.shape, len(cell_labels), len(cell_types)])\n",
    "\n",
    "@interact(n = (0, cell_images.shape[0] - 1))\n",
    "def display_data(n = 0):\n",
    "    fig, axs = plt.subplots()\n",
    "    axs.imshow(cell_images[n], cmap = 'gray')\n",
    "    axs.set_title(f'Class: {cell_labels[n]} - Type: {cell_types[n]}')\n",
    "    return None"
   ]
  },
  {
   "cell_type": "code",
   "execution_count": null,
   "metadata": {},
   "outputs": [],
   "source": [
    "### Prepare data for model training\n",
    "train_test_split = int(0.85 * cell_images.shape[0])\n",
    "X_train, Y_train, Z_train  = data_handling.preprocess_data(\\\n",
    "    cell_images[: train_test_split], \n",
    "    cell_labels[: train_test_split], \n",
    "    cell_types[: train_test_split])\n",
    "X_test, Y_test, Z_test = \\\n",
    "    cell_images[train_test_split : ], \\\n",
    "    cell_labels[train_test_split : ], cell_types[train_test_split : ]\n",
    "\n",
    "print([X_train.shape, len(Y_train), len(Z_train)])\n",
    "print([X_test.shape, len(Y_test), len(Z_test)])"
   ]
  },
  {
   "cell_type": "code",
   "execution_count": null,
   "metadata": {},
   "outputs": [],
   "source": [
    "### Train classification model (first phase)\n",
    "optimizer = model_development.create_optimizer('nadam')\n",
    "nasnetlarge = \\\n",
    "    model_development.nasnetlarge(input_shape = (300, 300, 3), weights = 'imagenet', freeze_convolutional_base = True, display_model_information = False)\n",
    "\n",
    "history, training_time = model_development.train_classification_model(\\\n",
    "    training_phase = 1, model = nasnetlarge, \n",
    "    optimizer = optimizer, training_metrics = ['accuracy', 'Precision', 'Recall'],\n",
    "    model_name = 'NasNetLarge', version = '1.00.00_fs', \n",
    "    X = X_train, Y = Y_train, metric_to_monitor = 'val_accuracy', \n",
    "    no_of_epochs = 200, batch_size = 16, validation_split_ratio = 0.15)"
   ]
  },
  {
   "cell_type": "code",
   "execution_count": null,
   "metadata": {},
   "outputs": [],
   "source": [
    "## Train classification model (second phase)\n",
    "optimizer = model_development.create_optimizer('adam')\n",
    "history, training_time = \\\n",
    "    model_development.train_classification_model(training_phase = 2, \n",
    "    model = '../models/weights/NasNetLarge_1.00.00_fs.hdf5', \n",
    "    optimizer = optimizer, training_metrics = ['accuracy', 'Precision', 'Recall'],\n",
    "    model_name = 'NasNetLarge', version = '1.00.00_ss', \n",
    "    X = X_train, Y = Y_train, metric_to_monitor = 'val_accuracy', \n",
    "    no_of_epochs = 200, batch_size = 16, validation_split_ratio = 0.15)"
   ]
  }
 ],
 "metadata": {
  "kernelspec": {
   "display_name": "Python 3.10.4 ('tensorflow_latest')",
   "language": "python",
   "name": "python3"
  },
  "language_info": {
   "codemirror_mode": {
    "name": "ipython",
    "version": 3
   },
   "file_extension": ".py",
   "mimetype": "text/x-python",
   "name": "python",
   "nbconvert_exporter": "python",
   "pygments_lexer": "ipython3",
   "version": "3.10.4"
  },
  "orig_nbformat": 4,
  "vscode": {
   "interpreter": {
    "hash": "7d1c19e37e5f6196bc516d7b965f651cc74a678b65e0e3f127f9e9132621bafc"
   }
  }
 },
 "nbformat": 4,
 "nbformat_minor": 2
}
