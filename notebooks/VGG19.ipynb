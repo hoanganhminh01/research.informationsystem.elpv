{
 "cells": [
  {
   "cell_type": "code",
   "execution_count": 1,
   "metadata": {},
   "outputs": [],
   "source": [
    "import sys\n",
    "import os\n",
    "sys.path.append(os.path.join(os.path.abspath(os.path.dirname(\"__file__\")), '..'))\n",
    "from utils import data_handling, model_development\n",
    "import matplotlib.pyplot as plt\n",
    "from ipywidgets import interact"
   ]
  },
  {
   "cell_type": "code",
   "execution_count": 2,
   "metadata": {},
   "outputs": [],
   "source": [
    "##\n",
    "# Configure the model training policy:\n",
    "#\n",
    "model_development.configure_training_policy()"
   ]
  },
  {
   "cell_type": "code",
   "execution_count": 3,
   "metadata": {},
   "outputs": [
    {
     "name": "stdout",
     "output_type": "stream",
     "text": [
      "[(2624, 300, 300), 2624, 2624]\n",
      "[(2624, 300, 300, 3), 2624, 2624]\n"
     ]
    },
    {
     "data": {
      "application/vnd.jupyter.widget-view+json": {
       "model_id": "972ba7063c8d48d3a63c3bb67caf4d13",
       "version_major": 2,
       "version_minor": 0
      },
      "text/plain": [
       "interactive(children=(IntSlider(value=0, description='n', max=2623), Output()), _dom_classes=('widget-interact…"
      ]
     },
     "metadata": {},
     "output_type": "display_data"
    },
    {
     "data": {
      "application/vnd.jupyter.widget-view+json": {
       "model_id": "32322314cd894e87980e8bd8eabdd77f",
       "version_major": 2,
       "version_minor": 0
      },
      "text/plain": [
       "interactive(children=(IntSlider(value=0, description='n', max=2623), Output()), _dom_classes=('widget-interact…"
      ]
     },
     "metadata": {},
     "output_type": "display_data"
    }
   ],
   "source": [
    "##\n",
    "# Load and preprocess data:\n",
    "#\n",
    "cell_images, cell_labels, cell_types = data_handling.load_data_from_file('../data/labels.csv', True)\n",
    "X, Y, Z = data_handling.preprocess_data(cell_images, cell_labels, cell_types)\n",
    "\n",
    "print([cell_images.shape, len(cell_labels), len(cell_types)])\n",
    "print([X.shape, len(Y), len(Z)])\n",
    "\n",
    "@interact(n = (0, cell_images.shape[0] - 1))\n",
    "def display_data(n = 0):\n",
    "    fig, axs = plt.subplots()\n",
    "    axs.imshow(cell_images[n], cmap = 'gray')\n",
    "    axs.set_title(f'Class: {cell_labels[n]} - Type: {cell_types[n]}')\n",
    "    return None\n",
    "\n",
    "@interact(n = (0, X.shape[0] - 1))\n",
    "def display_data(n = 0):\n",
    "    fig, axs = plt.subplots()\n",
    "    axs.imshow(X[n], cmap = 'gray')\n",
    "    axs.set_title(f'Class: {Y[n]} - Type: {Z[n]}')\n",
    "    return None"
   ]
  },
  {
   "cell_type": "code",
   "execution_count": 4,
   "metadata": {},
   "outputs": [],
   "source": [
    "##\n",
    "# Prepare data for model training:\n",
    "#\n",
    "X_train, Y_train, Z_train = X[: 2000], Y[: 2000], Z[: 2000]\n",
    "X_val, Y_val, Z_val = X[2000 : ], Y[2000 : ], Z[2000 : ]"
   ]
  },
  {
   "cell_type": "code",
   "execution_count": 5,
   "metadata": {},
   "outputs": [
    {
     "name": "stdout",
     "output_type": "stream",
     "text": [
      "WARNING:tensorflow:Using a while_loop for converting RngReadAndSkip\n",
      "WARNING:tensorflow:Using a while_loop for converting Bitcast\n",
      "WARNING:tensorflow:Using a while_loop for converting Bitcast\n",
      "WARNING:tensorflow:Using a while_loop for converting StatelessRandomUniformV2\n",
      "WARNING:tensorflow:Using a while_loop for converting RngReadAndSkip\n",
      "WARNING:tensorflow:Using a while_loop for converting Bitcast\n",
      "WARNING:tensorflow:Using a while_loop for converting Bitcast\n",
      "WARNING:tensorflow:Using a while_loop for converting StatelessRandomUniformV2\n",
      "WARNING:tensorflow:Using a while_loop for converting ImageProjectiveTransformV3\n",
      "Model: \"VGG19\"\n",
      "_________________________________________________________________\n",
      " Layer (type)                Output Shape              Param #   \n",
      "=================================================================\n",
      " inputs (InputLayer)         [(None, 300, 300, 3)]     0         \n",
      "                                                                 \n",
      " rescaling (Rescaling)       (None, 300, 300, 3)       0         \n",
      "                                                                 \n",
      " random_flip (RandomFlip)    (None, 300, 300, 3)       0         \n",
      "                                                                 \n",
      " random_rotation (RandomRota  (None, 300, 300, 3)      0         \n",
      " tion)                                                           \n",
      "                                                                 \n",
      " random_zoom (RandomZoom)    (None, 300, 300, 3)       0         \n",
      "                                                                 \n",
      " random_translation (RandomT  (None, 300, 300, 3)      0         \n",
      " ranslation)                                                     \n",
      "                                                                 \n",
      " block1_conv1 (Conv2D)       (None, 300, 300, 64)      1792      \n",
      "                                                                 \n",
      " block1_conv2 (Conv2D)       (None, 300, 300, 64)      36928     \n",
      "                                                                 \n",
      " block1_pool (MaxPooling2D)  (None, 150, 150, 64)      0         \n",
      "                                                                 \n",
      " block2_conv1 (Conv2D)       (None, 150, 150, 128)     73856     \n",
      "                                                                 \n",
      " block2_conv2 (Conv2D)       (None, 150, 150, 128)     147584    \n",
      "                                                                 \n",
      " block2_pool (MaxPooling2D)  (None, 75, 75, 128)       0         \n",
      "                                                                 \n",
      " block3_conv1 (Conv2D)       (None, 75, 75, 256)       295168    \n",
      "                                                                 \n",
      " block3_conv2 (Conv2D)       (None, 75, 75, 256)       590080    \n",
      "                                                                 \n",
      " block3_conv3 (Conv2D)       (None, 75, 75, 256)       590080    \n",
      "                                                                 \n",
      " block3_conv4 (Conv2D)       (None, 75, 75, 256)       590080    \n",
      "                                                                 \n",
      " block3_pool (MaxPooling2D)  (None, 37, 37, 256)       0         \n",
      "                                                                 \n",
      " block4_conv1 (Conv2D)       (None, 37, 37, 512)       1180160   \n",
      "                                                                 \n",
      " block4_conv2 (Conv2D)       (None, 37, 37, 512)       2359808   \n",
      "                                                                 \n",
      " block4_conv3 (Conv2D)       (None, 37, 37, 512)       2359808   \n",
      "                                                                 \n",
      " block4_conv4 (Conv2D)       (None, 37, 37, 512)       2359808   \n",
      "                                                                 \n",
      " block4_pool (MaxPooling2D)  (None, 18, 18, 512)       0         \n",
      "                                                                 \n",
      " block5_conv1 (Conv2D)       (None, 18, 18, 512)       2359808   \n",
      "                                                                 \n",
      " block5_conv2 (Conv2D)       (None, 18, 18, 512)       2359808   \n",
      "                                                                 \n",
      " block5_conv3 (Conv2D)       (None, 18, 18, 512)       2359808   \n",
      "                                                                 \n",
      " block5_conv4 (Conv2D)       (None, 18, 18, 512)       2359808   \n",
      "                                                                 \n",
      " block5_pool (MaxPooling2D)  (None, 9, 9, 512)         0         \n",
      "                                                                 \n",
      " globavgpool (GlobalAverageP  (None, 512)              0         \n",
      " ooling2D)                                                       \n",
      "                                                                 \n",
      " dense1 (Dense)              (None, 4096)              2101248   \n",
      "                                                                 \n",
      " dense2 (Dense)              (None, 4096)              16781312  \n",
      "                                                                 \n",
      " dense3 (Dense)              (None, 1000)              4097000   \n",
      "                                                                 \n",
      " dense4 (Dense)              (None, 512)               512512    \n",
      "                                                                 \n",
      " outputs (Dense)             (None, 1)                 513       \n",
      "                                                                 \n",
      "=================================================================\n",
      "Total params: 43,516,969\n",
      "Trainable params: 23,492,585\n",
      "Non-trainable params: 20,024,384\n",
      "_________________________________________________________________\n",
      "Epoch 1/10\n",
      "WARNING:tensorflow:Using a while_loop for converting RngReadAndSkip\n",
      "WARNING:tensorflow:Using a while_loop for converting Bitcast\n",
      "WARNING:tensorflow:Using a while_loop for converting Bitcast\n",
      "WARNING:tensorflow:Using a while_loop for converting StatelessRandomUniformV2\n",
      "WARNING:tensorflow:Using a while_loop for converting RngReadAndSkip\n",
      "WARNING:tensorflow:Using a while_loop for converting Bitcast\n",
      "WARNING:tensorflow:Using a while_loop for converting Bitcast\n",
      "WARNING:tensorflow:Using a while_loop for converting StatelessRandomUniformV2\n",
      "WARNING:tensorflow:Using a while_loop for converting ImageProjectiveTransformV3\n",
      "WARNING:tensorflow:Using a while_loop for converting RngReadAndSkip\n",
      "WARNING:tensorflow:Using a while_loop for converting Bitcast\n",
      "WARNING:tensorflow:Using a while_loop for converting Bitcast\n",
      "WARNING:tensorflow:Using a while_loop for converting StatelessRandomUniformV2\n",
      "WARNING:tensorflow:Using a while_loop for converting RngReadAndSkip\n",
      "WARNING:tensorflow:Using a while_loop for converting Bitcast\n",
      "WARNING:tensorflow:Using a while_loop for converting Bitcast\n",
      "WARNING:tensorflow:Using a while_loop for converting StatelessRandomUniformV2\n",
      "WARNING:tensorflow:Using a while_loop for converting ImageProjectiveTransformV3\n",
      "399/400 [============================>.] - ETA: 0s - loss: 0.7262 - accuracy: 0.5489 - precision: 0.4594 - recall: 0.2891\n",
      "Epoch 1: val_accuracy improved from -inf to 0.61250, saving model to weights\\VGG19_20221001.hdf5\n",
      "400/400 [==============================] - 23s 44ms/step - loss: 0.7271 - accuracy: 0.5481 - precision: 0.4594 - recall: 0.2878 - val_loss: 0.6628 - val_accuracy: 0.6125 - val_precision: 0.0000e+00 - val_recall: 0.0000e+00\n",
      "Epoch 2/10\n",
      "399/400 [============================>.] - ETA: 0s - loss: 0.6868 - accuracy: 0.5576 - precision: 0.4757 - recall: 0.2707\n",
      "Epoch 2: val_accuracy did not improve from 0.61250\n",
      "400/400 [==============================] - 17s 43ms/step - loss: 0.6866 - accuracy: 0.5581 - precision: 0.4757 - recall: 0.2703 - val_loss: 0.6510 - val_accuracy: 0.6125 - val_precision: 0.0000e+00 - val_recall: 0.0000e+00\n",
      "Epoch 3/10\n",
      "399/400 [============================>.] - ETA: 0s - loss: 0.6794 - accuracy: 0.5783 - precision: 0.5196 - recall: 0.2892\n",
      "Epoch 3: val_accuracy improved from 0.61250 to 0.63000, saving model to weights\\VGG19_20221001.hdf5\n",
      "400/400 [==============================] - 17s 43ms/step - loss: 0.6791 - accuracy: 0.5794 - precision: 0.5196 - recall: 0.2892 - val_loss: 0.6559 - val_accuracy: 0.6300 - val_precision: 1.0000 - val_recall: 0.0452\n",
      "Epoch 4/10\n",
      "399/400 [============================>.] - ETA: 0s - loss: 0.6743 - accuracy: 0.6015 - precision: 0.5718 - recall: 0.3009\n",
      "Epoch 4: val_accuracy improved from 0.63000 to 0.64000, saving model to weights\\VGG19_20221001.hdf5\n",
      "400/400 [==============================] - 17s 43ms/step - loss: 0.6745 - accuracy: 0.6012 - precision: 0.5687 - recall: 0.3009 - val_loss: 0.6540 - val_accuracy: 0.6400 - val_precision: 0.5333 - val_recall: 0.5677\n",
      "Epoch 5/10\n",
      "399/400 [============================>.] - ETA: 0s - loss: 0.6701 - accuracy: 0.6053 - precision: 0.5769 - recall: 0.3061\n",
      "Epoch 5: val_accuracy improved from 0.64000 to 0.67250, saving model to weights\\VGG19_20221001.hdf5\n",
      "400/400 [==============================] - 17s 42ms/step - loss: 0.6704 - accuracy: 0.6050 - precision: 0.5769 - recall: 0.3052 - val_loss: 0.6212 - val_accuracy: 0.6725 - val_precision: 0.6224 - val_recall: 0.3935\n",
      "Epoch 6/10\n",
      "399/400 [============================>.] - ETA: 0s - loss: 0.6567 - accuracy: 0.6078 - precision: 0.5852 - recall: 0.3003\n",
      "Epoch 6: val_accuracy did not improve from 0.67250\n",
      "400/400 [==============================] - 16s 41ms/step - loss: 0.6565 - accuracy: 0.6081 - precision: 0.5859 - recall: 0.3023 - val_loss: 0.6410 - val_accuracy: 0.6350 - val_precision: 0.5241 - val_recall: 0.6323\n",
      "Epoch 7/10\n",
      "399/400 [============================>.] - ETA: 0s - loss: 0.6444 - accuracy: 0.6316 - precision: 0.6244 - recall: 0.3586\n",
      "Epoch 7: val_accuracy did not improve from 0.67250\n",
      "400/400 [==============================] - 16s 40ms/step - loss: 0.6438 - accuracy: 0.6325 - precision: 0.6263 - recall: 0.3605 - val_loss: 0.6416 - val_accuracy: 0.6300 - val_precision: 1.0000 - val_recall: 0.0452\n",
      "Epoch 8/10\n",
      "399/400 [============================>.] - ETA: 0s - loss: 0.6541 - accuracy: 0.6178 - precision: 0.6380 - recall: 0.2591\n",
      "Epoch 8: val_accuracy did not improve from 0.67250\n",
      "400/400 [==============================] - 16s 41ms/step - loss: 0.6540 - accuracy: 0.6181 - precision: 0.6380 - recall: 0.2587 - val_loss: 0.6432 - val_accuracy: 0.6150 - val_precision: 1.0000 - val_recall: 0.0065\n",
      "Epoch 9/10\n",
      "399/400 [============================>.] - ETA: 0s - loss: 0.6415 - accuracy: 0.6366 - precision: 0.6529 - recall: 0.3246\n",
      "Epoch 9: val_accuracy did not improve from 0.67250\n",
      "400/400 [==============================] - 16s 41ms/step - loss: 0.6419 - accuracy: 0.6350 - precision: 0.6529 - recall: 0.3227 - val_loss: 0.6184 - val_accuracy: 0.6475 - val_precision: 1.0000 - val_recall: 0.0903\n",
      "Epoch 10/10\n",
      "399/400 [============================>.] - ETA: 0s - loss: 0.6391 - accuracy: 0.6441 - precision: 0.6686 - recall: 0.3387\n",
      "Epoch 10: val_accuracy improved from 0.67250 to 0.67500, saving model to weights\\VGG19_20221001.hdf5\n",
      "400/400 [==============================] - 17s 42ms/step - loss: 0.6385 - accuracy: 0.6444 - precision: 0.6705 - recall: 0.3401 - val_loss: 0.6096 - val_accuracy: 0.6750 - val_precision: 0.5714 - val_recall: 0.6452\n"
     ]
    }
   ],
   "source": [
    "##\n",
    "# Train classification model:\n",
    "#\n",
    "vgg19 = model_development.vgg19(input_shape = (300, 300, 3), display_model_information = True)\n",
    "history, training_time = model_development.train_classification_model(model = vgg19, \n",
    "    model_name = 'VGG19', version = '20221001', \n",
    "    X = X_train, Y = Y_train, metric_to_monitor = 'val_accuracy', \n",
    "    no_of_epochs = 10, batch_size = 4, validation_split_ratio = 0.2)"
   ]
  }
 ],
 "metadata": {
  "kernelspec": {
   "display_name": "Python 3.10.4 ('tensorflow_latest')",
   "language": "python",
   "name": "python3"
  },
  "language_info": {
   "codemirror_mode": {
    "name": "ipython",
    "version": 3
   },
   "file_extension": ".py",
   "mimetype": "text/x-python",
   "name": "python",
   "nbconvert_exporter": "python",
   "pygments_lexer": "ipython3",
   "version": "3.10.4"
  },
  "orig_nbformat": 4,
  "vscode": {
   "interpreter": {
    "hash": "7d1c19e37e5f6196bc516d7b965f651cc74a678b65e0e3f127f9e9132621bafc"
   }
  }
 },
 "nbformat": 4,
 "nbformat_minor": 2
}
