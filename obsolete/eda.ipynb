{
 "cells": [
  {
   "cell_type": "code",
   "execution_count": null,
   "metadata": {},
   "outputs": [],
   "source": []
  },
  {
   "cell_type": "code",
   "execution_count": null,
   "id": "77af2f9a-2b8e-4877-9d2e-c881c5d9b2fd",
   "metadata": {},
   "outputs": [],
   "source": [
    "model = foz.load_zoo_model(\"resnet50-imagenet-torch\")\n",
    "print(model.has_embeddings)"
   ]
  },
  {
   "cell_type": "code",
   "execution_count": null,
   "id": "33492776",
   "metadata": {},
   "outputs": [],
   "source": [
    "dataset = fo.load_dataset('dataset')\n",
    "dataset.delete()"
   ]
  },
  {
   "cell_type": "code",
   "execution_count": null,
   "id": "2cdadb5b-ce50-4fee-9dd4-3fc2f46c3f41",
   "metadata": {},
   "outputs": [],
   "source": [
    "dataset = fo.Dataset('dataset')\n",
    "for im_path in image_list:\n",
    "    im_name = str('images/' + im_path.name)\n",
    "    sample = fo.Sample(filepath=str(im_path))\n",
    "    im_data = metadata[metadata['im_path'] == im_name]\n",
    "    sample['label'] = fo.Classification(label=im_data['class'].values[0])\n",
    "    dataset.add_sample(sample)\n",
    "\n",
    "#dataset = fo.load_dataset('dataset')\n",
    "dataset.persistent = True\n",
    "dataset"
   ]
  },
  {
   "cell_type": "code",
   "execution_count": null,
   "id": "b49c7d01-4ac0-4c45-b111-8f0546f20883",
   "metadata": {},
   "outputs": [],
   "source": [
    "embeddings = dataset.compute_embeddings(model)\n",
    "results = fob.compute_visualization(\n",
    "    dataset,\n",
    "    embeddings=embeddings,\n",
    "    num_dims=2,\n",
    "    brain_key=\"image_embeddings\",\n",
    "    verbose=True,\n",
    "    seed=51,\n",
    "    method='umap'\n",
    ")"
   ]
  },
  {
   "cell_type": "code",
   "execution_count": null,
   "id": "db1405a0-4198-46a4-9a13-45d82eecf142",
   "metadata": {},
   "outputs": [],
   "source": [
    "session = fo.launch_app(dataset)"
   ]
  },
  {
   "cell_type": "code",
   "execution_count": null,
   "id": "3bffc9d7",
   "metadata": {},
   "outputs": [],
   "source": [
    "labels = metadata['class']\n",
    "plot = results.visualize(labels=labels)\n",
    "session.plots.attach(plot)\n",
    "plot.show(height=720)"
   ]
  },
  {
   "cell_type": "markdown",
   "id": "d5af847a",
   "metadata": {},
   "source": [
    "### Embedding without LCB and MCB"
   ]
  },
  {
   "cell_type": "code",
   "execution_count": null,
   "id": "303fca94",
   "metadata": {},
   "outputs": [],
   "source": [
    "metadata = pd.read_csv(labels_path, delim_whitespace=True, header=None)\n",
    "metadata.columns = ['im_path', 'quality', 'panel type']\n",
    "filtered_images = metadata[(metadata['quality'] > 0) & (metadata['quality'] < 1)]['im_path']\n",
    "metadata = metadata[(metadata['quality'] == 0) | (metadata['quality'] == 1)].reset_index(drop=True)\n",
    "metadata.quality = metadata[\"quality\"].map(lambda value: 'bad' if value == 1 else 'good')\n",
    "metadata['class'] = metadata[['panel type', 'quality']].agg(' '.join, axis=1)\n",
    "metadata"
   ]
  },
  {
   "cell_type": "code",
   "execution_count": null,
   "id": "3730001c",
   "metadata": {},
   "outputs": [],
   "source": [
    "dataset = fo.load_dataset('filtered')\n",
    "dataset.delete()"
   ]
  },
  {
   "cell_type": "code",
   "execution_count": null,
   "id": "18111e68",
   "metadata": {},
   "outputs": [],
   "source": [
    "dataset = fo.Dataset('filtered')\n",
    "for im_path in image_list:\n",
    "    im_name = str('images/' + im_path.name)\n",
    "    if im_name not in list(filtered_images):\n",
    "        sample = fo.Sample(filepath=str(im_path))\n",
    "        im_data = metadata[metadata['im_path'] == im_name]\n",
    "        sample['label'] = fo.Classification(label=im_data['class'].values[0])\n",
    "        dataset.add_sample(sample)\n",
    "\n",
    "#dataset = fo.load_dataset('dataset')\n",
    "dataset.persistent = True\n",
    "dataset"
   ]
  },
  {
   "cell_type": "code",
   "execution_count": null,
   "id": "28cf1a66",
   "metadata": {},
   "outputs": [],
   "source": [
    "embeddings = dataset.compute_embeddings(model)\n",
    "results = fob.compute_visualization(\n",
    "    dataset,\n",
    "    embeddings=embeddings,\n",
    "    num_dims=2,\n",
    "    brain_key=\"image_embeddings\",\n",
    "    verbose=True,\n",
    "    seed=51,\n",
    "    method='umap'\n",
    ")"
   ]
  },
  {
   "cell_type": "code",
   "execution_count": null,
   "id": "826633cf",
   "metadata": {},
   "outputs": [],
   "source": [
    "session = fo.launch_app(dataset)"
   ]
  },
  {
   "cell_type": "code",
   "execution_count": null,
   "id": "313e0c58",
   "metadata": {},
   "outputs": [],
   "source": [
    "labels = metadata['class']\n",
    "plot = results.visualize(labels=labels)\n",
    "session.plots.attach(plot)\n",
    "plot.show(height=720)"
   ]
  }
 ],
 "metadata": {
  "kernelspec": {
   "display_name": "Python 3.10.4 ('tensorflow_latest')",
   "language": "python",
   "name": "python3"
  },
  "language_info": {
   "name": "python",
   "version": "3.10.4"
  },
  "orig_nbformat": 4,
  "vscode": {
   "interpreter": {
    "hash": "7d1c19e37e5f6196bc516d7b965f651cc74a678b65e0e3f127f9e9132621bafc"
   }
  }
 },
 "nbformat": 4,
 "nbformat_minor": 2
}
