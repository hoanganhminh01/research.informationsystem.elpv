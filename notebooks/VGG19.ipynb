{
 "cells": [
  {
   "cell_type": "code",
   "execution_count": 1,
   "metadata": {},
   "outputs": [],
   "source": [
    "import sys\n",
    "import os\n",
    "sys.path.append(os.path.join(os.path.abspath(os.path.dirname(\"__file__\")), '..'))\n",
    "from utils import data_handling, model_development\n",
    "import matplotlib.pyplot as plt\n",
    "from ipywidgets import interact"
   ]
  },
  {
   "cell_type": "code",
   "execution_count": 2,
   "metadata": {},
   "outputs": [],
   "source": [
    "##\n",
    "# Configure the model training policy:\n",
    "#\n",
    "model_development.configure_training_policy()"
   ]
  },
  {
   "cell_type": "code",
   "execution_count": 3,
   "metadata": {},
   "outputs": [
    {
     "name": "stdout",
     "output_type": "stream",
     "text": [
      "[(2624, 300, 300), 2624, 2624]\n",
      "[(2624, 300, 300, 3), 2624, 2624]\n"
     ]
    },
    {
     "data": {
      "application/vnd.jupyter.widget-view+json": {
       "model_id": "8b266f7d92aa423aa6483ddfc747c446",
       "version_major": 2,
       "version_minor": 0
      },
      "text/plain": [
       "interactive(children=(IntSlider(value=0, description='n', max=2623), Output()), _dom_classes=('widget-interact…"
      ]
     },
     "metadata": {},
     "output_type": "display_data"
    },
    {
     "data": {
      "application/vnd.jupyter.widget-view+json": {
       "model_id": "4fb8acc0cede4607ac643a61dd1a95fd",
       "version_major": 2,
       "version_minor": 0
      },
      "text/plain": [
       "interactive(children=(IntSlider(value=0, description='n', max=2623), Output()), _dom_classes=('widget-interact…"
      ]
     },
     "metadata": {},
     "output_type": "display_data"
    }
   ],
   "source": [
    "##\n",
    "# Load and preprocess data:\n",
    "#\n",
    "cell_images, cell_labels, cell_types = data_handling.load_data_from_file('../data/labels.csv', True)\n",
    "X, Y, Z = data_handling.preprocess_data(cell_images, cell_labels, cell_types)\n",
    "\n",
    "print([cell_images.shape, len(cell_labels), len(cell_types)])\n",
    "print([X.shape, len(Y), len(Z)])\n",
    "\n",
    "@interact(n = (0, cell_images.shape[0] - 1))\n",
    "def display_data(n = 0):\n",
    "    fig, axs = plt.subplots()\n",
    "    axs.imshow(cell_images[n], cmap = 'gray')\n",
    "    axs.set_title(f'Class: {cell_labels[n]} - Type: {cell_types[n]}')\n",
    "    return None\n",
    "\n",
    "@interact(n = (0, X.shape[0] - 1))\n",
    "def display_data(n = 0):\n",
    "    fig, axs = plt.subplots()\n",
    "    axs.imshow(X[n], cmap = 'gray')\n",
    "    axs.set_title(f'Class: {Y[n]} - Type: {Z[n]}')\n",
    "    return None"
   ]
  },
  {
   "cell_type": "code",
   "execution_count": 4,
   "metadata": {},
   "outputs": [],
   "source": [
    "##\n",
    "# Prepare data for model training:\n",
    "#\n",
    "X_train, Y_train, Z_train = X[: 2000], Y[: 2000], Z[: 2000]\n",
    "X_val, Y_val, Z_val = X[2000 : ], Y[2000 : ], Z[2000 : ]"
   ]
  },
  {
   "cell_type": "code",
   "execution_count": 5,
   "metadata": {},
   "outputs": [
    {
     "name": "stdout",
     "output_type": "stream",
     "text": [
      "WARNING:tensorflow:Using a while_loop for converting RngReadAndSkip\n",
      "WARNING:tensorflow:Using a while_loop for converting Bitcast\n",
      "WARNING:tensorflow:Using a while_loop for converting Bitcast\n",
      "WARNING:tensorflow:Using a while_loop for converting StatelessRandomUniformV2\n",
      "WARNING:tensorflow:Using a while_loop for converting RngReadAndSkip\n",
      "WARNING:tensorflow:Using a while_loop for converting Bitcast\n",
      "WARNING:tensorflow:Using a while_loop for converting Bitcast\n",
      "WARNING:tensorflow:Using a while_loop for converting StatelessRandomUniformV2\n",
      "WARNING:tensorflow:Using a while_loop for converting ImageProjectiveTransformV3\n",
      "Model: \"VGG19\"\n",
      "_________________________________________________________________\n",
      " Layer (type)                Output Shape              Param #   \n",
      "=================================================================\n",
      " inputs (InputLayer)         [(None, 300, 300, 3)]     0         \n",
      "                                                                 \n",
      " rescaling (Rescaling)       (None, 300, 300, 3)       0         \n",
      "                                                                 \n",
      " random_flip (RandomFlip)    (None, 300, 300, 3)       0         \n",
      "                                                                 \n",
      " random_rotation (RandomRota  (None, 300, 300, 3)      0         \n",
      " tion)                                                           \n",
      "                                                                 \n",
      " random_zoom (RandomZoom)    (None, 300, 300, 3)       0         \n",
      "                                                                 \n",
      " random_translation (RandomT  (None, 300, 300, 3)      0         \n",
      " ranslation)                                                     \n",
      "                                                                 \n",
      " block1_conv1 (Conv2D)       (None, 300, 300, 64)      1792      \n",
      "                                                                 \n",
      " block1_conv2 (Conv2D)       (None, 300, 300, 64)      36928     \n",
      "                                                                 \n",
      " block1_pool (MaxPooling2D)  (None, 150, 150, 64)      0         \n",
      "                                                                 \n",
      " block2_conv1 (Conv2D)       (None, 150, 150, 128)     73856     \n",
      "                                                                 \n",
      " block2_conv2 (Conv2D)       (None, 150, 150, 128)     147584    \n",
      "                                                                 \n",
      " block2_pool (MaxPooling2D)  (None, 75, 75, 128)       0         \n",
      "                                                                 \n",
      " block3_conv1 (Conv2D)       (None, 75, 75, 256)       295168    \n",
      "                                                                 \n",
      " block3_conv2 (Conv2D)       (None, 75, 75, 256)       590080    \n",
      "                                                                 \n",
      " block3_conv3 (Conv2D)       (None, 75, 75, 256)       590080    \n",
      "                                                                 \n",
      " block3_conv4 (Conv2D)       (None, 75, 75, 256)       590080    \n",
      "                                                                 \n",
      " block3_pool (MaxPooling2D)  (None, 37, 37, 256)       0         \n",
      "                                                                 \n",
      " block4_conv1 (Conv2D)       (None, 37, 37, 512)       1180160   \n",
      "                                                                 \n",
      " block4_conv2 (Conv2D)       (None, 37, 37, 512)       2359808   \n",
      "                                                                 \n",
      " block4_conv3 (Conv2D)       (None, 37, 37, 512)       2359808   \n",
      "                                                                 \n",
      " block4_conv4 (Conv2D)       (None, 37, 37, 512)       2359808   \n",
      "                                                                 \n",
      " block4_pool (MaxPooling2D)  (None, 18, 18, 512)       0         \n",
      "                                                                 \n",
      " block5_conv1 (Conv2D)       (None, 18, 18, 512)       2359808   \n",
      "                                                                 \n",
      " block5_conv2 (Conv2D)       (None, 18, 18, 512)       2359808   \n",
      "                                                                 \n",
      " block5_conv3 (Conv2D)       (None, 18, 18, 512)       2359808   \n",
      "                                                                 \n",
      " block5_conv4 (Conv2D)       (None, 18, 18, 512)       2359808   \n",
      "                                                                 \n",
      " block5_pool (MaxPooling2D)  (None, 9, 9, 512)         0         \n",
      "                                                                 \n",
      " globavgpool (GlobalAverageP  (None, 512)              0         \n",
      " ooling2D)                                                       \n",
      "                                                                 \n",
      " dense1 (Dense)              (None, 4096)              2101248   \n",
      "                                                                 \n",
      " dense2 (Dense)              (None, 4096)              16781312  \n",
      "                                                                 \n",
      " dense3 (Dense)              (None, 1000)              4097000   \n",
      "                                                                 \n",
      " dense4 (Dense)              (None, 512)               512512    \n",
      "                                                                 \n",
      " outputs (Dense)             (None, 1)                 513       \n",
      "                                                                 \n",
      "=================================================================\n",
      "Total params: 43,516,969\n",
      "Trainable params: 23,492,585\n",
      "Non-trainable params: 20,024,384\n",
      "_________________________________________________________________\n",
      "Epoch 1/10\n",
      "WARNING:tensorflow:Using a while_loop for converting RngReadAndSkip\n",
      "WARNING:tensorflow:Using a while_loop for converting Bitcast\n",
      "WARNING:tensorflow:Using a while_loop for converting Bitcast\n",
      "WARNING:tensorflow:Using a while_loop for converting StatelessRandomUniformV2\n",
      "WARNING:tensorflow:Using a while_loop for converting RngReadAndSkip\n",
      "WARNING:tensorflow:Using a while_loop for converting Bitcast\n",
      "WARNING:tensorflow:Using a while_loop for converting Bitcast\n",
      "WARNING:tensorflow:Using a while_loop for converting StatelessRandomUniformV2\n",
      "WARNING:tensorflow:Using a while_loop for converting ImageProjectiveTransformV3\n",
      "WARNING:tensorflow:Using a while_loop for converting RngReadAndSkip\n",
      "WARNING:tensorflow:Using a while_loop for converting Bitcast\n",
      "WARNING:tensorflow:Using a while_loop for converting Bitcast\n",
      "WARNING:tensorflow:Using a while_loop for converting StatelessRandomUniformV2\n",
      "WARNING:tensorflow:Using a while_loop for converting RngReadAndSkip\n",
      "WARNING:tensorflow:Using a while_loop for converting Bitcast\n",
      "WARNING:tensorflow:Using a while_loop for converting Bitcast\n",
      "WARNING:tensorflow:Using a while_loop for converting StatelessRandomUniformV2\n",
      "WARNING:tensorflow:Using a while_loop for converting ImageProjectiveTransformV3\n",
      "399/400 [============================>.] - ETA: 0s - loss: 0.7349 - accuracy: 0.5395 - precision: 0.4487 - recall: 0.3057\n",
      "Epoch 1: val_accuracy improved from -inf to 0.40250, saving model to ../models/weights\\VGG19_20221001.hdf5\n",
      "400/400 [==============================] - 22s 44ms/step - loss: 0.7345 - accuracy: 0.5400 - precision: 0.4513 - recall: 0.3087 - val_loss: 0.8451 - val_accuracy: 0.4025 - val_precision: 0.4025 - val_recall: 1.0000\n",
      "Epoch 2/10\n",
      "399/400 [============================>.] - ETA: 0s - loss: 0.6968 - accuracy: 0.5345 - precision: 0.4289 - recall: 0.2366\n",
      "Epoch 2: val_accuracy improved from 0.40250 to 0.59750, saving model to ../models/weights\\VGG19_20221001.hdf5\n",
      "400/400 [==============================] - 17s 43ms/step - loss: 0.6966 - accuracy: 0.5350 - precision: 0.4289 - recall: 0.2362 - val_loss: 0.6675 - val_accuracy: 0.5975 - val_precision: 0.0000e+00 - val_recall: 0.0000e+00\n",
      "Epoch 3/10\n",
      "399/400 [============================>.] - ETA: 0s - loss: 0.6779 - accuracy: 0.5796 - precision: 0.5256 - recall: 0.2685\n",
      "Epoch 3: val_accuracy improved from 0.59750 to 0.62500, saving model to ../models/weights\\VGG19_20221001.hdf5\n",
      "400/400 [==============================] - 17s 43ms/step - loss: 0.6778 - accuracy: 0.5800 - precision: 0.5256 - recall: 0.2681 - val_loss: 0.6605 - val_accuracy: 0.6250 - val_precision: 0.8235 - val_recall: 0.0870\n",
      "Epoch 4/10\n",
      "399/400 [============================>.] - ETA: 0s - loss: 0.6713 - accuracy: 0.5959 - precision: 0.5553 - recall: 0.3140\n",
      "Epoch 4: val_accuracy did not improve from 0.62500\n",
      "400/400 [==============================] - 17s 41ms/step - loss: 0.6712 - accuracy: 0.5956 - precision: 0.5547 - recall: 0.3159 - val_loss: 0.7077 - val_accuracy: 0.4350 - val_precision: 0.4079 - val_recall: 0.8944\n",
      "Epoch 5/10\n",
      "399/400 [============================>.] - ETA: 0s - loss: 0.6649 - accuracy: 0.6003 - precision: 0.5531 - recall: 0.3712\n",
      "Epoch 5: val_accuracy improved from 0.62500 to 0.64000, saving model to ../models/weights\\VGG19_20221001.hdf5\n",
      "400/400 [==============================] - 17s 43ms/step - loss: 0.6656 - accuracy: 0.5994 - precision: 0.5531 - recall: 0.3696 - val_loss: 0.6503 - val_accuracy: 0.6400 - val_precision: 0.5766 - val_recall: 0.3975\n",
      "Epoch 6/10\n",
      "399/400 [============================>.] - ETA: 0s - loss: 0.6619 - accuracy: 0.6115 - precision: 0.5677 - recall: 0.4090\n",
      "Epoch 6: val_accuracy improved from 0.64000 to 0.65250, saving model to ../models/weights\\VGG19_20221001.hdf5\n",
      "400/400 [==============================] - 17s 43ms/step - loss: 0.6623 - accuracy: 0.6106 - precision: 0.5677 - recall: 0.4072 - val_loss: 0.6646 - val_accuracy: 0.6525 - val_precision: 0.6719 - val_recall: 0.2671\n",
      "Epoch 7/10\n",
      "399/400 [============================>.] - ETA: 0s - loss: 0.6605 - accuracy: 0.6172 - precision: 0.6005 - recall: 0.3343\n",
      "Epoch 7: val_accuracy did not improve from 0.65250\n",
      "400/400 [==============================] - 17s 42ms/step - loss: 0.6599 - accuracy: 0.6181 - precision: 0.6026 - recall: 0.3362 - val_loss: 0.6393 - val_accuracy: 0.6475 - val_precision: 0.5909 - val_recall: 0.4037\n",
      "Epoch 8/10\n",
      "399/400 [============================>.] - ETA: 0s - loss: 0.6512 - accuracy: 0.6310 - precision: 0.6126 - recall: 0.3948\n",
      "Epoch 8: val_accuracy did not improve from 0.65250\n",
      "400/400 [==============================] - 17s 42ms/step - loss: 0.6511 - accuracy: 0.6313 - precision: 0.6121 - recall: 0.3957 - val_loss: 0.6523 - val_accuracy: 0.5975 - val_precision: 0.5000 - val_recall: 0.5839\n",
      "Epoch 9/10\n",
      "399/400 [============================>.] - ETA: 0s - loss: 0.6429 - accuracy: 0.6391 - precision: 0.6414 - recall: 0.3692\n",
      "Epoch 9: val_accuracy improved from 0.65250 to 0.67000, saving model to ../models/weights\\VGG19_20221001.hdf5\n",
      "400/400 [==============================] - 17s 43ms/step - loss: 0.6434 - accuracy: 0.6381 - precision: 0.6398 - recall: 0.3681 - val_loss: 0.6347 - val_accuracy: 0.6700 - val_precision: 0.8085 - val_recall: 0.2360\n",
      "Epoch 10/10\n",
      "399/400 [============================>.] - ETA: 0s - loss: 0.6402 - accuracy: 0.6366 - precision: 0.6627 - recall: 0.3222\n",
      "Epoch 10: val_accuracy did not improve from 0.67000\n",
      "400/400 [==============================] - 17s 42ms/step - loss: 0.6402 - accuracy: 0.6369 - precision: 0.6627 - recall: 0.3217 - val_loss: 0.6253 - val_accuracy: 0.6625 - val_precision: 0.8611 - val_recall: 0.1925\n"
     ]
    }
   ],
   "source": [
    "##\n",
    "# Train classification model:\n",
    "#\n",
    "vgg19 = model_development.vgg19(input_shape = (300, 300, 3), display_model_information = True)\n",
    "history, training_time = model_development.train_classification_model(model = vgg19, \n",
    "    model_name = 'VGG19', version = '20221001', \n",
    "    X = X_train, Y = Y_train, metric_to_monitor = 'val_accuracy', \n",
    "    no_of_epochs = 10, batch_size = 4, validation_split_ratio = 0.2)"
   ]
  }
 ],
 "metadata": {
  "kernelspec": {
   "display_name": "Python 3.10.4 ('tensorflow_latest')",
   "language": "python",
   "name": "python3"
  },
  "language_info": {
   "codemirror_mode": {
    "name": "ipython",
    "version": 3
   },
   "file_extension": ".py",
   "mimetype": "text/x-python",
   "name": "python",
   "nbconvert_exporter": "python",
   "pygments_lexer": "ipython3",
   "version": "3.10.4"
  },
  "orig_nbformat": 4,
  "vscode": {
   "interpreter": {
    "hash": "7d1c19e37e5f6196bc516d7b965f651cc74a678b65e0e3f127f9e9132621bafc"
   }
  }
 },
 "nbformat": 4,
 "nbformat_minor": 2
}
