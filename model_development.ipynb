{
 "cells": [
  {
   "cell_type": "code",
   "execution_count": 1,
   "metadata": {},
   "outputs": [],
   "source": [
    "import sys  \n",
    "from utils import data_handling, model_development\n",
    "import matplotlib.pyplot as plt\n",
    "from ipywidgets import interact\n"
   ]
  },
  {
   "cell_type": "markdown",
   "metadata": {},
   "source": [
    "# Configure the model training policy:"
   ]
  },
  {
   "cell_type": "code",
   "execution_count": 2,
   "metadata": {},
   "outputs": [],
   "source": [
    "model_development.configure_training_policy()"
   ]
  },
  {
   "cell_type": "markdown",
   "metadata": {},
   "source": [
    "# Load and preprocess data:"
   ]
  },
  {
   "cell_type": "code",
   "execution_count": 3,
   "metadata": {},
   "outputs": [
    {
     "name": "stdout",
     "output_type": "stream",
     "text": [
      "[(2624, 300, 300), 2624, 2624]\n",
      "[(2624, 300, 300, 3), 2624, 2624]\n"
     ]
    }
   ],
   "source": [
    "cell_images, cell_labels, cell_types = data_handling.load_data_from_file('./data/labels.csv')\n",
    "X, Y, Z = data_handling.preprocess_data(cell_images, cell_labels, cell_types)\n",
    "\n",
    "print([cell_images.shape, len(cell_labels), len(cell_types)])\n",
    "print([X.shape, len(Y), len(Z)])"
   ]
  },
  {
   "cell_type": "code",
   "execution_count": 4,
   "metadata": {},
   "outputs": [
    {
     "data": {
      "application/vnd.jupyter.widget-view+json": {
       "model_id": "479d7453820c4c3e9cd06dd795e327ec",
       "version_major": 2,
       "version_minor": 0
      },
      "text/plain": [
       "interactive(children=(IntSlider(value=0, description='n', max=2623), Output()), _dom_classes=('widget-interact…"
      ]
     },
     "metadata": {},
     "output_type": "display_data"
    }
   ],
   "source": [
    "@interact(n = (0, cell_images.shape[0] - 1))\n",
    "def display_data(n = 0):\n",
    "    fig, axs = plt.subplots()\n",
    "    axs.imshow(cell_images[n], cmap = 'gray')\n",
    "    axs.set_title(f'Class: {cell_labels[n]} - Type: {cell_types[n]}')\n",
    "    return None"
   ]
  },
  {
   "cell_type": "code",
   "execution_count": 5,
   "metadata": {},
   "outputs": [
    {
     "data": {
      "application/vnd.jupyter.widget-view+json": {
       "model_id": "01f4ef48af25410d9356090c86ccd44a",
       "version_major": 2,
       "version_minor": 0
      },
      "text/plain": [
       "interactive(children=(IntSlider(value=0, description='n', max=2623), Output()), _dom_classes=('widget-interact…"
      ]
     },
     "metadata": {},
     "output_type": "display_data"
    }
   ],
   "source": [
    "@interact(n = (0, X.shape[0] - 1))\n",
    "def display_data(n = 0):\n",
    "    fig, axs = plt.subplots()\n",
    "    axs.imshow(X[n], cmap = 'gray')\n",
    "    axs.set_title(f'Class: {Y[n]} - Type: {Z[n]}')\n",
    "    return None"
   ]
  },
  {
   "cell_type": "markdown",
   "metadata": {},
   "source": [
    "# Train classification models:"
   ]
  },
  {
   "cell_type": "markdown",
   "metadata": {},
   "source": [
    "## VGG19:"
   ]
  },
  {
   "cell_type": "code",
   "execution_count": 6,
   "metadata": {},
   "outputs": [
    {
     "name": "stdout",
     "output_type": "stream",
     "text": [
      "Model: \"VGG19\"\n",
      "_________________________________________________________________\n",
      " Layer (type)                Output Shape              Param #   \n",
      "=================================================================\n",
      " inputs (InputLayer)         [(None, 300, 300, 3)]     0         \n",
      "                                                                 \n",
      " rescaling (Rescaling)       (None, 300, 300, 3)       0         \n",
      "                                                                 \n",
      " block1_conv1 (Conv2D)       (None, 300, 300, 64)      1792      \n",
      "                                                                 \n",
      " block1_conv2 (Conv2D)       (None, 300, 300, 64)      36928     \n",
      "                                                                 \n",
      " block1_pool (MaxPooling2D)  (None, 150, 150, 64)      0         \n",
      "                                                                 \n",
      " block2_conv1 (Conv2D)       (None, 150, 150, 128)     73856     \n",
      "                                                                 \n",
      " block2_conv2 (Conv2D)       (None, 150, 150, 128)     147584    \n",
      "                                                                 \n",
      " block2_pool (MaxPooling2D)  (None, 75, 75, 128)       0         \n",
      "                                                                 \n",
      " block3_conv1 (Conv2D)       (None, 75, 75, 256)       295168    \n",
      "                                                                 \n",
      " block3_conv2 (Conv2D)       (None, 75, 75, 256)       590080    \n",
      "                                                                 \n",
      " block3_conv3 (Conv2D)       (None, 75, 75, 256)       590080    \n",
      "                                                                 \n",
      " block3_conv4 (Conv2D)       (None, 75, 75, 256)       590080    \n",
      "                                                                 \n",
      " block3_pool (MaxPooling2D)  (None, 37, 37, 256)       0         \n",
      "                                                                 \n",
      " block4_conv1 (Conv2D)       (None, 37, 37, 512)       1180160   \n",
      "                                                                 \n",
      " block4_conv2 (Conv2D)       (None, 37, 37, 512)       2359808   \n",
      "                                                                 \n",
      " block4_conv3 (Conv2D)       (None, 37, 37, 512)       2359808   \n",
      "                                                                 \n",
      " block4_conv4 (Conv2D)       (None, 37, 37, 512)       2359808   \n",
      "                                                                 \n",
      " block4_pool (MaxPooling2D)  (None, 18, 18, 512)       0         \n",
      "                                                                 \n",
      " block5_conv1 (Conv2D)       (None, 18, 18, 512)       2359808   \n",
      "                                                                 \n",
      " block5_conv2 (Conv2D)       (None, 18, 18, 512)       2359808   \n",
      "                                                                 \n",
      " block5_conv3 (Conv2D)       (None, 18, 18, 512)       2359808   \n",
      "                                                                 \n",
      " block5_conv4 (Conv2D)       (None, 18, 18, 512)       2359808   \n",
      "                                                                 \n",
      " block5_pool (MaxPooling2D)  (None, 9, 9, 512)         0         \n",
      "                                                                 \n",
      " globavgpool (GlobalAverageP  (None, 512)              0         \n",
      " ooling2D)                                                       \n",
      "                                                                 \n",
      " dense1 (Dense)              (None, 4096)              2101248   \n",
      "                                                                 \n",
      " dense2 (Dense)              (None, 4096)              16781312  \n",
      "                                                                 \n",
      " dense3 (Dense)              (None, 512)               2097664   \n",
      "                                                                 \n",
      " outputs (Dense)             (None, 1)                 513       \n",
      "                                                                 \n",
      "=================================================================\n",
      "Total params: 41,005,121\n",
      "Trainable params: 20,980,737\n",
      "Non-trainable params: 20,024,384\n",
      "_________________________________________________________________\n",
      "Epoch 1/10\n"
     ]
    },
    {
     "name": "stderr",
     "output_type": "stream",
     "text": [
      "c:\\ProgramData\\Anaconda3\\envs\\tensorflow_latest\\lib\\site-packages\\keras\\engine\\data_adapter.py:1508: FutureWarning: The behavior of `series[i:j]` with an integer-dtype index is deprecated. In a future version, this will be treated as *label-based* indexing, consistent with e.g. `series[i]` lookups. To retain the old behavior, use `series.iloc[i:j]`. To get the future behavior, use `series.loc[i:j]`.\n",
      "  return t[start:end]\n"
     ]
    },
    {
     "name": "stdout",
     "output_type": "stream",
     "text": [
      "525/525 [==============================] - ETA: 0s - loss: 0.6854 - accuracy: 0.5550 - precision: 0.4676 - recall: 0.2561\n",
      "Epoch 1: val_accuracy improved from -inf to 0.63238, saving model to weights\\VGG19_20220927.hdf5\n",
      "525/525 [==============================] - 30s 50ms/step - loss: 0.6854 - accuracy: 0.5550 - precision: 0.4676 - recall: 0.2561 - val_loss: 0.6536 - val_accuracy: 0.6324 - val_precision: 0.5677 - val_recall: 0.4112\n",
      "Epoch 2/10\n",
      "525/525 [==============================] - ETA: 0s - loss: 0.6524 - accuracy: 0.6251 - precision: 0.5957 - recall: 0.3969\n",
      "Epoch 2: val_accuracy improved from 0.63238 to 0.66095, saving model to weights\\VGG19_20220927.hdf5\n",
      "525/525 [==============================] - 25s 48ms/step - loss: 0.6524 - accuracy: 0.6251 - precision: 0.5957 - recall: 0.3969 - val_loss: 0.6280 - val_accuracy: 0.6610 - val_precision: 0.7250 - val_recall: 0.2710\n",
      "Epoch 3/10\n",
      "525/525 [==============================] - ETA: 0s - loss: 0.6314 - accuracy: 0.6536 - precision: 0.6427 - recall: 0.4368\n",
      "Epoch 3: val_accuracy improved from 0.66095 to 0.66476, saving model to weights\\VGG19_20220927.hdf5\n",
      "525/525 [==============================] - 26s 50ms/step - loss: 0.6314 - accuracy: 0.6536 - precision: 0.6427 - recall: 0.4368 - val_loss: 0.6156 - val_accuracy: 0.6648 - val_precision: 0.7375 - val_recall: 0.2757\n",
      "Epoch 4/10\n",
      "525/525 [==============================] - ETA: 0s - loss: 0.6077 - accuracy: 0.6789 - precision: 0.6827 - recall: 0.4723\n",
      "Epoch 4: val_accuracy improved from 0.66476 to 0.70667, saving model to weights\\VGG19_20220927.hdf5\n",
      "525/525 [==============================] - 27s 51ms/step - loss: 0.6077 - accuracy: 0.6789 - precision: 0.6827 - recall: 0.4723 - val_loss: 0.5805 - val_accuracy: 0.7067 - val_precision: 0.6923 - val_recall: 0.5047\n",
      "Epoch 5/10\n",
      "524/525 [============================>.] - ETA: 0s - loss: 0.5897 - accuracy: 0.6932 - precision: 0.7110 - recall: 0.4811\n",
      "Epoch 5: val_accuracy improved from 0.70667 to 0.70857, saving model to weights\\VGG19_20220927.hdf5\n",
      "525/525 [==============================] - 27s 52ms/step - loss: 0.5898 - accuracy: 0.6932 - precision: 0.7108 - recall: 0.4823 - val_loss: 0.5843 - val_accuracy: 0.7086 - val_precision: 0.6344 - val_recall: 0.6729\n",
      "Epoch 6/10\n",
      "525/525 [==============================] - ETA: 0s - loss: 0.5810 - accuracy: 0.7037 - precision: 0.6934 - recall: 0.5565\n",
      "Epoch 6: val_accuracy did not improve from 0.70857\n",
      "525/525 [==============================] - 26s 49ms/step - loss: 0.5810 - accuracy: 0.7037 - precision: 0.6934 - recall: 0.5565 - val_loss: 0.5748 - val_accuracy: 0.6762 - val_precision: 0.7895 - val_recall: 0.2804\n",
      "Epoch 7/10\n",
      "525/525 [==============================] - ETA: 0s - loss: 0.5751 - accuracy: 0.6989 - precision: 0.7077 - recall: 0.5100\n",
      "Epoch 7: val_accuracy improved from 0.70857 to 0.73714, saving model to weights\\VGG19_20220927.hdf5\n",
      "525/525 [==============================] - 26s 50ms/step - loss: 0.5751 - accuracy: 0.6989 - precision: 0.7077 - recall: 0.5100 - val_loss: 0.5670 - val_accuracy: 0.7371 - val_precision: 0.7021 - val_recall: 0.6168\n",
      "Epoch 8/10\n",
      "524/525 [============================>.] - ETA: 0s - loss: 0.5656 - accuracy: 0.7090 - precision: 0.7351 - recall: 0.5050\n",
      "Epoch 8: val_accuracy did not improve from 0.73714\n",
      "525/525 [==============================] - 27s 51ms/step - loss: 0.5655 - accuracy: 0.7089 - precision: 0.7351 - recall: 0.5044 - val_loss: 0.5570 - val_accuracy: 0.7333 - val_precision: 0.7176 - val_recall: 0.5701\n",
      "Epoch 9/10\n",
      "525/525 [==============================] - ETA: 0s - loss: 0.5588 - accuracy: 0.7099 - precision: 0.7329 - recall: 0.5111\n",
      "Epoch 9: val_accuracy improved from 0.73714 to 0.74095, saving model to weights\\VGG19_20220927.hdf5\n",
      "525/525 [==============================] - 27s 51ms/step - loss: 0.5588 - accuracy: 0.7099 - precision: 0.7329 - recall: 0.5111 - val_loss: 0.5456 - val_accuracy: 0.7410 - val_precision: 0.6822 - val_recall: 0.6822\n",
      "Epoch 10/10\n",
      "525/525 [==============================] - ETA: 0s - loss: 0.5560 - accuracy: 0.7132 - precision: 0.7113 - recall: 0.5599\n",
      "Epoch 10: val_accuracy improved from 0.74095 to 0.74667, saving model to weights\\VGG19_20220927.hdf5\n",
      "525/525 [==============================] - 27s 51ms/step - loss: 0.5560 - accuracy: 0.7132 - precision: 0.7113 - recall: 0.5599 - val_loss: 0.5344 - val_accuracy: 0.7467 - val_precision: 0.7485 - val_recall: 0.5701\n"
     ]
    },
    {
     "data": {
      "text/plain": [
       "(<keras.callbacks.History at 0x1b43bd72c80>, 267.9846)"
      ]
     },
     "execution_count": 6,
     "metadata": {},
     "output_type": "execute_result"
    }
   ],
   "source": [
    "vgg19 = model_development.vgg19(input_shape = (300, 300, 3))\n",
    "model_development.train_classification_model(vgg19, 'VGG19', '20220927', X, Y, 'val_accuracy', 200, 4, 0.2)"
   ]
  }
 ],
 "metadata": {
  "kernelspec": {
   "display_name": "Python 3.10.4 ('tensorflow_latest')",
   "language": "python",
   "name": "python3"
  },
  "language_info": {
   "codemirror_mode": {
    "name": "ipython",
    "version": 3
   },
   "file_extension": ".py",
   "mimetype": "text/x-python",
   "name": "python",
   "nbconvert_exporter": "python",
   "pygments_lexer": "ipython3",
   "version": "3.10.4"
  },
  "orig_nbformat": 4,
  "vscode": {
   "interpreter": {
    "hash": "7d1c19e37e5f6196bc516d7b965f651cc74a678b65e0e3f127f9e9132621bafc"
   }
  }
 },
 "nbformat": 4,
 "nbformat_minor": 2
}
