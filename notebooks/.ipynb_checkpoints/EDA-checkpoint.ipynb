{
 "cells": [
  {
   "cell_type": "code",
   "execution_count": 1,
   "id": "a66298f0-1ae7-48cc-bf6b-dcd723b974e9",
   "metadata": {},
   "outputs": [],
   "source": [
    "import fiftyone as fo\n",
    "import fiftyone.zoo as foz\n",
    "import fiftyone.brain as fob\n",
    "from pathlib import Path\n",
    "from tqdm import tqdm\n",
    "\n",
    "import cv2\n",
    "import numpy as np"
   ]
  },
  {
   "cell_type": "code",
   "execution_count": 2,
   "id": "6c8fb671-d7b8-46e2-9338-73fc43b653a2",
   "metadata": {},
   "outputs": [],
   "source": [
    "path = Path('/home/khoa-ys/Projects/auto_inspection/research.informationsystem.elpv/data')\n",
    "im_path = path/'images'\n",
    "labels = path/'labels.csv'"
   ]
  },
  {
   "cell_type": "markdown",
   "id": "c7fd751e-bfe2-454c-88b5-c3eb0cd6e40f",
   "metadata": {},
   "source": [
    "## Image parameters"
   ]
  },
  {
   "cell_type": "markdown",
   "id": "26aada4f-af12-4311-9344-c4a5615c9098",
   "metadata": {},
   "source": [
    "### Mean distribution"
   ]
  },
  {
   "cell_type": "code",
   "execution_count": null,
   "id": "11f46746-ff9a-4101-853c-a5feddcba370",
   "metadata": {},
   "outputs": [],
   "source": []
  },
  {
   "cell_type": "markdown",
   "id": "b3bf4e07-f9f4-4a51-9ccd-bf267a086d37",
   "metadata": {},
   "source": [
    "### Median distribution"
   ]
  },
  {
   "cell_type": "code",
   "execution_count": null,
   "id": "fb2bd7ce-84ca-4eca-8998-84bab780b0de",
   "metadata": {},
   "outputs": [],
   "source": []
  },
  {
   "cell_type": "markdown",
   "id": "549679a4-b84d-4618-bc13-09b753e9e5e8",
   "metadata": {},
   "source": [
    "### Std distribution"
   ]
  },
  {
   "cell_type": "code",
   "execution_count": null,
   "id": "05728d06-a2e3-4954-81e2-bf69d87ac63a",
   "metadata": {},
   "outputs": [],
   "source": []
  },
  {
   "cell_type": "markdown",
   "id": "544051a7-20f9-4edb-adcc-7c623319c503",
   "metadata": {},
   "source": [
    "## Image embedding"
   ]
  },
  {
   "cell_type": "code",
   "execution_count": 3,
   "id": "77af2f9a-2b8e-4877-9d2e-c881c5d9b2fd",
   "metadata": {},
   "outputs": [
    {
     "name": "stderr",
     "output_type": "stream",
     "text": [
      "/home/khoa-ys/Projects/auto_inspection/venv/lib/python3.8/site-packages/torchvision/models/_utils.py:208: UserWarning: The parameter 'pretrained' is deprecated since 0.13 and will be removed in 0.15, please use 'weights' instead.\n",
      "  warnings.warn(\n",
      "/home/khoa-ys/Projects/auto_inspection/venv/lib/python3.8/site-packages/torchvision/models/_utils.py:223: UserWarning: Arguments other than a weight enum or `None` for 'weights' are deprecated since 0.13 and will be removed in 0.15. The current behavior is equivalent to passing `weights=ResNet50_Weights.IMAGENET1K_V1`. You can also use `weights=ResNet50_Weights.DEFAULT` to get the most up-to-date weights.\n",
      "  warnings.warn(msg)\n"
     ]
    },
    {
     "name": "stdout",
     "output_type": "stream",
     "text": [
      "True\n"
     ]
    }
   ],
   "source": [
    "model = foz.load_zoo_model(\"resnet50-imagenet-torch\")\n",
    "print(model.has_embeddings)"
   ]
  },
  {
   "cell_type": "code",
   "execution_count": 4,
   "id": "98678aba-e03a-44a6-84ab-9a90bee30fff",
   "metadata": {},
   "outputs": [
    {
     "name": "stdout",
     "output_type": "stream",
     "text": [
      "2624\n"
     ]
    },
    {
     "data": {
      "text/plain": [
       "[PosixPath('/home/khoa-ys/Projects/auto_inspection/research.informationsystem.elpv/data/images/cell2346.png'),\n",
       " PosixPath('/home/khoa-ys/Projects/auto_inspection/research.informationsystem.elpv/data/images/cell2391.png'),\n",
       " PosixPath('/home/khoa-ys/Projects/auto_inspection/research.informationsystem.elpv/data/images/cell0837.png'),\n",
       " PosixPath('/home/khoa-ys/Projects/auto_inspection/research.informationsystem.elpv/data/images/cell0625.png'),\n",
       " PosixPath('/home/khoa-ys/Projects/auto_inspection/research.informationsystem.elpv/data/images/cell0682.png'),\n",
       " PosixPath('/home/khoa-ys/Projects/auto_inspection/research.informationsystem.elpv/data/images/cell2356.png'),\n",
       " PosixPath('/home/khoa-ys/Projects/auto_inspection/research.informationsystem.elpv/data/images/cell2262.png'),\n",
       " PosixPath('/home/khoa-ys/Projects/auto_inspection/research.informationsystem.elpv/data/images/cell2322.png'),\n",
       " PosixPath('/home/khoa-ys/Projects/auto_inspection/research.informationsystem.elpv/data/images/cell2541.png'),\n",
       " PosixPath('/home/khoa-ys/Projects/auto_inspection/research.informationsystem.elpv/data/images/cell0920.png')]"
      ]
     },
     "execution_count": 4,
     "metadata": {},
     "output_type": "execute_result"
    }
   ],
   "source": [
    "image_list = list(im_path.iterdir())\n",
    "print(len(image_list))\n",
    "image_list[:10]"
   ]
  },
  {
   "cell_type": "code",
   "execution_count": 5,
   "id": "2cdadb5b-ce50-4fee-9dd4-3fc2f46c3f41",
   "metadata": {},
   "outputs": [
    {
     "data": {
      "text/plain": [
       "Name:        solar dataset\n",
       "Media type:  image\n",
       "Num samples: 2624\n",
       "Persistent:  True\n",
       "Tags:        []\n",
       "Sample fields:\n",
       "    id:       fiftyone.core.fields.ObjectIdField\n",
       "    filepath: fiftyone.core.fields.StringField\n",
       "    tags:     fiftyone.core.fields.ListField(fiftyone.core.fields.StringField)\n",
       "    metadata: fiftyone.core.fields.EmbeddedDocumentField(fiftyone.core.metadata.ImageMetadata)"
      ]
     },
     "execution_count": 5,
     "metadata": {},
     "output_type": "execute_result"
    }
   ],
   "source": [
    "\n",
    "dataset = fo.Dataset(\"dataset\")\n",
    "for img_path in image_list:\n",
    "    dataset.add_sample(fo.Sample(filepath=str(img_path)))\n",
    "\n",
    "#dataset = fo.load_dataset('dataset')\n",
    "dataset.persistent = True\n",
    "dataset"
   ]
  },
  {
   "cell_type": "code",
   "execution_count": 6,
   "id": "d64ddf23-7af6-404e-b284-bd7b84a9f850",
   "metadata": {},
   "outputs": [
    {
     "name": "stdout",
     "output_type": "stream",
     "text": [
      " 100% |███████████████| 2624/2624 [20.6s elapsed, 0s remaining, 119.5 samples/s]      \n"
     ]
    }
   ],
   "source": [
    "embeddings = dataset.compute_embeddings(model)"
   ]
  },
  {
   "cell_type": "code",
   "execution_count": 7,
   "id": "b49c7d01-4ac0-4c45-b111-8f0546f20883",
   "metadata": {},
   "outputs": [
    {
     "ename": "ValueError",
     "evalue": "Cannot overwrite existing brain method run 'image_embeddings' of type <class 'fiftyone.brain.visualization.TSNEVisualizationConfig'> with one of type <class 'fiftyone.brain.visualization.UMAPVisualizationConfig'>; please choose a different key or delete the existing one first",
     "output_type": "error",
     "traceback": [
      "\u001b[0;31m---------------------------------------------------------------------------\u001b[0m",
      "\u001b[0;31mValueError\u001b[0m                                Traceback (most recent call last)",
      "Cell \u001b[0;32mIn [7], line 1\u001b[0m\n\u001b[0;32m----> 1\u001b[0m results \u001b[38;5;241m=\u001b[39m \u001b[43mfob\u001b[49m\u001b[38;5;241;43m.\u001b[39;49m\u001b[43mcompute_visualization\u001b[49m\u001b[43m(\u001b[49m\n\u001b[1;32m      2\u001b[0m \u001b[43m    \u001b[49m\u001b[43mdataset\u001b[49m\u001b[43m,\u001b[49m\n\u001b[1;32m      3\u001b[0m \u001b[43m    \u001b[49m\u001b[43membeddings\u001b[49m\u001b[38;5;241;43m=\u001b[39;49m\u001b[43membeddings\u001b[49m\u001b[43m,\u001b[49m\n\u001b[1;32m      4\u001b[0m \u001b[43m    \u001b[49m\u001b[43mnum_dims\u001b[49m\u001b[38;5;241;43m=\u001b[39;49m\u001b[38;5;241;43m2\u001b[39;49m\u001b[43m,\u001b[49m\n\u001b[1;32m      5\u001b[0m \u001b[43m    \u001b[49m\u001b[43mbrain_key\u001b[49m\u001b[38;5;241;43m=\u001b[39;49m\u001b[38;5;124;43m\"\u001b[39;49m\u001b[38;5;124;43mimage_embeddings\u001b[39;49m\u001b[38;5;124;43m\"\u001b[39;49m\u001b[43m,\u001b[49m\n\u001b[1;32m      6\u001b[0m \u001b[43m    \u001b[49m\u001b[43mverbose\u001b[49m\u001b[38;5;241;43m=\u001b[39;49m\u001b[38;5;28;43;01mTrue\u001b[39;49;00m\u001b[43m,\u001b[49m\n\u001b[1;32m      7\u001b[0m \u001b[43m    \u001b[49m\u001b[43mseed\u001b[49m\u001b[38;5;241;43m=\u001b[39;49m\u001b[38;5;241;43m51\u001b[39;49m\u001b[43m,\u001b[49m\n\u001b[1;32m      8\u001b[0m \u001b[43m    \u001b[49m\u001b[43mmethod\u001b[49m\u001b[38;5;241;43m=\u001b[39;49m\u001b[38;5;124;43m'\u001b[39;49m\u001b[38;5;124;43mumap\u001b[39;49m\u001b[38;5;124;43m'\u001b[39;49m\n\u001b[1;32m      9\u001b[0m \u001b[43m)\u001b[49m\n",
      "File \u001b[0;32m~/Projects/auto_inspection/venv/lib/python3.8/site-packages/fiftyone/brain/__init__.py:347\u001b[0m, in \u001b[0;36mcompute_visualization\u001b[0;34m(samples, patches_field, embeddings, points, brain_key, num_dims, method, model, force_square, alpha, batch_size, num_workers, skip_failures, **kwargs)\u001b[0m\n\u001b[1;32m    258\u001b[0m \u001b[38;5;124;03m\"\"\"Computes a low-dimensional representation of the samples' media or their\u001b[39;00m\n\u001b[1;32m    259\u001b[0m \u001b[38;5;124;03mpatches that can be interactively visualized.\u001b[39;00m\n\u001b[1;32m    260\u001b[0m \n\u001b[0;32m   (...)\u001b[0m\n\u001b[1;32m    343\u001b[0m \u001b[38;5;124;03m    a :class:`fiftyone.brain.visualization.VisualizationResults`\u001b[39;00m\n\u001b[1;32m    344\u001b[0m \u001b[38;5;124;03m\"\"\"\u001b[39;00m\n\u001b[1;32m    345\u001b[0m \u001b[38;5;28;01mimport\u001b[39;00m \u001b[38;5;21;01mfiftyone\u001b[39;00m\u001b[38;5;21;01m.\u001b[39;00m\u001b[38;5;21;01mbrain\u001b[39;00m\u001b[38;5;21;01m.\u001b[39;00m\u001b[38;5;21;01minternal\u001b[39;00m\u001b[38;5;21;01m.\u001b[39;00m\u001b[38;5;21;01mcore\u001b[39;00m\u001b[38;5;21;01m.\u001b[39;00m\u001b[38;5;21;01mvisualization\u001b[39;00m \u001b[38;5;28;01mas\u001b[39;00m \u001b[38;5;21;01mfbv\u001b[39;00m\n\u001b[0;32m--> 347\u001b[0m \u001b[38;5;28;01mreturn\u001b[39;00m \u001b[43mfbv\u001b[49m\u001b[38;5;241;43m.\u001b[39;49m\u001b[43mcompute_visualization\u001b[49m\u001b[43m(\u001b[49m\n\u001b[1;32m    348\u001b[0m \u001b[43m    \u001b[49m\u001b[43msamples\u001b[49m\u001b[43m,\u001b[49m\n\u001b[1;32m    349\u001b[0m \u001b[43m    \u001b[49m\u001b[43mpatches_field\u001b[49m\u001b[43m,\u001b[49m\n\u001b[1;32m    350\u001b[0m \u001b[43m    \u001b[49m\u001b[43membeddings\u001b[49m\u001b[43m,\u001b[49m\n\u001b[1;32m    351\u001b[0m \u001b[43m    \u001b[49m\u001b[43mpoints\u001b[49m\u001b[43m,\u001b[49m\n\u001b[1;32m    352\u001b[0m \u001b[43m    \u001b[49m\u001b[43mbrain_key\u001b[49m\u001b[43m,\u001b[49m\n\u001b[1;32m    353\u001b[0m \u001b[43m    \u001b[49m\u001b[43mnum_dims\u001b[49m\u001b[43m,\u001b[49m\n\u001b[1;32m    354\u001b[0m \u001b[43m    \u001b[49m\u001b[43mmethod\u001b[49m\u001b[43m,\u001b[49m\n\u001b[1;32m    355\u001b[0m \u001b[43m    \u001b[49m\u001b[43mmodel\u001b[49m\u001b[43m,\u001b[49m\n\u001b[1;32m    356\u001b[0m \u001b[43m    \u001b[49m\u001b[43mforce_square\u001b[49m\u001b[43m,\u001b[49m\n\u001b[1;32m    357\u001b[0m \u001b[43m    \u001b[49m\u001b[43malpha\u001b[49m\u001b[43m,\u001b[49m\n\u001b[1;32m    358\u001b[0m \u001b[43m    \u001b[49m\u001b[43mbatch_size\u001b[49m\u001b[43m,\u001b[49m\n\u001b[1;32m    359\u001b[0m \u001b[43m    \u001b[49m\u001b[43mnum_workers\u001b[49m\u001b[43m,\u001b[49m\n\u001b[1;32m    360\u001b[0m \u001b[43m    \u001b[49m\u001b[43mskip_failures\u001b[49m\u001b[43m,\u001b[49m\n\u001b[1;32m    361\u001b[0m \u001b[43m    \u001b[49m\u001b[38;5;241;43m*\u001b[39;49m\u001b[38;5;241;43m*\u001b[39;49m\u001b[43mkwargs\u001b[49m\u001b[43m,\u001b[49m\n\u001b[1;32m    362\u001b[0m \u001b[43m\u001b[49m\u001b[43m)\u001b[49m\n",
      "File \u001b[0;32m~/Projects/auto_inspection/venv/lib/python3.8/site-packages/fiftyone/brain/internal/core/visualization.py:90\u001b[0m, in \u001b[0;36mcompute_visualization\u001b[0;34m(samples, patches_field, embeddings, points, brain_key, num_dims, method, model, force_square, alpha, batch_size, num_workers, skip_failures, **kwargs)\u001b[0m\n\u001b[1;32m     87\u001b[0m brain_method\u001b[38;5;241m.\u001b[39mensure_requirements()\n\u001b[1;32m     89\u001b[0m \u001b[38;5;28;01mif\u001b[39;00m brain_key \u001b[38;5;129;01mis\u001b[39;00m \u001b[38;5;129;01mnot\u001b[39;00m \u001b[38;5;28;01mNone\u001b[39;00m:\n\u001b[0;32m---> 90\u001b[0m     \u001b[43mbrain_method\u001b[49m\u001b[38;5;241;43m.\u001b[39;49m\u001b[43mregister_run\u001b[49m\u001b[43m(\u001b[49m\u001b[43msamples\u001b[49m\u001b[43m,\u001b[49m\u001b[43m \u001b[49m\u001b[43mbrain_key\u001b[49m\u001b[43m)\u001b[49m\n\u001b[1;32m     92\u001b[0m \u001b[38;5;28;01mif\u001b[39;00m points \u001b[38;5;129;01mis\u001b[39;00m \u001b[38;5;28;01mNone\u001b[39;00m:\n\u001b[1;32m     93\u001b[0m     embeddings \u001b[38;5;241m=\u001b[39m fbu\u001b[38;5;241m.\u001b[39mget_embeddings(\n\u001b[1;32m     94\u001b[0m         samples,\n\u001b[1;32m     95\u001b[0m         model\u001b[38;5;241m=\u001b[39mmodel,\n\u001b[0;32m   (...)\u001b[0m\n\u001b[1;32m    103\u001b[0m         skip_failures\u001b[38;5;241m=\u001b[39mskip_failures,\n\u001b[1;32m    104\u001b[0m     )\n",
      "File \u001b[0;32m~/Projects/auto_inspection/venv/lib/python3.8/site-packages/fiftyone/core/runs.py:202\u001b[0m, in \u001b[0;36mRun.register_run\u001b[0;34m(self, samples, key, overwrite)\u001b[0m\n\u001b[1;32m    199\u001b[0m \u001b[38;5;28;01mif\u001b[39;00m key \u001b[38;5;129;01mis\u001b[39;00m \u001b[38;5;28;01mNone\u001b[39;00m:\n\u001b[1;32m    200\u001b[0m     \u001b[38;5;28;01mreturn\u001b[39;00m\n\u001b[0;32m--> 202\u001b[0m \u001b[38;5;28;43mself\u001b[39;49m\u001b[38;5;241;43m.\u001b[39;49m\u001b[43mvalidate_run\u001b[49m\u001b[43m(\u001b[49m\u001b[43msamples\u001b[49m\u001b[43m,\u001b[49m\u001b[43m \u001b[49m\u001b[43mkey\u001b[49m\u001b[43m,\u001b[49m\u001b[43m \u001b[49m\u001b[43moverwrite\u001b[49m\u001b[38;5;241;43m=\u001b[39;49m\u001b[43moverwrite\u001b[49m\u001b[43m)\u001b[49m\n\u001b[1;32m    203\u001b[0m version \u001b[38;5;241m=\u001b[39m foc\u001b[38;5;241m.\u001b[39mVERSION\n\u001b[1;32m    204\u001b[0m timestamp \u001b[38;5;241m=\u001b[39m datetime\u001b[38;5;241m.\u001b[39mdatetime\u001b[38;5;241m.\u001b[39mutcnow()\n",
      "File \u001b[0;32m~/Projects/auto_inspection/venv/lib/python3.8/site-packages/fiftyone/core/runs.py:249\u001b[0m, in \u001b[0;36mRun.validate_run\u001b[0;34m(self, samples, key, overwrite)\u001b[0m\n\u001b[1;32m    246\u001b[0m     \u001b[38;5;28;01mreturn\u001b[39;00m\n\u001b[1;32m    248\u001b[0m \u001b[38;5;28;01mif\u001b[39;00m \u001b[38;5;28mtype\u001b[39m(\u001b[38;5;28mself\u001b[39m\u001b[38;5;241m.\u001b[39mconfig) \u001b[38;5;241m!=\u001b[39m \u001b[38;5;28mtype\u001b[39m(existing_info\u001b[38;5;241m.\u001b[39mconfig):\n\u001b[0;32m--> 249\u001b[0m     \u001b[38;5;28;01mraise\u001b[39;00m \u001b[38;5;167;01mValueError\u001b[39;00m(\n\u001b[1;32m    250\u001b[0m         \u001b[38;5;124m\"\u001b[39m\u001b[38;5;124mCannot overwrite existing \u001b[39m\u001b[38;5;132;01m%s\u001b[39;00m\u001b[38;5;124m \u001b[39m\u001b[38;5;124m'\u001b[39m\u001b[38;5;132;01m%s\u001b[39;00m\u001b[38;5;124m'\u001b[39m\u001b[38;5;124m of type \u001b[39m\u001b[38;5;132;01m%s\u001b[39;00m\u001b[38;5;124m with one of \u001b[39m\u001b[38;5;124m\"\u001b[39m\n\u001b[1;32m    251\u001b[0m         \u001b[38;5;124m\"\u001b[39m\u001b[38;5;124mtype \u001b[39m\u001b[38;5;132;01m%s\u001b[39;00m\u001b[38;5;124m; please choose a different key or delete the \u001b[39m\u001b[38;5;124m\"\u001b[39m\n\u001b[1;32m    252\u001b[0m         \u001b[38;5;124m\"\u001b[39m\u001b[38;5;124mexisting one first\u001b[39m\u001b[38;5;124m\"\u001b[39m\n\u001b[1;32m    253\u001b[0m         \u001b[38;5;241m%\u001b[39m (\n\u001b[1;32m    254\u001b[0m             \u001b[38;5;28mself\u001b[39m\u001b[38;5;241m.\u001b[39m_run_str(),\n\u001b[1;32m    255\u001b[0m             key,\n\u001b[1;32m    256\u001b[0m             \u001b[38;5;28mtype\u001b[39m(existing_info\u001b[38;5;241m.\u001b[39mconfig),\n\u001b[1;32m    257\u001b[0m             \u001b[38;5;28mtype\u001b[39m(\u001b[38;5;28mself\u001b[39m\u001b[38;5;241m.\u001b[39mconfig),\n\u001b[1;32m    258\u001b[0m         )\n\u001b[1;32m    259\u001b[0m     )\n\u001b[1;32m    261\u001b[0m \u001b[38;5;28mself\u001b[39m\u001b[38;5;241m.\u001b[39m_validate_run(samples, key, existing_info)\n",
      "\u001b[0;31mValueError\u001b[0m: Cannot overwrite existing brain method run 'image_embeddings' of type <class 'fiftyone.brain.visualization.TSNEVisualizationConfig'> with one of type <class 'fiftyone.brain.visualization.UMAPVisualizationConfig'>; please choose a different key or delete the existing one first"
     ]
    }
   ],
   "source": [
    "results = fob.compute_visualization(\n",
    "    dataset,\n",
    "    embeddings=embeddings,\n",
    "    num_dims=2,\n",
    "    brain_key=\"image_embeddings\",\n",
    "    verbose=True,\n",
    "    seed=51,\n",
    "    method='umap'\n",
    ")"
   ]
  },
  {
   "cell_type": "code",
   "execution_count": null,
   "id": "db1405a0-4198-46a4-9a13-45d82eecf142",
   "metadata": {},
   "outputs": [],
   "source": [
    "session = fo.launch_app(dataset)"
   ]
  },
  {
   "cell_type": "code",
   "execution_count": null,
   "id": "ccaca66a-2c62-4c1f-9132-c86172bdd29e",
   "metadata": {},
   "outputs": [],
   "source": [
    "plot = results.visualize()\n",
    "plot.show(height=720)\n",
    "\n",
    "session.plots.attach(plot)"
   ]
  }
 ],
 "metadata": {
  "kernelspec": {
   "display_name": "Python 3 (ipykernel)",
   "language": "python",
   "name": "python3"
  },
  "language_info": {
   "codemirror_mode": {
    "name": "ipython",
    "version": 3
   },
   "file_extension": ".py",
   "mimetype": "text/x-python",
   "name": "python",
   "nbconvert_exporter": "python",
   "pygments_lexer": "ipython3",
   "version": "3.8.10"
  }
 },
 "nbformat": 4,
 "nbformat_minor": 5
}
