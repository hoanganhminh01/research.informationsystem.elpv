{
 "cells": [
  {
   "cell_type": "code",
   "execution_count": 1,
   "metadata": {},
   "outputs": [],
   "source": [
    "import sys\n",
    "import os\n",
    "sys.path.append(os.path.join(os.path.abspath(os.path.dirname(\"__file__\")), '..'))\n",
    "import numpy as np\n",
    "from utils import data_handling, model_development\n",
    "import matplotlib.pyplot as plt\n",
    "from ipywidgets import interact"
   ]
  },
  {
   "cell_type": "markdown",
   "metadata": {},
   "source": [
    "### Apply and visualize data augmentation"
   ]
  },
  {
   "cell_type": "code",
   "execution_count": 2,
   "metadata": {},
   "outputs": [
    {
     "ename": "TypeError",
     "evalue": "load_data_from_file() takes 1 positional argument but 2 were given",
     "output_type": "error",
     "traceback": [
      "\u001b[1;31m---------------------------------------------------------------------------\u001b[0m",
      "\u001b[1;31mTypeError\u001b[0m                                 Traceback (most recent call last)",
      "\u001b[1;32mc:\\Users\\Admin\\Documents\\GitHub\\research.informationsystem.elpv\\notebooks\\data_preparation_augmentation.ipynb Cell 2\u001b[0m in \u001b[0;36m<cell line: 4>\u001b[1;34m()\u001b[0m\n\u001b[0;32m      <a href='vscode-notebook-cell:/c%3A/Users/Admin/Documents/GitHub/research.informationsystem.elpv/notebooks/data_preparation_augmentation.ipynb#W1sZmlsZQ%3D%3D?line=0'>1</a>\u001b[0m \u001b[39m##\u001b[39;00m\n\u001b[0;32m      <a href='vscode-notebook-cell:/c%3A/Users/Admin/Documents/GitHub/research.informationsystem.elpv/notebooks/data_preparation_augmentation.ipynb#W1sZmlsZQ%3D%3D?line=1'>2</a>\u001b[0m \u001b[39m# Apply and visualize data augmentation:\u001b[39;00m\n\u001b[0;32m      <a href='vscode-notebook-cell:/c%3A/Users/Admin/Documents/GitHub/research.informationsystem.elpv/notebooks/data_preparation_augmentation.ipynb#W1sZmlsZQ%3D%3D?line=2'>3</a>\u001b[0m \u001b[39m#\u001b[39;00m\n\u001b[1;32m----> <a href='vscode-notebook-cell:/c%3A/Users/Admin/Documents/GitHub/research.informationsystem.elpv/notebooks/data_preparation_augmentation.ipynb#W1sZmlsZQ%3D%3D?line=3'>4</a>\u001b[0m cell_images, _ , _  \u001b[39m=\u001b[39m data_handling\u001b[39m.\u001b[39;49mload_data_from_file(\u001b[39m'\u001b[39;49m\u001b[39m../data/labels.csv\u001b[39;49m\u001b[39m'\u001b[39;49m, \u001b[39mTrue\u001b[39;49;00m)\n\u001b[0;32m      <a href='vscode-notebook-cell:/c%3A/Users/Admin/Documents/GitHub/research.informationsystem.elpv/notebooks/data_preparation_augmentation.ipynb#W1sZmlsZQ%3D%3D?line=5'>6</a>\u001b[0m example \u001b[39m=\u001b[39m np\u001b[39m.\u001b[39mstack((cell_images[\u001b[39m935\u001b[39m],) \u001b[39m*\u001b[39m \u001b[39m3\u001b[39m, axis \u001b[39m=\u001b[39m \u001b[39m-\u001b[39m\u001b[39m1\u001b[39m)\n\u001b[0;32m      <a href='vscode-notebook-cell:/c%3A/Users/Admin/Documents/GitHub/research.informationsystem.elpv/notebooks/data_preparation_augmentation.ipynb#W1sZmlsZQ%3D%3D?line=6'>7</a>\u001b[0m random_flip, random_translation, random_zoom, random_rotation \u001b[39m=\u001b[39m model_development\u001b[39m.\u001b[39mdata_augmentation()\n",
      "\u001b[1;31mTypeError\u001b[0m: load_data_from_file() takes 1 positional argument but 2 were given"
     ]
    }
   ],
   "source": [
    "\n",
    "cell_images, _ , _  = data_handling.load_data_from_file('../data/labels.csv')\n",
    "\n",
    "example = np.stack((cell_images[935],) * 3, axis = -1)\n",
    "random_flip, random_translation, random_zoom, random_rotation = model_development.data_augmentation()\n",
    "\n",
    "iters = 5\n",
    "for idx in range(iters):\n",
    "  flip = random_flip(example)\n",
    "  axs = plt.subplot(1, iters, idx + 1)\n",
    "  plt.imshow(flip.numpy().astype('uint8'))\n",
    "  plt.axis('off')\n",
    "  plt.tight_layout()\n",
    "plt.show()\n",
    "\n",
    "for idx in range(iters):\n",
    "  translation = random_translation(example)\n",
    "  axs = plt.subplot(1, iters, idx + 1)\n",
    "  plt.imshow(translation.numpy().astype('uint8'))\n",
    "  plt.axis('off')\n",
    "  plt.tight_layout()\n",
    "plt.show()\n",
    "\n",
    "for idx in range(iters):\n",
    "  zoom = random_zoom(example)\n",
    "  axs = plt.subplot(1, iters, idx + 1)\n",
    "  plt.imshow(zoom.numpy().astype('uint8'))\n",
    "  plt.axis('off')\n",
    "  plt.tight_layout()\n",
    "plt.show()\n",
    "\n",
    "for idx in range(iters):\n",
    "  rotation = random_rotation(example)\n",
    "  axs = plt.subplot(1, iters, idx + 1)\n",
    "  plt.imshow(rotation.numpy().astype('uint8'))\n",
    "  plt.axis('off')\n",
    "  plt.tight_layout()\n",
    "plt.show()\n"
   ]
  }
 ],
 "metadata": {
  "kernelspec": {
   "display_name": "Python 3.10.4 ('tensorflow_latest')",
   "language": "python",
   "name": "python3"
  },
  "language_info": {
   "codemirror_mode": {
    "name": "ipython",
    "version": 3
   },
   "file_extension": ".py",
   "mimetype": "text/x-python",
   "name": "python",
   "nbconvert_exporter": "python",
   "pygments_lexer": "ipython3",
   "version": "3.10.4"
  },
  "orig_nbformat": 4,
  "vscode": {
   "interpreter": {
    "hash": "7d1c19e37e5f6196bc516d7b965f651cc74a678b65e0e3f127f9e9132621bafc"
   }
  }
 },
 "nbformat": 4,
 "nbformat_minor": 2
}
