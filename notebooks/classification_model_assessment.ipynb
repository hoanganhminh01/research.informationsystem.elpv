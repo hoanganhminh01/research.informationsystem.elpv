{
 "cells": [
  {
   "cell_type": "code",
   "execution_count": null,
   "metadata": {},
   "outputs": [],
   "source": [
    "import os\n",
    "import sys\n",
    "sys.path.append(os.path.join(os.path.abspath(os.path.dirname(\"__file__\")), '..'))\n",
    "import numpy as np\n",
    "import matplotlib.pyplot as plt\n",
    "from matplotlib.ticker import AutoMinorLocator\n",
    "from utils import data_handling, model_assessment\n",
    "from ipywidgets import interact"
   ]
  },
  {
   "cell_type": "markdown",
   "metadata": {},
   "source": [
    "### Setup visualization settings"
   ]
  },
  {
   "cell_type": "code",
   "execution_count": null,
   "metadata": {},
   "outputs": [],
   "source": [
    "plt.style.use('seaborn-paper')\n",
    "plt.rcParams['text.usetex'] = True\n",
    "plt.rcParams['font.family'] = 'Helvetica'\n",
    "plt.rcParams['font.size'] = 15\n",
    "plt.rcParams['legend.fontsize'] = 18\n",
    "plt.rcParams['xtick.direction'] = 'in'\n",
    "plt.rcParams['ytick.direction'] = 'in'\n",
    "plt.rcParams['xtick.major.size'] = 5.0\n",
    "plt.rcParams['xtick.minor.size'] = 3.0\n",
    "plt.rcParams['ytick.major.size'] = 5.0\n",
    "plt.rcParams['ytick.minor.size'] = 3.0\n",
    "plt.rcParams['axes.linewidth'] = 0.8\n",
    "plt.rcParams['legend.handlelength'] = 2.0\n",
    "minor_locator = AutoMinorLocator(4)"
   ]
  },
  {
   "cell_type": "markdown",
   "metadata": {},
   "source": [
    "### Assess and visualize classification models' accuracy, precision, recall, and F1-score "
   ]
  },
  {
   "cell_type": "code",
   "execution_count": null,
   "metadata": {},
   "outputs": [],
   "source": [
    "results_VGG19 = [0.7463, 0.7563, 0.6164]\n",
    "results_VGG19.append(model_assessment.compute_F1_score(results_VGG19[1], results_VGG19[2]))\n",
    "\n",
    "results_ResNet152v2 =  [0.7672, 0.7742, 0.6575]\n",
    "results_ResNet152v2.append(model_assessment.compute_F1_score(results_ResNet152v2[1], results_ResNet152v2[2]))\n",
    "\n",
    "results_InceptionResNetv2 = [0.7313, 0.7417, 0.6871]\n",
    "results_InceptionResNetv2.append(model_assessment.compute_F1_score(\\\n",
    "    results_InceptionResNetv2[1], results_InceptionResNetv2[2]))\n",
    "\n",
    "results_NASNetLarge = [0.7672, 0.7263, 0.8415]\n",
    "results_NASNetLarge.append(model_assessment.compute_F1_score(\\\n",
    "    results_NASNetLarge[1], results_NASNetLarge[2]))\n",
    "\n",
    "results = [results_VGG19, results_ResNet152v2, results_InceptionResNetv2, results_NASNetLarge]\n",
    "\n",
    "fig, axs = plt.subplots(1, 1, figsize = (10,5))\n",
    "model_name = ['VGG19', 'ResNet152v2', 'InceptionResNetv2', 'NASNetLarge']\n",
    "labels = ['Accuracy', 'Precision', 'Recall', 'F1-score']\n",
    "\n",
    "for i in range(4):\n",
    "    width = 0.5\n",
    "    xposition = [0.0 + i * width, 3.0 + i * width, 6.0 + i * width, 9.0 + i * width]\n",
    "    rects = axs.bar(xposition, results[i], width, label = model_name[i])\n",
    "\n",
    "\n",
    "xposition = [0.0, 3.0, 6.0, 9.0]\n",
    "plt.xticks(xposition, labels)\n",
    "axs.set_xlabel('Validation Metric')\n",
    "axs.set_ylabel('Range [0.0 - 1.0]')\n",
    "axs.yaxis.set_minor_locator(minor_locator)\n",
    "axs.legend(model_name, loc = 'lower left')\n",
    "plt.show()"
   ]
  },
  {
   "cell_type": "markdown",
   "metadata": {},
   "source": [
    "### Load and prepare test data"
   ]
  },
  {
   "cell_type": "code",
   "execution_count": null,
   "metadata": {},
   "outputs": [],
   "source": [
    "cell_images, cell_labels, cell_types = data_handling.load_data_from_file('../data/labels.csv')\n",
    "\n",
    "train_test_split = int(0.85 * cell_images.shape[0])\n",
    "X_test, Y_test, Z_test = \\\n",
    "    cell_images[train_test_split : ], \\\n",
    "    cell_labels[train_test_split : ], cell_types[train_test_split : ]\n",
    "X_test, Y_test, Z_test = data_handling.preprocess_data(X_test, Y_test, Z_test)"
   ]
  },
  {
   "cell_type": "markdown",
   "metadata": {},
   "source": [
    "### Assess and visualize ROC curve and AUC"
   ]
  },
  {
   "cell_type": "raw",
   "metadata": {},
   "source": [
    "VGG19_auc, VGG19_fpr, VGG19_tpr = \\\n",
    "    model_assessment.compute_AUC('../models/weights/VGG19_1.00.00_ss.hdf5', X_test, Y_test)\n",
    "RestNet152v2_auc, RestNet152v2_fpr, RestNet152v2_tpr = \\\n",
    "    model_assessment.compute_AUC('../models/weights/ResNet152v2_1.00.00_ss.hdf5', X_test, Y_test)\n",
    "InceptionResNetv2_auc, InceptionResNetv2_fpr, InceptionResNetv2_tpr = \\\n",
    "    model_assessment.compute_AUC('../models/weights/InceptionResNetv2_1.00.00_ss.hdf5', X_test, Y_test)\n",
    "NasNetLarge_auc, NasNetLarge_fpr, NasNetLarge_tpr = \\\n",
    "    model_assessment.compute_AUC('../models/weights/NasNetLarge_1.00.00_ss.hdf5', X_test, Y_test)\n",
    "\n",
    "\n",
    "fig, axs = plt.subplots(1, 1, figsize = (10,5))\n",
    "axs.plot(VGG19_fpr, VGG19_tpr, label = model_name[0])\n",
    "axs.plot(RestNet152v2_fpr, RestNet152v2_tpr, label = model_name[1])\n",
    "axs.plot(InceptionResNetv2_fpr, InceptionResNetv2_tpr, label = model_name[2])\n",
    "axs.plot(NasNetLarge_fpr, NasNetLarge_tpr, label = model_name[3])\n",
    "axs.set_xlabel('False Positive Rate - Range [0.0 - 1.0]')\n",
    "axs.set_ylabel('True Positve Rate - Range [0.0 - 1.0]')\n",
    "axs.xaxis.set_minor_locator(minor_locator)\n",
    "axs.yaxis.set_minor_locator(minor_locator)\n",
    "axs.legend(loc = 'lower right')\n",
    "plt.show()\n"
   ]
  },
  {
   "cell_type": "markdown",
   "metadata": {},
   "source": [
    "### Assess and visualize confusion matrix"
   ]
  },
  {
   "cell_type": "raw",
   "metadata": {},
   "source": [
    "defect_probability = 0.3333333333333333\n",
    "VGG19_cm = model_assessment.compute_confusion_matrix(\\\n",
    "    '../models/weights/VGG19_1.00.00_ss.hdf5', X_test, Y_test, defect_probability)\n",
    "RestNet152v2_cm = model_assessment.compute_confusion_matrix(\\\n",
    "    '../models/weights/ResNet152v2_1.00.00_ss.hdf5', X_test, Y_test, defect_probability)\n",
    "InceptionResNetv2_cm = model_assessment.compute_confusion_matrix(\\\n",
    "    '../models/weights/InceptionResNetv2_1.00.00_ss.hdf5', X_test, Y_test, defect_probability)\n",
    "NasNetLarge_cm = \\\n",
    "    model_assessment.compute_confusion_matrix('../models/weights/NasNetLarge_1.00.00_ss.hdf5', X_test, Y_test, defect_probability)\n",
    "\n",
    "fig, ax = plt.subplots(figsize = (10, 10))\n",
    "ax.matshow(VGG19_cm, cmap = plt.cm.Blues, alpha = 0.3)\n",
    "for i in range(VGG19_cm.shape[0]):\n",
    "    for j in range(VGG19_cm.shape[1]):\n",
    "        ax.text(x = j, y = i,s = VGG19_cm[i, j], va = 'center', ha = 'center', size = 'xx-large')\n",
    "\n",
    "fig, ax = plt.subplots(figsize = (10, 10))\n",
    "ax.matshow(RestNet152v2_cm, cmap = plt.cm.Blues, alpha = 0.3)\n",
    "for i in range(RestNet152v2_cm.shape[0]):\n",
    "    for j in range(RestNet152v2_cm.shape[1]):\n",
    "        ax.text(x = j, y = i,s = RestNet152v2_cm[i, j], va = 'center', ha = 'center', size = 'xx-large')\n",
    "\n",
    "fig, ax = plt.subplots(figsize = (10, 10))\n",
    "ax.matshow(InceptionResNetv2_cm, cmap = plt.cm.Blues, alpha = 0.3)\n",
    "for i in range(InceptionResNetv2_cm.shape[0]):\n",
    "    for j in range(InceptionResNetv2_cm.shape[1]):\n",
    "        ax.text(x = j, y = i,s = InceptionResNetv2_cm[i, j], va = 'center', ha = 'center', size = 'xx-large')\n",
    "\n",
    "fig, ax = plt.subplots(figsize = (5, 5))\n",
    "ax.matshow(NasNetLarge_cm, cmap = plt.cm.Blues, alpha = 0.3)\n",
    "for i in range(NasNetLarge_cm.shape[0]):\n",
    "    for j in range(NasNetLarge_cm.shape[1]):\n",
    "        ax.text(x = j, y = i,s = NasNetLarge_cm[i, j], va = 'center', ha = 'center', size = 'xx-large')  "
   ]
  },
  {
   "cell_type": "markdown",
   "metadata": {},
   "source": [
    "### Assess and visualize class activation maps (CAMs)"
   ]
  },
  {
   "cell_type": "code",
   "execution_count": null,
   "metadata": {},
   "outputs": [],
   "source": [
    "@interact(n = (0, X_test.shape[0]))\n",
    "def display_CAM(n = 0):\n",
    "    cell_image = X_test[n]\n",
    "    cam_output, prediction = model_assessment.compute_CAM(\\\n",
    "        '../models/weights/VGG19_1.00.00_ss.hdf5', cell_image, 'block5_conv4', (18, 18))\n",
    "\n",
    "    fig, axs = plt.subplots(1, 1, figsize = (5,5))\n",
    "    axs.imshow(cell_image, cmap = 'gray', alpha = 0.7)\n",
    "    axs.imshow(cam_output, cmap = 'jet', alpha = 0.3)\n",
    "    axs.set_title(f'Predict Probability: {prediction} - Actual Probability: {Y_test[n]} - Cell Type: {Z_test[n]}')"
   ]
  },
  {
   "cell_type": "code",
   "execution_count": null,
   "metadata": {},
   "outputs": [],
   "source": [
    "@interact(n = (0, X_test.shape[0]))\n",
    "def display_CAM(n = 0):\n",
    "    cell_image = X_test[n]\n",
    "    cam_output, prediction = model_assessment.compute_CAM(\\\n",
    "        '../models/weights/ResNet152v2_1.00.00_ss.hdf5', cell_image, 'post_relu', 18, 18)\n",
    "\n",
    "    fig, axs = plt.subplots(1, 1, figsize = (5,5))\n",
    "    axs.imshow(cell_image, cmap = 'gray', alpha = 0.7)\n",
    "    axs.imshow(cam_output, cmap = 'jet', alpha = 0.3)\n",
    "    axs.set_title(f'Predict Probability: {prediction} - Actual Probability: {Y_test[n]} - Cell Type: {Z_test[n]}')"
   ]
  }
 ],
 "metadata": {
  "kernelspec": {
   "display_name": "Python 3.10.4 ('tensorflow_latest')",
   "language": "python",
   "name": "python3"
  },
  "language_info": {
   "codemirror_mode": {
    "name": "ipython",
    "version": 3
   },
   "file_extension": ".py",
   "mimetype": "text/x-python",
   "name": "python",
   "nbconvert_exporter": "python",
   "pygments_lexer": "ipython3",
   "version": "3.10.4"
  },
  "orig_nbformat": 4,
  "vscode": {
   "interpreter": {
    "hash": "7d1c19e37e5f6196bc516d7b965f651cc74a678b65e0e3f127f9e9132621bafc"
   }
  }
 },
 "nbformat": 4,
 "nbformat_minor": 2
}
