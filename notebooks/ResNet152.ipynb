{
 "cells": [
  {
   "cell_type": "code",
   "execution_count": 1,
   "metadata": {},
   "outputs": [],
   "source": [
    "import sys\n",
    "import os\n",
    "sys.path.append(os.path.join(os.path.abspath(os.path.dirname(\"__file__\")), '..'))\n",
    "from utils import data_handling, model_development\n",
    "import matplotlib.pyplot as plt\n",
    "from ipywidgets import interact"
   ]
  },
  {
   "cell_type": "code",
   "execution_count": 2,
   "metadata": {},
   "outputs": [],
   "source": [
    "##\n",
    "# Configure the model training policy:\n",
    "#\n",
    "model_development.configure_training_policy()"
   ]
  },
  {
   "cell_type": "code",
   "execution_count": 3,
   "metadata": {},
   "outputs": [
    {
     "name": "stdout",
     "output_type": "stream",
     "text": [
      "[(2624, 300, 300), 2624, 2624]\n",
      "[(2624, 300, 300, 3), 2624, 2624]\n"
     ]
    },
    {
     "data": {
      "application/vnd.jupyter.widget-view+json": {
       "model_id": "57d669ded7324bcd86ca0f3ad15534e9",
       "version_major": 2,
       "version_minor": 0
      },
      "text/plain": [
       "interactive(children=(IntSlider(value=0, description='n', max=2623), Output()), _dom_classes=('widget-interact…"
      ]
     },
     "metadata": {},
     "output_type": "display_data"
    },
    {
     "data": {
      "application/vnd.jupyter.widget-view+json": {
       "model_id": "ce4e6687ef4e4fecbda97410f5be5dd5",
       "version_major": 2,
       "version_minor": 0
      },
      "text/plain": [
       "interactive(children=(IntSlider(value=0, description='n', max=2623), Output()), _dom_classes=('widget-interact…"
      ]
     },
     "metadata": {},
     "output_type": "display_data"
    }
   ],
   "source": [
    "##\n",
    "# Load and preprocess data:\n",
    "#\n",
    "cell_images, cell_labels, cell_types = data_handling.load_data_from_file('../data/labels.csv', True)\n",
    "X, Y, Z = data_handling.preprocess_data(cell_images, cell_labels, cell_types)\n",
    "\n",
    "print([cell_images.shape, len(cell_labels), len(cell_types)])\n",
    "print([X.shape, len(Y), len(Z)])\n",
    "\n",
    "@interact(n = (0, cell_images.shape[0] - 1))\n",
    "def display_data(n = 0):\n",
    "    fig, axs = plt.subplots()\n",
    "    axs.imshow(cell_images[n], cmap = 'gray')\n",
    "    axs.set_title(f'Class: {cell_labels[n]} - Type: {cell_types[n]}')\n",
    "    return None\n",
    "\n",
    "@interact(n = (0, X.shape[0] - 1))\n",
    "def display_data(n = 0):\n",
    "    fig, axs = plt.subplots()\n",
    "    axs.imshow(X[n], cmap = 'gray')\n",
    "    axs.set_title(f'Class: {Y[n]} - Type: {Z[n]}')\n",
    "    return None"
   ]
  },
  {
   "cell_type": "code",
   "execution_count": 4,
   "metadata": {},
   "outputs": [],
   "source": [
    "##\n",
    "# Prepare data for model training:\n",
    "#\n",
    "X_train, Y_train, Z_train = X[: 2000], Y[: 2000], Z[: 2000]\n",
    "X_val, Y_val, Z_val = X[2000 : ], Y[2000 : ], Z[2000 : ]"
   ]
  },
  {
   "cell_type": "code",
   "execution_count": 5,
   "metadata": {},
   "outputs": [
    {
     "name": "stdout",
     "output_type": "stream",
     "text": [
      "WARNING:tensorflow:Using a while_loop for converting RngReadAndSkip\n",
      "WARNING:tensorflow:Using a while_loop for converting Bitcast\n",
      "WARNING:tensorflow:Using a while_loop for converting Bitcast\n",
      "WARNING:tensorflow:Using a while_loop for converting StatelessRandomUniformV2\n",
      "WARNING:tensorflow:Using a while_loop for converting RngReadAndSkip\n",
      "WARNING:tensorflow:Using a while_loop for converting Bitcast\n",
      "WARNING:tensorflow:Using a while_loop for converting Bitcast\n",
      "WARNING:tensorflow:Using a while_loop for converting StatelessRandomUniformV2\n",
      "WARNING:tensorflow:Using a while_loop for converting ImageProjectiveTransformV3\n",
      "Model: \"VGG19\"\n",
      "_________________________________________________________________\n",
      " Layer (type)                Output Shape              Param #   \n",
      "=================================================================\n",
      " inputs (InputLayer)         [(None, 300, 300, 3)]     0         \n",
      "                                                                 \n",
      " rescaling (Rescaling)       (None, 300, 300, 3)       0         \n",
      "                                                                 \n",
      " random_flip (RandomFlip)    (None, 300, 300, 3)       0         \n",
      "                                                                 \n",
      " random_rotation (RandomRota  (None, 300, 300, 3)      0         \n",
      " tion)                                                           \n",
      "                                                                 \n",
      " random_zoom (RandomZoom)    (None, 300, 300, 3)       0         \n",
      "                                                                 \n",
      " random_translation (RandomT  (None, 300, 300, 3)      0         \n",
      " ranslation)                                                     \n",
      "                                                                 \n",
      " block1_conv1 (Conv2D)       (None, 300, 300, 64)      1792      \n",
      "                                                                 \n",
      " block1_conv2 (Conv2D)       (None, 300, 300, 64)      36928     \n",
      "                                                                 \n",
      " block1_pool (MaxPooling2D)  (None, 150, 150, 64)      0         \n",
      "                                                                 \n",
      " block2_conv1 (Conv2D)       (None, 150, 150, 128)     73856     \n",
      "                                                                 \n",
      " block2_conv2 (Conv2D)       (None, 150, 150, 128)     147584    \n",
      "                                                                 \n",
      " block2_pool (MaxPooling2D)  (None, 75, 75, 128)       0         \n",
      "                                                                 \n",
      " block3_conv1 (Conv2D)       (None, 75, 75, 256)       295168    \n",
      "                                                                 \n",
      " block3_conv2 (Conv2D)       (None, 75, 75, 256)       590080    \n",
      "                                                                 \n",
      " block3_conv3 (Conv2D)       (None, 75, 75, 256)       590080    \n",
      "                                                                 \n",
      " block3_conv4 (Conv2D)       (None, 75, 75, 256)       590080    \n",
      "                                                                 \n",
      " block3_pool (MaxPooling2D)  (None, 37, 37, 256)       0         \n",
      "                                                                 \n",
      " block4_conv1 (Conv2D)       (None, 37, 37, 512)       1180160   \n",
      "                                                                 \n",
      " block4_conv2 (Conv2D)       (None, 37, 37, 512)       2359808   \n",
      "                                                                 \n",
      " block4_conv3 (Conv2D)       (None, 37, 37, 512)       2359808   \n",
      "                                                                 \n",
      " block4_conv4 (Conv2D)       (None, 37, 37, 512)       2359808   \n",
      "                                                                 \n",
      " block4_pool (MaxPooling2D)  (None, 18, 18, 512)       0         \n",
      "                                                                 \n",
      " block5_conv1 (Conv2D)       (None, 18, 18, 512)       2359808   \n",
      "                                                                 \n",
      " block5_conv2 (Conv2D)       (None, 18, 18, 512)       2359808   \n",
      "                                                                 \n",
      " block5_conv3 (Conv2D)       (None, 18, 18, 512)       2359808   \n",
      "                                                                 \n",
      " block5_conv4 (Conv2D)       (None, 18, 18, 512)       2359808   \n",
      "                                                                 \n",
      " block5_pool (MaxPooling2D)  (None, 9, 9, 512)         0         \n",
      "                                                                 \n",
      " globavgpool (GlobalAverageP  (None, 512)              0         \n",
      " ooling2D)                                                       \n",
      "                                                                 \n",
      " dense1 (Dense)              (None, 4096)              2101248   \n",
      "                                                                 \n",
      " dense2 (Dense)              (None, 4096)              16781312  \n",
      "                                                                 \n",
      " dense3 (Dense)              (None, 1000)              4097000   \n",
      "                                                                 \n",
      " dense4 (Dense)              (None, 512)               512512    \n",
      "                                                                 \n",
      " outputs (Dense)             (None, 1)                 513       \n",
      "                                                                 \n",
      "=================================================================\n",
      "Total params: 43,516,969\n",
      "Trainable params: 23,492,585\n",
      "Non-trainable params: 20,024,384\n",
      "_________________________________________________________________\n"
     ]
    }
   ],
   "source": [
    "##\n",
    "# Train classification model:\n",
    "#\n",
    "resnet152 = model_development.resnet152v2(input_shape = (300, 300, 3), \n",
    "    display_model_information = True)\n",
    "history, training_time = model_development.train_classification_model(model = resnet152, \n",
    "    model_name = 'ResNet152v2', version = '20221001', \n",
    "    X = X_train, Y = Y_train, metric_to_monitor = 'val_accuracy', \n",
    "    no_of_epochs = 10, batch_size = 4, validation_split_ratio = 0.2)"
   ]
  }
 ],
 "metadata": {
  "kernelspec": {
   "display_name": "Python 3.9.13 ('base')",
   "language": "python",
   "name": "python3"
  },
  "language_info": {
   "codemirror_mode": {
    "name": "ipython",
    "version": 3
   },
   "file_extension": ".py",
   "mimetype": "text/x-python",
   "name": "python",
   "nbconvert_exporter": "python",
   "pygments_lexer": "ipython3",
   "version": "3.9.13"
  },
  "orig_nbformat": 4,
  "vscode": {
   "interpreter": {
    "hash": "ad2bdc8ecc057115af97d19610ffacc2b4e99fae6737bb82f5d7fb13d2f2c186"
   }
  }
 },
 "nbformat": 4,
 "nbformat_minor": 2
}
