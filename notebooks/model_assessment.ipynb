{
 "cells": [
  {
   "cell_type": "code",
   "execution_count": null,
   "metadata": {},
   "outputs": [],
   "source": [
    "import os\n",
    "import sys\n",
    "sys.path.append(os.path.join(os.path.abspath(os.path.dirname(\"__file__\")), '..'))\n",
    "import numpy as np\n",
    "import matplotlib.pyplot as plt\n",
    "from matplotlib.ticker import AutoMinorLocator\n",
    "from utils import data_handling, exploratory_data_analysis\n",
    "from ipywidgets import interact"
   ]
  },
  {
   "cell_type": "code",
   "execution_count": null,
   "metadata": {},
   "outputs": [],
   "source": [
    "##\n",
    "# Setup visualization settings:\n",
    "#\n",
    "plt.style.use('seaborn-paper')\n",
    "plt.rcParams['text.usetex'] = True\n",
    "plt.rcParams['font.size'] = 15\n",
    "plt.rcParams['legend.fontsize'] = 18\n",
    "plt.rcParams['xtick.direction'] = 'in'\n",
    "plt.rcParams['ytick.direction'] = 'in'\n",
    "plt.rcParams['xtick.major.size'] = 5.0\n",
    "plt.rcParams['xtick.minor.size'] = 3.0\n",
    "plt.rcParams['ytick.major.size'] = 5.0\n",
    "plt.rcParams['ytick.minor.size'] = 3.0\n",
    "plt.rcParams['axes.linewidth'] = 0.8\n",
    "plt.rcParams['legend.handlelength'] = 2.0\n",
    "minor_locator = AutoMinorLocator(4)"
   ]
  },
  {
   "cell_type": "code",
   "execution_count": null,
   "metadata": {},
   "outputs": [],
   "source": [
    "##\n",
    "# Accuracy - Precision - Recall - F1-score \n",
    "#\n",
    "model_name = ['VGG19', 'ResNet152', 'InceptionResNetv2', 'NASNetLarge']\n",
    "\n",
    "results_VGG19 = [0.7463, 0.7563, 0.6164]\n",
    "results_VGG19.append(1 / (1 / results_VGG19[1] + 1 / results_VGG19[2]))\n",
    "\n",
    "results_ResNet152 =  [0.7015, 0.7402, 0.5839]\n",
    "results_VGG19.append(1 / (1 / results_VGG19[1] + 1 / results_VGG19[2]))\n",
    "\n",
    "results_InceptionResNetv2 = [0.7313, 0.7417, 0.6871]\n",
    "results_NASNetLarge = [0.7672, 0.7263, 0.8415]\n"
   ]
  }
 ],
 "metadata": {
  "kernelspec": {
   "display_name": "Python 3.10.4 ('tensorflow_latest')",
   "language": "python",
   "name": "python3"
  },
  "language_info": {
   "name": "python",
   "version": "3.10.4"
  },
  "orig_nbformat": 4,
  "vscode": {
   "interpreter": {
    "hash": "7d1c19e37e5f6196bc516d7b965f651cc74a678b65e0e3f127f9e9132621bafc"
   }
  }
 },
 "nbformat": 4,
 "nbformat_minor": 2
}
