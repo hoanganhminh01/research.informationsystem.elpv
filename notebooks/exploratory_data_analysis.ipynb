{
 "cells": [
  {
   "cell_type": "code",
   "execution_count": null,
   "id": "a66298f0-1ae7-48cc-bf6b-dcd723b974e9",
   "metadata": {},
   "outputs": [],
   "source": [
    "import os\n",
    "import sys\n",
    "sys.path.append(os.path.join(os.path.abspath(os.path.dirname(\"__file__\")), '..'))\n",
    "import numpy as np\n",
    "import matplotlib.pyplot as plt\n",
    "from matplotlib.ticker import AutoMinorLocator\n",
    "from utils import data_handling, exploratory_data_analysis\n",
    "from ipywidgets import interact"
   ]
  },
  {
   "cell_type": "code",
   "execution_count": null,
   "id": "794d4973",
   "metadata": {},
   "outputs": [],
   "source": [
    "##\n",
    "# Setup visualization settings:\n",
    "#\n",
    "plt.style.use('seaborn-paper')\n",
    "plt.rcParams['text.usetex'] = True\n",
    "plt.rcParams['font.size'] = 15\n",
    "plt.rcParams['legend.fontsize'] = 18\n",
    "plt.rcParams['xtick.direction'] = 'in'\n",
    "plt.rcParams['ytick.direction'] = 'in'\n",
    "plt.rcParams['xtick.major.size'] = 5.0\n",
    "plt.rcParams['xtick.minor.size'] = 3.0\n",
    "plt.rcParams['ytick.major.size'] = 5.0\n",
    "plt.rcParams['ytick.minor.size'] = 3.0\n",
    "plt.rcParams['axes.linewidth'] = 0.8\n",
    "plt.rcParams['legend.handlelength'] = 2.0\n",
    "minor_locator = AutoMinorLocator(4)"
   ]
  },
  {
   "cell_type": "code",
   "execution_count": null,
   "id": "ea5b55c3",
   "metadata": {},
   "outputs": [],
   "source": [
    "##\n",
    "# Load and group data according to labels and types:\n",
    "#\n",
    "categories = ['mono-functional', 'mono-marginally-defective', 'mono-defective', \n",
    "    'poly-functional','poly-marginally-defective', 'poly-defective']\n",
    "    \n",
    "cell_images, cell_labels, cell_types = data_handling.load_data_from_file('../data/labels.csv', True)\n",
    "\n",
    "mono_functional = data_handling.group_data_by_labels_and_types(cell_images, cell_labels, cell_types, 0.0, 'mono')\n",
    "mono_defective = data_handling.group_data_by_labels_and_types(cell_images, cell_labels, cell_types, 1.0, 'mono')\n",
    "mono_marginally_defective = np.concatenate(\\\n",
    "    (data_handling.group_data_by_labels_and_types(cell_images, cell_labels, cell_types, 0.3333333333333333, 'mono'), \n",
    "    data_handling.group_data_by_labels_and_types(cell_images, cell_labels, cell_types, 0.6666666666666666, 'mono')), axis = 0)\n",
    "\n",
    "poly_functional = data_handling.group_data_by_labels_and_types(cell_images, cell_labels, cell_types, 0.0, 'poly')\n",
    "poly_defective = data_handling.group_data_by_labels_and_types(cell_images, cell_labels, cell_types, 1.0, 'poly')\n",
    "poly_marginally_defective = np.concatenate(\\\n",
    "    (data_handling.group_data_by_labels_and_types(cell_images, cell_labels, cell_types, 0.3333333333333333, 'poly'), \n",
    "    data_handling.group_data_by_labels_and_types(cell_images, cell_labels, cell_types, 0.6666666666666666, 'poly')), axis = 0)\n",
    "\n",
    "print([mono_functional.shape, mono_marginally_defective.shape, mono_defective.shape])\n",
    "print([poly_functional.shape, poly_marginally_defective.shape, poly_defective.shape])"
   ]
  },
  {
   "cell_type": "code",
   "execution_count": null,
   "id": "b5fbf801",
   "metadata": {},
   "outputs": [],
   "source": [
    "@interact(i = (0, mono_functional.shape[0] - 1), \n",
    "    j = (0, mono_marginally_defective.shape[0] - 1), \n",
    "    k = (0, mono_defective.shape[0] - 1))\n",
    "def display_image(i = 0, j = 0, k = 0):\n",
    "    fig, axs = plt.subplots(1,3)\n",
    "    axs[0].imshow(mono_functional[i], cmap = 'gray')\n",
    "    axs[0].set_title(categories[0])\n",
    "    axs[0].set_xlabel('Width [px]')\n",
    "    axs[0].set_ylabel('Width [px]')\n",
    "\n",
    "    axs[1].imshow(mono_marginally_defective[j], cmap = 'gray')\n",
    "    axs[1].set_title(categories[1])\n",
    "    axs[1].set_xlabel('Width [px]')\n",
    "    axs[1].set_ylabel('Width [px]')\n",
    "\n",
    "    axs[2].imshow(mono_defective[k], cmap = 'gray')\n",
    "    axs[2].set_title(categories[2])\n",
    "    axs[2].set_xlabel('Width [px]')\n",
    "    axs[2].set_ylabel('Width [px]')\n",
    "    plt.tight_layout()\n",
    "    return None\n",
    "\n",
    "@interact(i = (0, poly_functional.shape[0] - 1), \n",
    "    j = (0, poly_marginally_defective.shape[0] - 1), \n",
    "    k = (0, poly_defective.shape[0] - 1))\n",
    "def display_image(i = 0, j = 0, k = 0):\n",
    "    fig, axs = plt.subplots(1,3)\n",
    "    axs[0].imshow(poly_functional[i], cmap = 'gray')\n",
    "    axs[0].set_title(categories[3])\n",
    "    axs[0].set_xlabel('Width [px]')\n",
    "    axs[0].set_ylabel('Width [px]')\n",
    "\n",
    "    axs[1].imshow(poly_marginally_defective[j], cmap = 'gray')\n",
    "    axs[1].set_title(categories[4])\n",
    "    axs[1].set_xlabel('Width [px]')\n",
    "    axs[1].set_ylabel('Width [px]')\n",
    "\n",
    "    axs[2].imshow(poly_defective[k], cmap = 'gray')\n",
    "    axs[2].set_title(categories[5])\n",
    "    axs[2].set_xlabel('Width [px]')\n",
    "    axs[2].set_ylabel('Width [px]')\n",
    "    plt.tight_layout()\n",
    "    return None"
   ]
  },
  {
   "cell_type": "code",
   "execution_count": null,
   "id": "fb2bd7ce-84ca-4eca-8998-84bab780b0de",
   "metadata": {},
   "outputs": [],
   "source": [
    "##\n",
    "# Compute statistical parameters (mean, median, std, max, min, mode):\n",
    "#\n",
    "mono_functional_stats = exploratory_data_analysis.compute_statistical_parameters(mono_functional)\n",
    "mono_marginally_defective_stats = exploratory_data_analysis.compute_statistical_parameters(mono_marginally_defective)\n",
    "mono_defective_stats = exploratory_data_analysis.compute_statistical_parameters(mono_defective)\n",
    "\n",
    "poly_functional_stats = exploratory_data_analysis.compute_statistical_parameters(poly_functional)\n",
    "poly_marginally_defective_stats = exploratory_data_analysis.compute_statistical_parameters(poly_marginally_defective)\n",
    "poly_defective_stats = exploratory_data_analysis.compute_statistical_parameters(poly_defective)\n",
    "\n",
    "parameters = [mono_functional_stats, mono_marginally_defective_stats, mono_defective_stats,\n",
    "    poly_functional_stats, poly_marginally_defective_stats, poly_defective_stats]"
   ]
  },
  {
   "cell_type": "code",
   "execution_count": null,
   "id": "c07ffe5f",
   "metadata": {},
   "outputs": [],
   "source": [
    "##\n",
    "# Visualize the distribution of these statistical parameters:\n",
    "#\n",
    "titles = ['mean', 'median', 'maximum', 'minimum', 'mode']\n",
    "\n",
    "for idx, category in enumerate(categories):\n",
    "    fig, axs = plt.subplots(5, 1, figsize = (15,10))\n",
    "    for jdx in range(5):\n",
    "        axs[jdx].hist(parameters[idx][jdx], bins = 256)\n",
    "        axs[jdx].set_title(f'Distribution of {titles[jdx]} image-by-image for {category} category')\n",
    "        axs[jdx].set_xlabel('Pixel')\n",
    "        axs[jdx].set_ylabel('Count')\n",
    "        axs[jdx].xaxis.set_minor_locator(minor_locator)\n",
    "        plt.tight_layout()\n"
   ]
  },
  {
   "cell_type": "code",
   "execution_count": null,
   "id": "05728d06-a2e3-4954-81e2-bf69d87ac63a",
   "metadata": {},
   "outputs": [],
   "source": [
    "##\n",
    "# Computer and visualize average image:\n",
    "#\n",
    "mono_functional_average = exploratory_data_analysis.compute_average_image(mono_functional)\n",
    "mono_marginally_defective_average = exploratory_data_analysis.compute_average_image(mono_marginally_defective)\n",
    "mono_defective_average = exploratory_data_analysis.compute_average_image(mono_defective)\n",
    "\n",
    "poly_functional_average = exploratory_data_analysis.compute_average_image(poly_functional)\n",
    "poly_marginally_defective_average = exploratory_data_analysis.compute_average_image(poly_marginally_defective)\n",
    "poly_defective_average = exploratory_data_analysis.compute_average_image(poly_defective)\n",
    "\n",
    "average_images = [mono_functional_average, mono_marginally_defective_average, mono_defective_average, \n",
    "    poly_functional_average, poly_marginally_defective_average, poly_marginally_defective_average]\n",
    "\n",
    "fig, axs = plt.subplots(1, 3, figsize = (15,10))\n",
    "for jdx in range(3):\n",
    "    axs[jdx].imshow(average_images[jdx], cmap = 'gray')\n",
    "    axs[jdx].set_title(f'Average image for {categories[jdx]} category')\n",
    "    axs[jdx].set_xlabel('Width [px]')\n",
    "    axs[jdx].set_ylabel('Height [px]')\n",
    "    plt.tight_layout()\n",
    "\n",
    "fig, axs = plt.subplots(1, 3, figsize = (15,10))\n",
    "for jdx in range(3):\n",
    "    axs[jdx].imshow(average_images[jdx + 3], cmap = 'gray')\n",
    "    axs[jdx].set_title(f'Average image for {categories[jdx + 3]} category')\n",
    "    axs[jdx].set_xlabel('Width [px]')\n",
    "    axs[jdx].set_ylabel('Height [px]')\n",
    "    plt.tight_layout()"
   ]
  },
  {
   "cell_type": "code",
   "execution_count": null,
   "id": "336edfdd",
   "metadata": {},
   "outputs": [],
   "source": [
    "##\n",
    "# Computer and visualize image contrast:\n",
    "#\n",
    "mono_contrast = [np.subtract(mono_functional_average, mono_marginally_defective_average) ** 2, \n",
    "    np.subtract(mono_functional_average, mono_defective_average) ** 2]\n",
    "poly_contrast = [np.subtract(poly_functional_average, poly_marginally_defective_average) ** 2, \n",
    "    np.subtract(poly_functional_average, poly_defective_average) ** 2]\n",
    "\n",
    "fig, axs = plt.subplots(1, 2, figsize = (15,10))\n",
    "axs[0].imshow(mono_contrast[0], cmap = 'jet')\n",
    "axs[0].set_title(f'Contrast between {categories[0]} and {categories[1]}')\n",
    "axs[0].set_xlabel('Width [px]')\n",
    "axs[0].set_ylabel('Height [px]')\n",
    "axs[1].imshow(mono_contrast[1], cmap = 'jet')\n",
    "axs[1].set_title(f'Contrast between {categories[0]} and {categories[2]}')\n",
    "axs[1].set_xlabel('Width [px]')\n",
    "axs[1].set_ylabel('Height [px]')\n",
    "plt.tight_layout()\n",
    "\n",
    "fig, axs = plt.subplots(1, 2, figsize = (15,10))\n",
    "axs[0].imshow(poly_contrast[0], cmap = 'jet')\n",
    "axs[0].set_title(f'Contrast between {categories[3]} and {categories[4]}')\n",
    "axs[0].set_xlabel('Width [px]')\n",
    "axs[0].set_ylabel('Height [px]')\n",
    "axs[1].imshow(poly_contrast[1], cmap = 'jet')\n",
    "axs[1].set_title(f'Contrast between {categories[3]} and {categories[5]}')\n",
    "axs[1].set_xlabel('Width [px]')\n",
    "axs[1].set_ylabel('Height [px]')\n",
    "plt.tight_layout()"
   ]
  },
  {
   "cell_type": "code",
   "execution_count": null,
   "id": "7e8475e3",
   "metadata": {},
   "outputs": [],
   "source": [
    "##\n",
    "# Compute and visualize eigenimages:\n",
    "#\n",
    "mono_functional_eigens = exploratory_data_analysis.compute_eigenimages(mono_functional, 0.8)\n",
    "mono_marginally_defective_eigens = \\\n",
    "    exploratory_data_analysis.compute_eigenimages(mono_marginally_defective, 0.8)\n",
    "mono_defective_eigens = exploratory_data_analysis.compute_eigenimages(mono_defective, 0.8)"
   ]
  },
  {
   "cell_type": "raw",
   "id": "baef0fe3",
   "metadata": {},
   "source": [
    "@interact(i = (0, mono_functional_eigens.shape[0] - 1), \n",
    "    j = (0, mono_marginally_defective_eigens.shape[0] - 1), \n",
    "    k = (0, mono_defective_eigens.shape[0] - 1))\n",
    "def display_image(i = 0, j = 0, k = 0):\n",
    "    fig, axs = plt.subplots(1,3)\n",
    "    axs[0].imshow(mono_functional_eigens[i], cmap = 'gray')\n",
    "    axs[0].set_title(f'Eigenimage of {categories[0]}')\n",
    "    axs[0].set_xlabel('Width [px]')\n",
    "    axs[0].set_ylabel('Width [px]')\n",
    "\n",
    "    axs[1].imshow(mono_marginally_defective_eigens[j], cmap = 'gray')\n",
    "    axs[1].set_title(f'Eigenimage of {categories[1]}')\n",
    "    axs[1].set_xlabel('Width [px]')\n",
    "    axs[1].set_ylabel('Width [px]')\n",
    "\n",
    "    axs[2].imshow(mono_defective_eigens[k], cmap = 'gray')\n",
    "    axs[2].set_title(f'Eigenimage of {categories[2]}')\n",
    "    axs[2].set_xlabel('Width [px]')\n",
    "    axs[2].set_ylabel('Width [px]')\n",
    "    plt.tight_layout()\n",
    "    return None"
   ]
  },
  {
   "cell_type": "code",
   "execution_count": null,
   "id": "0afdb435",
   "metadata": {},
   "outputs": [],
   "source": [
    "##\n",
    "#\n",
    "#\n",
    "cell_images_embeddings, cell_classes = exploratory_data_analysis.compute_image_embeddings(cell_images, 2)\n",
    "\n",
    "fig, axs = plt.subplots(figize = (15,10))\n",
    "axs.\n",
    "# c_map = plt.cm.get_cmap('jet', 10)\n",
    "# plt.scatter(converted_data[:, 0], converted_data[:, 1], s = 15,\n",
    "#             cmap = c_map , c = labels)\n",
    "# plt.colorbar()\n",
    "# plt.xlabel('PC-1') , plt.ylabel('PC-2')\n",
    "# plt.show()"
   ]
  },
  {
   "cell_type": "markdown",
   "id": "544051a7-20f9-4edb-adcc-7c623319c503",
   "metadata": {},
   "source": [
    "## Image embedding with fiftyone"
   ]
  },
  {
   "cell_type": "code",
   "execution_count": null,
   "id": "77af2f9a-2b8e-4877-9d2e-c881c5d9b2fd",
   "metadata": {},
   "outputs": [],
   "source": [
    "model = foz.load_zoo_model(\"resnet50-imagenet-torch\")\n",
    "print(model.has_embeddings)"
   ]
  },
  {
   "cell_type": "code",
   "execution_count": null,
   "id": "33492776",
   "metadata": {},
   "outputs": [],
   "source": [
    "dataset = fo.load_dataset('dataset')\n",
    "dataset.delete()"
   ]
  },
  {
   "cell_type": "code",
   "execution_count": null,
   "id": "2cdadb5b-ce50-4fee-9dd4-3fc2f46c3f41",
   "metadata": {},
   "outputs": [],
   "source": [
    "dataset = fo.Dataset('dataset')\n",
    "for im_path in image_list:\n",
    "    im_name = str('images/' + im_path.name)\n",
    "    sample = fo.Sample(filepath=str(im_path))\n",
    "    im_data = metadata[metadata['im_path'] == im_name]\n",
    "    sample['label'] = fo.Classification(label=im_data['class'].values[0])\n",
    "    dataset.add_sample(sample)\n",
    "\n",
    "#dataset = fo.load_dataset('dataset')\n",
    "dataset.persistent = True\n",
    "dataset"
   ]
  },
  {
   "cell_type": "code",
   "execution_count": null,
   "id": "b49c7d01-4ac0-4c45-b111-8f0546f20883",
   "metadata": {},
   "outputs": [],
   "source": [
    "embeddings = dataset.compute_embeddings(model)\n",
    "results = fob.compute_visualization(\n",
    "    dataset,\n",
    "    embeddings=embeddings,\n",
    "    num_dims=2,\n",
    "    brain_key=\"image_embeddings\",\n",
    "    verbose=True,\n",
    "    seed=51,\n",
    "    method='umap'\n",
    ")"
   ]
  },
  {
   "cell_type": "code",
   "execution_count": null,
   "id": "db1405a0-4198-46a4-9a13-45d82eecf142",
   "metadata": {},
   "outputs": [],
   "source": [
    "session = fo.launch_app(dataset)"
   ]
  },
  {
   "cell_type": "code",
   "execution_count": null,
   "id": "3bffc9d7",
   "metadata": {},
   "outputs": [],
   "source": [
    "labels = metadata['class']\n",
    "plot = results.visualize(labels=labels)\n",
    "session.plots.attach(plot)\n",
    "plot.show(height=720)"
   ]
  },
  {
   "cell_type": "markdown",
   "id": "d5af847a",
   "metadata": {},
   "source": [
    "### Embedding without LCB and MCB"
   ]
  },
  {
   "cell_type": "code",
   "execution_count": null,
   "id": "303fca94",
   "metadata": {},
   "outputs": [],
   "source": [
    "metadata = pd.read_csv(labels_path, delim_whitespace=True, header=None)\n",
    "metadata.columns = ['im_path', 'quality', 'panel type']\n",
    "filtered_images = metadata[(metadata['quality'] > 0) & (metadata['quality'] < 1)]['im_path']\n",
    "metadata = metadata[(metadata['quality'] == 0) | (metadata['quality'] == 1)].reset_index(drop=True)\n",
    "metadata.quality = metadata[\"quality\"].map(lambda value: 'bad' if value == 1 else 'good')\n",
    "metadata['class'] = metadata[['panel type', 'quality']].agg(' '.join, axis=1)\n",
    "metadata"
   ]
  },
  {
   "cell_type": "code",
   "execution_count": null,
   "id": "3730001c",
   "metadata": {},
   "outputs": [],
   "source": [
    "dataset = fo.load_dataset('filtered')\n",
    "dataset.delete()"
   ]
  },
  {
   "cell_type": "code",
   "execution_count": null,
   "id": "18111e68",
   "metadata": {},
   "outputs": [],
   "source": [
    "dataset = fo.Dataset('filtered')\n",
    "for im_path in image_list:\n",
    "    im_name = str('images/' + im_path.name)\n",
    "    if im_name not in list(filtered_images):\n",
    "        sample = fo.Sample(filepath=str(im_path))\n",
    "        im_data = metadata[metadata['im_path'] == im_name]\n",
    "        sample['label'] = fo.Classification(label=im_data['class'].values[0])\n",
    "        dataset.add_sample(sample)\n",
    "\n",
    "#dataset = fo.load_dataset('dataset')\n",
    "dataset.persistent = True\n",
    "dataset"
   ]
  },
  {
   "cell_type": "code",
   "execution_count": null,
   "id": "28cf1a66",
   "metadata": {},
   "outputs": [],
   "source": [
    "embeddings = dataset.compute_embeddings(model)\n",
    "results = fob.compute_visualization(\n",
    "    dataset,\n",
    "    embeddings=embeddings,\n",
    "    num_dims=2,\n",
    "    brain_key=\"image_embeddings\",\n",
    "    verbose=True,\n",
    "    seed=51,\n",
    "    method='umap'\n",
    ")"
   ]
  },
  {
   "cell_type": "code",
   "execution_count": null,
   "id": "826633cf",
   "metadata": {},
   "outputs": [],
   "source": [
    "session = fo.launch_app(dataset)"
   ]
  },
  {
   "cell_type": "code",
   "execution_count": null,
   "id": "313e0c58",
   "metadata": {},
   "outputs": [],
   "source": [
    "labels = metadata['class']\n",
    "plot = results.visualize(labels=labels)\n",
    "session.plots.attach(plot)\n",
    "plot.show(height=720)"
   ]
  }
 ],
 "metadata": {
  "kernelspec": {
   "display_name": "Python 3.10.4 ('tensorflow_latest')",
   "language": "python",
   "name": "python3"
  },
  "language_info": {
   "codemirror_mode": {
    "name": "ipython",
    "version": 3
   },
   "file_extension": ".py",
   "mimetype": "text/x-python",
   "name": "python",
   "nbconvert_exporter": "python",
   "pygments_lexer": "ipython3",
   "version": "3.10.4"
  },
  "vscode": {
   "interpreter": {
    "hash": "7d1c19e37e5f6196bc516d7b965f651cc74a678b65e0e3f127f9e9132621bafc"
   }
  }
 },
 "nbformat": 4,
 "nbformat_minor": 5
}
