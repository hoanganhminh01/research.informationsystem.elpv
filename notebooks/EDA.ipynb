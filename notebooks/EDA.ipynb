{
 "cells": [
  {
   "cell_type": "code",
   "execution_count": 1,
   "id": "a66298f0-1ae7-48cc-bf6b-dcd723b974e9",
   "metadata": {},
   "outputs": [],
   "source": [
    "import fiftyone as fo\n",
    "import fiftyone.zoo as foz\n",
    "import fiftyone.brain as fob\n",
    "from pathlib import Path\n",
    "from tqdm import tqdm\n",
    "\n",
    "import cv2\n",
    "import numpy as np"
   ]
  },
  {
   "cell_type": "code",
   "execution_count": 2,
   "id": "6c8fb671-d7b8-46e2-9338-73fc43b653a2",
   "metadata": {},
   "outputs": [],
   "source": [
    "path = Path('/home/khoa-ys/Projects/auto_inspection/research.informationsystem.elpv/data')\n",
    "im_path = path/'images'\n",
    "labels = path/'labels.csv'"
   ]
  },
  {
   "cell_type": "markdown",
   "id": "c7fd751e-bfe2-454c-88b5-c3eb0cd6e40f",
   "metadata": {},
   "source": [
    "## Image parameters"
   ]
  },
  {
   "cell_type": "markdown",
   "id": "26aada4f-af12-4311-9344-c4a5615c9098",
   "metadata": {},
   "source": [
    "### Mean distribution"
   ]
  },
  {
   "cell_type": "code",
   "execution_count": null,
   "id": "11f46746-ff9a-4101-853c-a5feddcba370",
   "metadata": {},
   "outputs": [],
   "source": []
  },
  {
   "cell_type": "markdown",
   "id": "b3bf4e07-f9f4-4a51-9ccd-bf267a086d37",
   "metadata": {},
   "source": [
    "### Median distribution"
   ]
  },
  {
   "cell_type": "code",
   "execution_count": null,
   "id": "fb2bd7ce-84ca-4eca-8998-84bab780b0de",
   "metadata": {},
   "outputs": [],
   "source": []
  },
  {
   "cell_type": "markdown",
   "id": "549679a4-b84d-4618-bc13-09b753e9e5e8",
   "metadata": {},
   "source": [
    "### Std distribution"
   ]
  },
  {
   "cell_type": "code",
   "execution_count": null,
   "id": "05728d06-a2e3-4954-81e2-bf69d87ac63a",
   "metadata": {},
   "outputs": [],
   "source": []
  },
  {
   "cell_type": "markdown",
   "id": "544051a7-20f9-4edb-adcc-7c623319c503",
   "metadata": {},
   "source": [
    "## Image embedding"
   ]
  },
  {
   "cell_type": "code",
   "execution_count": 3,
   "id": "77af2f9a-2b8e-4877-9d2e-c881c5d9b2fd",
   "metadata": {},
   "outputs": [
    {
     "name": "stderr",
     "output_type": "stream",
     "text": [
      "/home/khoa-ys/Projects/auto_inspection/venv/lib/python3.8/site-packages/torchvision/models/_utils.py:208: UserWarning: The parameter 'pretrained' is deprecated since 0.13 and will be removed in 0.15, please use 'weights' instead.\n",
      "  warnings.warn(\n",
      "/home/khoa-ys/Projects/auto_inspection/venv/lib/python3.8/site-packages/torchvision/models/_utils.py:223: UserWarning: Arguments other than a weight enum or `None` for 'weights' are deprecated since 0.13 and will be removed in 0.15. The current behavior is equivalent to passing `weights=ResNet50_Weights.IMAGENET1K_V1`. You can also use `weights=ResNet50_Weights.DEFAULT` to get the most up-to-date weights.\n",
      "  warnings.warn(msg)\n"
     ]
    },
    {
     "name": "stdout",
     "output_type": "stream",
     "text": [
      "True\n"
     ]
    }
   ],
   "source": [
    "model = foz.load_zoo_model(\"resnet50-imagenet-torch\")\n",
    "print(model.has_embeddings)"
   ]
  },
  {
   "cell_type": "code",
   "execution_count": 4,
   "id": "98678aba-e03a-44a6-84ab-9a90bee30fff",
   "metadata": {},
   "outputs": [
    {
     "name": "stdout",
     "output_type": "stream",
     "text": [
      "2624\n"
     ]
    },
    {
     "data": {
      "text/plain": [
       "[PosixPath('/home/khoa-ys/Projects/auto_inspection/research.informationsystem.elpv/data/images/cell2346.png'),\n",
       " PosixPath('/home/khoa-ys/Projects/auto_inspection/research.informationsystem.elpv/data/images/cell2391.png'),\n",
       " PosixPath('/home/khoa-ys/Projects/auto_inspection/research.informationsystem.elpv/data/images/cell0837.png'),\n",
       " PosixPath('/home/khoa-ys/Projects/auto_inspection/research.informationsystem.elpv/data/images/cell0625.png'),\n",
       " PosixPath('/home/khoa-ys/Projects/auto_inspection/research.informationsystem.elpv/data/images/cell0682.png'),\n",
       " PosixPath('/home/khoa-ys/Projects/auto_inspection/research.informationsystem.elpv/data/images/cell2356.png'),\n",
       " PosixPath('/home/khoa-ys/Projects/auto_inspection/research.informationsystem.elpv/data/images/cell2262.png'),\n",
       " PosixPath('/home/khoa-ys/Projects/auto_inspection/research.informationsystem.elpv/data/images/cell2322.png'),\n",
       " PosixPath('/home/khoa-ys/Projects/auto_inspection/research.informationsystem.elpv/data/images/cell2541.png'),\n",
       " PosixPath('/home/khoa-ys/Projects/auto_inspection/research.informationsystem.elpv/data/images/cell0920.png')]"
      ]
     },
     "execution_count": 4,
     "metadata": {},
     "output_type": "execute_result"
    }
   ],
   "source": [
    "image_list = list(im_path.iterdir())\n",
    "print(len(image_list))\n",
    "image_list[:10]"
   ]
  },
  {
   "cell_type": "code",
   "execution_count": 5,
   "id": "2cdadb5b-ce50-4fee-9dd4-3fc2f46c3f41",
   "metadata": {},
   "outputs": [
    {
     "data": {
      "text/plain": [
       "Name:        dataset\n",
       "Media type:  image\n",
       "Num samples: 2624\n",
       "Persistent:  True\n",
       "Tags:        []\n",
       "Sample fields:\n",
       "    id:       fiftyone.core.fields.ObjectIdField\n",
       "    filepath: fiftyone.core.fields.StringField\n",
       "    tags:     fiftyone.core.fields.ListField(fiftyone.core.fields.StringField)\n",
       "    metadata: fiftyone.core.fields.EmbeddedDocumentField(fiftyone.core.metadata.ImageMetadata)"
      ]
     },
     "execution_count": 5,
     "metadata": {},
     "output_type": "execute_result"
    }
   ],
   "source": [
    "\n",
    "dataset = fo.Dataset(\"dataset\")\n",
    "for img_path in image_list:\n",
    "    dataset.add_sample(fo.Sample(filepath=str(img_path)))\n",
    "\n",
    "#dataset = fo.load_dataset('dataset')\n",
    "dataset.persistent = True\n",
    "dataset"
   ]
  },
  {
   "cell_type": "code",
   "execution_count": 6,
   "id": "d64ddf23-7af6-404e-b284-bd7b84a9f850",
   "metadata": {},
   "outputs": [
    {
     "name": "stdout",
     "output_type": "stream",
     "text": [
      " 100% |███████████████| 2624/2624 [22.8s elapsed, 0s remaining, 95.0 samples/s]      \n"
     ]
    }
   ],
   "source": [
    "embeddings = dataset.compute_embeddings(model)"
   ]
  },
  {
   "cell_type": "code",
   "execution_count": 7,
   "id": "b49c7d01-4ac0-4c45-b111-8f0546f20883",
   "metadata": {},
   "outputs": [
    {
     "name": "stdout",
     "output_type": "stream",
     "text": [
      "Generating visualization...\n",
      "UMAP(random_state=51, verbose=True)\n",
      "Thu Sep  8 09:35:08 2022 Construct fuzzy simplicial set\n",
      "Thu Sep  8 09:35:14 2022 Finding Nearest Neighbors\n",
      "Thu Sep  8 09:35:16 2022 Finished Nearest Neighbor Search\n",
      "Thu Sep  8 09:35:17 2022 Construct embedding\n"
     ]
    },
    {
     "data": {
      "application/vnd.jupyter.widget-view+json": {
       "model_id": "74b22a091d8440419b0115c751f8ad30",
       "version_major": 2,
       "version_minor": 0
      },
      "text/plain": [
       "Epochs completed:   0%|            0/500 [00:00]"
      ]
     },
     "metadata": {},
     "output_type": "display_data"
    },
    {
     "name": "stdout",
     "output_type": "stream",
     "text": [
      "Thu Sep  8 09:35:21 2022 Finished embedding\n"
     ]
    }
   ],
   "source": [
    "results = fob.compute_visualization(\n",
    "    dataset,\n",
    "    embeddings=embeddings,\n",
    "    num_dims=2,\n",
    "    brain_key=\"image_embeddings\",\n",
    "    verbose=True,\n",
    "    seed=51,\n",
    "    method='umap'\n",
    ")"
   ]
  },
  {
   "cell_type": "code",
   "execution_count": 8,
   "id": "db1405a0-4198-46a4-9a13-45d82eecf142",
   "metadata": {},
   "outputs": [
    {
     "data": {
      "text/html": [
       "\n",
       "        <iframe\n",
       "            width=\"100%\"\n",
       "            height=\"800\"\n",
       "            src=\"http://localhost:5151/?context=ipython&subscription=6ab905af-38a6-4add-b90f-9107dfda3760\"\n",
       "            frameborder=\"0\"\n",
       "            allowfullscreen\n",
       "            \n",
       "        ></iframe>\n",
       "        "
      ],
      "text/plain": [
       "<IPython.lib.display.IFrame at 0x7f8192e935e0>"
      ]
     },
     "metadata": {},
     "output_type": "display_data"
    }
   ],
   "source": [
    "session = fo.launch_app(dataset)"
   ]
  },
  {
   "cell_type": "code",
   "execution_count": 9,
   "id": "ccaca66a-2c62-4c1f-9132-c86172bdd29e",
   "metadata": {},
   "outputs": [
    {
     "data": {
      "text/plain": []
     },
     "metadata": {},
     "output_type": "display_data"
    },
    {
     "data": {
      "text/plain": []
     },
     "metadata": {},
     "output_type": "display_data"
    },
    {
     "data": {
      "application/vnd.jupyter.widget-view+json": {
       "model_id": "172a5ee251bb49d9a07056f59c714519",
       "version_major": 2,
       "version_minor": 0
      },
      "text/plain": [
       "FigureWidget({\n",
       "    'data': [{'customdata': array(['63198cfb15e63a360113bde3', '63198cfb15e63a360113bde4',\n",
       "    …"
      ]
     },
     "metadata": {},
     "output_type": "display_data"
    }
   ],
   "source": [
    "plot = results.visualize()\n",
    "plot.show(height=720)\n",
    "\n",
    "session.plots.attach(plot)"
   ]
  }
 ],
 "metadata": {
  "kernelspec": {
   "display_name": "Python 3 (ipykernel)",
   "language": "python",
   "name": "python3"
  },
  "language_info": {
   "codemirror_mode": {
    "name": "ipython",
    "version": 3
   },
   "file_extension": ".py",
   "mimetype": "text/x-python",
   "name": "python",
   "nbconvert_exporter": "python",
   "pygments_lexer": "ipython3",
   "version": "3.8.10"
  }
 },
 "nbformat": 4,
 "nbformat_minor": 5
}
