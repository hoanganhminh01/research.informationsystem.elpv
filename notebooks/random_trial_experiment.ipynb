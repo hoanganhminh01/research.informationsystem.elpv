{
 "cells": [
  {
   "cell_type": "code",
   "execution_count": 1,
   "metadata": {},
   "outputs": [],
   "source": [
    "import sys\n",
    "import os\n",
    "import numpy as np\n",
    "sys.path.append(os.path.join(os.path.abspath(os.path.dirname(\"__file__\")), '..'))\n",
    "from utils import data_handling, model_development\n",
    "import matplotlib.pyplot as plt\n",
    "from ipywidgets import interact\n",
    "from sklearn.model_selection import train_test_split"
   ]
  },
  {
   "cell_type": "markdown",
   "metadata": {},
   "source": [
    "### Configure the model training policy\n"
   ]
  },
  {
   "cell_type": "code",
   "execution_count": 2,
   "metadata": {},
   "outputs": [],
   "source": [
    "model_development.configure_training_policy()"
   ]
  },
  {
   "cell_type": "markdown",
   "metadata": {},
   "source": [
    "### Load data"
   ]
  },
  {
   "cell_type": "code",
   "execution_count": 3,
   "metadata": {},
   "outputs": [
    {
     "name": "stdout",
     "output_type": "stream",
     "text": [
      "[(2624, 300, 300), 2624, 2624]\n"
     ]
    }
   ],
   "source": [
    "cell_images, cell_labels, cell_types = data_handling.load_data_from_file('../data/labels.csv')\n",
    "print([cell_images.shape, len(cell_labels), len(cell_types)])"
   ]
  },
  {
   "cell_type": "markdown",
   "metadata": {},
   "source": [
    "### Prepare data for model training"
   ]
  },
  {
   "cell_type": "code",
   "execution_count": 4,
   "metadata": {},
   "outputs": [],
   "source": [
    "X_train_1, _ , Y_train_1 , _ = \\\n",
    "    train_test_split(cell_images, cell_labels, test_size = 0.15, random_state = 1)\n",
    "X_train_2, _ , Y_train_2 , _ = \\\n",
    "        train_test_split(cell_images, cell_labels, test_size = 0.15, random_state = 2)\n",
    "X_train_3, _ , Y_train_3, _ = \\\n",
    "    train_test_split(cell_images, cell_labels, test_size = 0.15, random_state = 3)\n",
    "X_train_4, _ , Y_train_4, _ = \\\n",
    "    train_test_split(cell_images, cell_labels, test_size = 0.15, random_state = 4)\n",
    "X_train_5, _ , Y_train_5, _ = \\\n",
    "    train_test_split(cell_images, cell_labels, test_size = 0.15, random_state = 5)\n"
   ]
  },
  {
   "cell_type": "markdown",
   "metadata": {},
   "source": [
    "### Train classification model (only the first phase)"
   ]
  },
  {
   "cell_type": "code",
   "execution_count": 5,
   "metadata": {},
   "outputs": [],
   "source": [
    "def run_random_trial_experiment(X_train, Y_train):\n",
    "    optimizer = model_development.create_optimizer('nadam')\n",
    "    inception_resnetv2 = \\\n",
    "        model_development.inception_resnetv2(input_shape = (300, 300, 3), weights = 'imagenet', freeze_convolutional_base = True, display_model_information = False)\n",
    "\n",
    "    history, _ = \\\n",
    "        model_development.train_classification_model(training_phase = 1, model = inception_resnetv2, \n",
    "        optimizer = optimizer, training_metrics = ['accuracy', 'Precision', 'Recall'],\n",
    "        model_name = 'InceptionResNetv2', version = '1.00.00rt', \n",
    "        X = np.stack((X_train_2,) * 3, axis = -1), Y = Y_train_2, metric_to_monitor = 'val_accuracy', \n",
    "        no_of_epochs = 100, batch_size = 16, validation_split_ratio = 0.15)\n",
    "    return history"
   ]
  },
  {
   "cell_type": "markdown",
   "metadata": {},
   "source": [
    "#### Seed 1"
   ]
  },
  {
   "cell_type": "code",
   "execution_count": null,
   "metadata": {},
   "outputs": [],
   "source": [
    "training_session = 10\n",
    "for idx in range(training_session):\n",
    "    history = run_random_trial_experiment(X_train_1, Y_train_1)\n",
    "    val_accuracy = np.array(history['val_accuracy'])\n",
    "    val_precision = np.array(history['val_precision'])\n",
    "    val_recall = np.array(history['val_recall'])\n",
    "\n",
    "    best_validation_accuracy = np.max(val_accuracy, axis = - 1)\n",
    "    accompanied_precision = val_precision[np.argmax(val_accuracy)]\n",
    "    accompanied_recall = val_recall[np.argmax(val_accuracy)]\n",
    "    print([best_validation_accuracy, accompanied_precision, accompanied_recall])"
   ]
  },
  {
   "cell_type": "markdown",
   "metadata": {},
   "source": [
    "#### Seed 2"
   ]
  },
  {
   "cell_type": "code",
   "execution_count": 6,
   "metadata": {},
   "outputs": [
    {
     "name": "stdout",
     "output_type": "stream",
     "text": [
      "WARNING:tensorflow:Using a while_loop for converting RngReadAndSkip\n",
      "WARNING:tensorflow:Using a while_loop for converting Bitcast\n",
      "WARNING:tensorflow:Using a while_loop for converting Bitcast\n",
      "WARNING:tensorflow:Using a while_loop for converting StatelessRandomUniformV2\n",
      "WARNING:tensorflow:Using a while_loop for converting RngReadAndSkip\n",
      "WARNING:tensorflow:Using a while_loop for converting Bitcast\n",
      "WARNING:tensorflow:Using a while_loop for converting Bitcast\n",
      "WARNING:tensorflow:Using a while_loop for converting StatelessRandomUniformV2\n",
      "WARNING:tensorflow:Using a while_loop for converting ImageProjectiveTransformV3\n",
      "Epoch 1/100\n",
      "WARNING:tensorflow:Using a while_loop for converting RngReadAndSkip\n",
      "WARNING:tensorflow:Using a while_loop for converting Bitcast\n",
      "WARNING:tensorflow:Using a while_loop for converting Bitcast\n",
      "WARNING:tensorflow:Using a while_loop for converting StatelessRandomUniformV2\n",
      "WARNING:tensorflow:Using a while_loop for converting RngReadAndSkip\n",
      "WARNING:tensorflow:Using a while_loop for converting Bitcast\n",
      "WARNING:tensorflow:Using a while_loop for converting Bitcast\n",
      "WARNING:tensorflow:Using a while_loop for converting StatelessRandomUniformV2\n",
      "WARNING:tensorflow:Using a while_loop for converting ImageProjectiveTransformV3\n",
      "WARNING:tensorflow:Using a while_loop for converting RngReadAndSkip\n",
      "WARNING:tensorflow:Using a while_loop for converting Bitcast\n",
      "WARNING:tensorflow:Using a while_loop for converting Bitcast\n",
      "WARNING:tensorflow:Using a while_loop for converting StatelessRandomUniformV2\n",
      "WARNING:tensorflow:Using a while_loop for converting RngReadAndSkip\n",
      "WARNING:tensorflow:Using a while_loop for converting Bitcast\n",
      "WARNING:tensorflow:Using a while_loop for converting Bitcast\n",
      "WARNING:tensorflow:Using a while_loop for converting StatelessRandomUniformV2\n",
      "WARNING:tensorflow:Using a while_loop for converting ImageProjectiveTransformV3\n",
      "119/119 [==============================] - ETA: 0s - loss: 0.8880 - accuracy: 0.6396 - precision: 0.7147 - recall: 0.3296\n",
      "Epoch 1: val_accuracy improved from -inf to 0.58209, saving model to ../models/weights\\InceptionResNetv2_1.00.00rt.hdf5\n",
      "119/119 [==============================] - 35s 199ms/step - loss: 0.8880 - accuracy: 0.6396 - precision: 0.7147 - recall: 0.3296 - val_loss: 0.8546 - val_accuracy: 0.5821 - val_precision: 1.0000 - val_recall: 0.0968\n",
      "Epoch 2/100\n",
      "119/119 [==============================] - ETA: 0s - loss: 0.4942 - accuracy: 0.7018 - precision: 0.8753 - recall: 0.3887\n",
      "Epoch 2: val_accuracy improved from 0.58209 to 0.64179, saving model to ../models/weights\\InceptionResNetv2_1.00.00rt.hdf5\n",
      "119/119 [==============================] - 20s 168ms/step - loss: 0.4942 - accuracy: 0.7018 - precision: 0.8753 - recall: 0.3887 - val_loss: 0.4971 - val_accuracy: 0.6418 - val_precision: 0.9130 - val_recall: 0.2710\n",
      "Epoch 3/100\n",
      "119/119 [==============================] - ETA: 0s - loss: 0.4686 - accuracy: 0.7066 - precision: 0.8827 - recall: 0.3887\n",
      "Epoch 3: val_accuracy did not improve from 0.64179\n",
      "119/119 [==============================] - 19s 157ms/step - loss: 0.4686 - accuracy: 0.7066 - precision: 0.8827 - recall: 0.3887 - val_loss: 0.5122 - val_accuracy: 0.6358 - val_precision: 0.7059 - val_recall: 0.4645\n",
      "Epoch 4/100\n",
      "119/119 [==============================] - ETA: 0s - loss: 0.4785 - accuracy: 0.7061 - precision: 0.8471 - recall: 0.4293\n",
      "Epoch 4: val_accuracy did not improve from 0.64179\n",
      "119/119 [==============================] - 19s 157ms/step - loss: 0.4785 - accuracy: 0.7061 - precision: 0.8471 - recall: 0.4293 - val_loss: 0.5636 - val_accuracy: 0.6418 - val_precision: 0.7182 - val_recall: 0.5097\n",
      "Epoch 5/100\n",
      "119/119 [==============================] - ETA: 0s - loss: 0.4459 - accuracy: 0.7124 - precision: 0.9006 - recall: 0.3899\n",
      "Epoch 5: val_accuracy improved from 0.64179 to 0.65075, saving model to ../models/weights\\InceptionResNetv2_1.00.00rt.hdf5\n",
      "119/119 [==============================] - 20s 167ms/step - loss: 0.4459 - accuracy: 0.7124 - precision: 0.9006 - recall: 0.3899 - val_loss: 0.5321 - val_accuracy: 0.6507 - val_precision: 0.8308 - val_recall: 0.3484\n",
      "Epoch 6/100\n",
      "119/119 [==============================] - ETA: 0s - loss: 0.4309 - accuracy: 0.7193 - precision: 0.8588 - recall: 0.4563\n",
      "Epoch 6: val_accuracy did not improve from 0.65075\n",
      "119/119 [==============================] - 19s 157ms/step - loss: 0.4309 - accuracy: 0.7193 - precision: 0.8588 - recall: 0.4563 - val_loss: 1.2950 - val_accuracy: 0.4955 - val_precision: 0.5354 - val_recall: 0.6839\n",
      "Epoch 7/100\n",
      "119/119 [==============================] - ETA: 0s - loss: 0.4314 - accuracy: 0.7266 - precision: 0.8832 - recall: 0.4465\n",
      "Epoch 7: val_accuracy did not improve from 0.65075\n",
      "119/119 [==============================] - 19s 157ms/step - loss: 0.4314 - accuracy: 0.7266 - precision: 0.8832 - recall: 0.4465 - val_loss: 0.5760 - val_accuracy: 0.6448 - val_precision: 0.9744 - val_recall: 0.2452\n",
      "Epoch 8/100\n",
      "119/119 [==============================] - ETA: 0s - loss: 0.4332 - accuracy: 0.7245 - precision: 0.8945 - recall: 0.4379\n",
      "Epoch 8: val_accuracy improved from 0.65075 to 0.66866, saving model to ../models/weights\\InceptionResNetv2_1.00.00rt.hdf5\n",
      "119/119 [==============================] - 20s 167ms/step - loss: 0.4332 - accuracy: 0.7245 - precision: 0.8945 - recall: 0.4379 - val_loss: 0.4883 - val_accuracy: 0.6687 - val_precision: 0.8333 - val_recall: 0.4194\n",
      "Epoch 9/100\n",
      "119/119 [==============================] - ETA: 0s - loss: 0.4257 - accuracy: 0.7208 - precision: 0.8601 - recall: 0.4613\n",
      "Epoch 9: val_accuracy did not improve from 0.66866\n",
      "119/119 [==============================] - 19s 156ms/step - loss: 0.4257 - accuracy: 0.7208 - precision: 0.8601 - recall: 0.4613 - val_loss: 0.5595 - val_accuracy: 0.5821 - val_precision: 0.6186 - val_recall: 0.4710\n",
      "Epoch 10/100\n",
      "119/119 [==============================] - ETA: 0s - loss: 0.4311 - accuracy: 0.7298 - precision: 0.8771 - recall: 0.4563\n",
      "Epoch 10: val_accuracy did not improve from 0.66866\n",
      "119/119 [==============================] - 18s 155ms/step - loss: 0.4311 - accuracy: 0.7298 - precision: 0.8771 - recall: 0.4563 - val_loss: 0.4931 - val_accuracy: 0.6657 - val_precision: 0.8730 - val_recall: 0.3548\n",
      "Epoch 11/100\n",
      "119/119 [==============================] - ETA: 0s - loss: 0.4131 - accuracy: 0.7377 - precision: 0.9069 - recall: 0.4674\n",
      "Epoch 11: val_accuracy did not improve from 0.66866\n",
      "119/119 [==============================] - 18s 155ms/step - loss: 0.4131 - accuracy: 0.7377 - precision: 0.9069 - recall: 0.4674 - val_loss: 0.5828 - val_accuracy: 0.5761 - val_precision: 0.6054 - val_recall: 0.5742\n",
      "Epoch 12/100\n",
      "119/119 [==============================] - ETA: 0s - loss: 0.4099 - accuracy: 0.7377 - precision: 0.8988 - recall: 0.4699\n",
      "Epoch 12: val_accuracy did not improve from 0.66866\n",
      "119/119 [==============================] - 19s 156ms/step - loss: 0.4099 - accuracy: 0.7377 - precision: 0.8988 - recall: 0.4699 - val_loss: 0.5015 - val_accuracy: 0.6627 - val_precision: 0.7826 - val_recall: 0.4645\n",
      "Epoch 13/100\n",
      "119/119 [==============================] - ETA: 0s - loss: 0.4087 - accuracy: 0.7335 - precision: 0.8962 - recall: 0.4674\n",
      "Epoch 13: val_accuracy did not improve from 0.66866\n",
      "119/119 [==============================] - 18s 155ms/step - loss: 0.4087 - accuracy: 0.7335 - precision: 0.8962 - recall: 0.4674 - val_loss: 0.5660 - val_accuracy: 0.6448 - val_precision: 0.7586 - val_recall: 0.4258\n",
      "Epoch 14/100\n",
      "119/119 [==============================] - ETA: 0s - loss: 0.4112 - accuracy: 0.7335 - precision: 0.9048 - recall: 0.4440\n",
      "Epoch 14: val_accuracy did not improve from 0.66866\n",
      "119/119 [==============================] - 19s 156ms/step - loss: 0.4112 - accuracy: 0.7335 - precision: 0.9048 - recall: 0.4440 - val_loss: 0.9444 - val_accuracy: 0.6478 - val_precision: 0.7711 - val_recall: 0.4129\n",
      "Epoch 15/100\n",
      "119/119 [==============================] - ETA: 0s - loss: 0.4070 - accuracy: 0.7319 - precision: 0.8709 - recall: 0.4563\n",
      "Epoch 15: val_accuracy did not improve from 0.66866\n",
      "119/119 [==============================] - 19s 156ms/step - loss: 0.4070 - accuracy: 0.7319 - precision: 0.8709 - recall: 0.4563 - val_loss: 1.1428 - val_accuracy: 0.5075 - val_precision: 0.5440 - val_recall: 0.6387\n",
      "Epoch 16/100\n",
      "119/119 [==============================] - ETA: 0s - loss: 0.4016 - accuracy: 0.7425 - precision: 0.9023 - recall: 0.4772\n",
      "Epoch 16: val_accuracy did not improve from 0.66866\n",
      "119/119 [==============================] - 19s 156ms/step - loss: 0.4016 - accuracy: 0.7425 - precision: 0.9023 - recall: 0.4772 - val_loss: 0.6243 - val_accuracy: 0.5522 - val_precision: 0.5786 - val_recall: 0.5935\n",
      "Epoch 17/100\n",
      "119/119 [==============================] - ETA: 0s - loss: 0.4015 - accuracy: 0.7430 - precision: 0.8930 - recall: 0.5031\n",
      "Epoch 17: val_accuracy did not improve from 0.66866\n",
      "119/119 [==============================] - 19s 158ms/step - loss: 0.4015 - accuracy: 0.7430 - precision: 0.8930 - recall: 0.5031 - val_loss: 0.6876 - val_accuracy: 0.5373 - val_precision: 0.5667 - val_recall: 0.6581\n",
      "Epoch 18/100\n",
      "119/119 [==============================] - ETA: 0s - loss: 0.3933 - accuracy: 0.7346 - precision: 0.8744 - recall: 0.4797\n",
      "Epoch 18: val_accuracy did not improve from 0.66866\n",
      "119/119 [==============================] - 19s 157ms/step - loss: 0.3933 - accuracy: 0.7346 - precision: 0.8744 - recall: 0.4797 - val_loss: 0.5841 - val_accuracy: 0.6179 - val_precision: 0.6789 - val_recall: 0.4774\n",
      "Epoch 19/100\n",
      "119/119 [==============================] - ETA: 0s - loss: 0.3806 - accuracy: 0.7472 - precision: 0.9058 - recall: 0.4969\n",
      "Epoch 19: val_accuracy did not improve from 0.66866\n",
      "119/119 [==============================] - 19s 157ms/step - loss: 0.3806 - accuracy: 0.7472 - precision: 0.9058 - recall: 0.4969 - val_loss: 0.9581 - val_accuracy: 0.5134 - val_precision: 0.5631 - val_recall: 0.7484\n",
      "Epoch 20/100\n",
      "119/119 [==============================] - ETA: 0s - loss: 0.4026 - accuracy: 0.7393 - precision: 0.9034 - recall: 0.4600\n",
      "Epoch 20: val_accuracy did not improve from 0.66866\n",
      "119/119 [==============================] - 19s 157ms/step - loss: 0.4026 - accuracy: 0.7393 - precision: 0.9034 - recall: 0.4600 - val_loss: 0.5218 - val_accuracy: 0.6687 - val_precision: 1.0000 - val_recall: 0.2968\n",
      "Epoch 21/100\n",
      "119/119 [==============================] - ETA: 0s - loss: 0.3937 - accuracy: 0.7356 - precision: 0.8924 - recall: 0.4797\n",
      "Epoch 21: val_accuracy did not improve from 0.66866\n",
      "119/119 [==============================] - 19s 157ms/step - loss: 0.3937 - accuracy: 0.7356 - precision: 0.8924 - recall: 0.4797 - val_loss: 0.6797 - val_accuracy: 0.5881 - val_precision: 0.6281 - val_recall: 0.4903\n",
      "Epoch 22/100\n",
      " 23/119 [====>.........................] - ETA: 14s - loss: 0.3586 - accuracy: 0.7527 - precision: 0.9053 - recall: 0.5375"
     ]
    }
   ],
   "source": [
    "history = run_random_trial_experiment(X_train_2, Y_train_2)\n",
    "print(np.array(history['val_accuracy']))"
   ]
  },
  {
   "cell_type": "markdown",
   "metadata": {},
   "source": [
    "#### Seed 3"
   ]
  },
  {
   "cell_type": "code",
   "execution_count": null,
   "metadata": {},
   "outputs": [],
   "source": [
    "training_session = 10\n",
    "for idx in range(training_session):\n",
    "    history = run_random_trial_experiment(X_train_3, Y_train_3)\n",
    "    val_accuracy = np.array(history['val_accuracy'])\n",
    "    val_precision = np.array(history['val_precision'])\n",
    "    val_recall = np.array(history['val_recall'])\n",
    "\n",
    "    best_validation_accuracy = np.max(val_accuracy, axis = - 1)\n",
    "    accompanied_precision = val_precision[np.argmax(val_accuracy)]\n",
    "    accompanied_recall = val_recall[np.argmax(val_accuracy)]\n",
    "    print([best_validation_accuracy, accompanied_precision, accompanied_recall])"
   ]
  }
 ],
 "metadata": {
  "kernelspec": {
   "display_name": "Python 3.10.4 ('tensorflow_latest')",
   "language": "python",
   "name": "python3"
  },
  "language_info": {
   "codemirror_mode": {
    "name": "ipython",
    "version": 3
   },
   "file_extension": ".py",
   "mimetype": "text/x-python",
   "name": "python",
   "nbconvert_exporter": "python",
   "pygments_lexer": "ipython3",
   "version": "3.10.4"
  },
  "orig_nbformat": 4,
  "vscode": {
   "interpreter": {
    "hash": "7d1c19e37e5f6196bc516d7b965f651cc74a678b65e0e3f127f9e9132621bafc"
   }
  }
 },
 "nbformat": 4,
 "nbformat_minor": 2
}
