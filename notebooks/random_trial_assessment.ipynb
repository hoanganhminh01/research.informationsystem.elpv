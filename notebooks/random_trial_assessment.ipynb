{
 "cells": [
  {
   "cell_type": "code",
   "execution_count": 1,
   "metadata": {},
   "outputs": [],
   "source": [
    "import os\n",
    "import sys\n",
    "sys.path.append(os.path.join(os.path.abspath(os.path.dirname(\"__file__\")), '..'))\n",
    "import pandas as pd\n",
    "import numpy as np\n",
    "import scipy.stats as stats\n",
    "import numpy as np\n",
    "import matplotlib.pyplot as plt\n",
    "from matplotlib.ticker import AutoMinorLocator\n"
   ]
  },
  {
   "cell_type": "code",
   "execution_count": 2,
   "metadata": {},
   "outputs": [],
   "source": [
    "plt.style.use('seaborn-paper')\n",
    "plt.rcParams['text.usetex'] = True\n",
    "plt.rcParams['font.family'] = 'Helvetica'\n",
    "plt.rcParams['font.size'] = 15\n",
    "plt.rcParams['figure.dpi'] = 1000\n",
    "plt.rcParams['legend.fontsize'] = 18\n",
    "plt.rcParams['xtick.direction'] = 'in'\n",
    "plt.rcParams['ytick.direction'] = 'in'\n",
    "plt.rcParams['xtick.major.size'] = 5.0\n",
    "plt.rcParams['xtick.minor.size'] = 3.0\n",
    "plt.rcParams['ytick.major.size'] = 5.0\n",
    "plt.rcParams['ytick.minor.size'] = 3.0\n",
    "plt.rcParams['axes.linewidth'] = 0.8\n",
    "plt.rcParams['legend.handlelength'] = 2.0\n",
    "minor_locator = AutoMinorLocator(4)"
   ]
  },
  {
   "cell_type": "markdown",
   "metadata": {},
   "source": [
    "## Perform equal-variance hypothesis test using Brown-Forsythe test:"
   ]
  },
  {
   "cell_type": "code",
   "execution_count": 7,
   "metadata": {},
   "outputs": [
    {
     "data": {
      "image/png": "[encoded data removed]",
      "text/plain": [
       "<Figure size 1080x360 with 3 Axes>"
      ]
     },
     "metadata": {
      "needs_background": "light"
     },
     "output_type": "display_data"
    }
   ],
   "source": [
    "results = pd.read_excel('../docs/random_trial_result.xlsx', )\n",
    "seed_1 = [results.accuracy_1, results.precision_1, results.recall_1]\n",
    "seed_2 = [results.accuracy_2, results.precision_2, results.recall_2]\n",
    "seed_3 = [results.accuracy_3, results.precision_3, results.recall_3]\n",
    "seed_4 = [results.accuracy_4, results.precision_4, results.recall_4]\n",
    "seed_5 = [results.accuracy_5, results.precision_5, results.recall_5]\n",
    "\n",
    "legends = ['Seed 1', 'Seed 2', 'Seed 3', 'Seed 4', 'Seed 5']\n",
    "titles = ['Validation Accuracy', 'Validation Precision', 'Validation Recall']\n",
    "fig, axs = plt.subplots(1, 3, figsize = (15, 5))\n",
    "for idx in range(3):\n",
    "    axs[idx].boxplot([seed_1[idx], seed_2[idx], seed_3[idx], seed_4[idx], seed_5[idx]], showmeans = True)\n",
    "    axs[idx].set_xlabel('Seed')\n",
    "    axs[idx].set_ylabel('Session')\n",
    "    axs[idx].set_title(titles[idx])\n",
    "    axs[idx].xaxis.set_minor_locator(minor_locator)\n",
    "    axs[idx].yaxis.set_minor_locator(minor_locator)\n",
    "    axs[idx].set_xticks([1,2,3,4,5], legends)\n",
    "plt.tight_layout()\n",
    "plt.show()\n"
   ]
  },
  {
   "cell_type": "code",
   "execution_count": null,
   "metadata": {},
   "outputs": [],
   "source": [
    "accuracy_test = \\\n",
    "    stats.levene(seed_1[0], seed_2[0], seed_3[0], seed_4[0], seed_5[0], center = 'median')\n",
    "print(accuracy_test)\n",
    "precision_test = \\\n",
    "    stats.levene(seed_1[1], seed_2[1], seed_3[1], seed_4[1], seed_5[1], center = 'median')\n",
    "print(precision_test)\n",
    "recall_test = \\\n",
    "    stats.levene(seed_1[2], seed_2[2], seed_3[2], seed_4[2], seed_5[2], center = 'median')\n",
    "print(recall_test)"
   ]
  },
  {
   "cell_type": "markdown",
   "metadata": {},
   "source": [
    "## Perform One-way ANOVA test"
   ]
  },
  {
   "cell_type": "code",
   "execution_count": 6,
   "metadata": {},
   "outputs": [
    {
     "name": "stdout",
     "output_type": "stream",
     "text": [
      "LeveneResult(statistic=8.258315932917744, pvalue=4.986270854044205e-06)\n",
      "LeveneResult(statistic=0.13040701620903677, pvalue=0.9710957239779227)\n",
      "LeveneResult(statistic=0.2067096721915772, pvalue=0.93436037732569)\n"
     ]
    }
   ],
   "source": [
    "accuracy_results = \\\n",
    "    stats.f_oneway(seed_1[0], seed_2[0], seed_3[0], seed_4[0], seed_5[0])\n",
    "print(accuracy_test)\n",
    "precision_results = \\\n",
    "    stats.f_oneway(seed_1[1], seed_2[1], seed_3[1], seed_4[1], seed_5[1])\n",
    "print(precision_test)\n",
    "recall_results = \\\n",
    "    stats.f_oneway(seed_1[2], seed_2[2], seed_3[2], seed_4[2], seed_5[2])\n",
    "print(recall_test)\n"
   ]
  }
 ],
 "metadata": {
  "kernelspec": {
   "display_name": "Python 3.9.13 ('base')",
   "language": "python",
   "name": "python3"
  },
  "language_info": {
   "codemirror_mode": {
    "name": "ipython",
    "version": 3
   },
   "file_extension": ".py",
   "mimetype": "text/x-python",
   "name": "python",
   "nbconvert_exporter": "python",
   "pygments_lexer": "ipython3",
   "version": "3.9.12"
  },
  "orig_nbformat": 4,
  "vscode": {
   "interpreter": {
    "hash": "ad2bdc8ecc057115af97d19610ffacc2b4e99fae6737bb82f5d7fb13d2f2c186"
   }
  }
 },
 "nbformat": 4,
 "nbformat_minor": 2
}
