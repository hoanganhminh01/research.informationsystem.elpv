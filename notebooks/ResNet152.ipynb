{
 "cells": [
  {
   "cell_type": "code",
   "execution_count": null,
   "metadata": {},
   "outputs": [],
   "source": [
    "import sys\n",
    "import os\n",
    "sys.path.append(os.path.join(os.path.abspath(os.path.dirname(\"__file__\")), '..'))\n",
    "from utils import data_handling, model_development\n",
    "import matplotlib.pyplot as plt\n",
    "from ipywidgets import interact"
   ]
  },
  {
   "cell_type": "code",
   "execution_count": null,
   "metadata": {},
   "outputs": [],
   "source": [
    "##\n",
    "# Configure the model training policy:\n",
    "#\n",
    "model_development.configure_training_policy()"
   ]
  },
  {
   "cell_type": "code",
   "execution_count": null,
   "metadata": {},
   "outputs": [],
   "source": [
    "##\n",
    "# Load and preprocess data:\n",
    "#\n",
    "cell_images, cell_labels, cell_types = data_handling.load_data_from_file('../data/labels.csv', True)\n",
    "print([cell_images.shape, len(cell_labels), len(cell_types)])\n",
    "\n",
    "@interact(n = (0, cell_images.shape[0] - 1))\n",
    "def display_data(n = 0):\n",
    "    fig, axs = plt.subplots()\n",
    "    axs.imshow(cell_images[n], cmap = 'gray')\n",
    "    axs.set_title(f'Class: {cell_labels[n]} - Type: {cell_types[n]}')\n",
    "    return None"
   ]
  },
  {
   "cell_type": "code",
   "execution_count": null,
   "metadata": {},
   "outputs": [],
   "source": [
    "##\n",
    "# Prepare data for model training:\n",
    "#\n",
    "train_test_split = int(0.85 * cell_images.shape[0])\n",
    "X_train, Y_train, Z_train  = data_handling.preprocess_data(\\\n",
    "    cell_images[: train_test_split], \n",
    "    cell_labels[: train_test_split], \n",
    "    cell_types[: train_test_split])\n",
    "X_test, Y_test, Z_test = \\\n",
    "    cell_images[train_test_split : ], \\\n",
    "    cell_labels[train_test_split : ], cell_types[train_test_split : ]\n",
    "\n",
    "print([X_train.shape, len(Y_train), len(Z_train)])\n",
    "print([X_test.shape, len(Y_test), len(Z_test)])"
   ]
  },
  {
   "cell_type": "code",
   "execution_count": null,
   "metadata": {},
   "outputs": [],
   "source": [
    "##\n",
    "# Train classification model (first phase):\n",
    "#\n",
    "optimizer = model_development.create_optimizer('nadam')\n",
    "resnet152v2 = \\\n",
    "    model_development.resnet152v2(input_shape = (300, 300, 3), weights = 'imagenet', freeze_convolutional_base = True, display_model_information = True)\n",
    "\n",
    "history, training_time = \\\n",
    "    model_development.train_classification_model(training_phase = 1, model = resnet152v2, \n",
    "    optimizer = optimizer, training_metrics = ['accuracy', 'Precision', 'Recall'],\n",
    "    model_name = 'ResNet152v2', version = '20221003_fs', \n",
    "    X = X_train, Y = Y_train, metric_to_monitor = 'val_accuracy', \n",
    "    no_of_epochs = 200, batch_size = 16, validation_split_ratio = 0.15)"
   ]
  },
  {
   "cell_type": "code",
   "execution_count": null,
   "metadata": {},
   "outputs": [],
   "source": [
    "##\n",
    "# Train classification model (second phase):\n",
    "#\n",
    "optimizer = model_development.create_optimizer('adam')\n",
    "history, training_time = \\\n",
    "    model_development.train_classification_model(training_phase = 2, \n",
    "    model = '../models/weights/ResNet152v2_20221003_fs.hdf5', \n",
    "    optimizer = optimizer, training_metrics = ['accuracy', 'Precision', 'Recall'],\n",
    "    model_name = 'VGG19', version = '20221003_ss', \n",
    "    X = X_train, Y = Y_train, metric_to_monitor = 'val_accuracy', \n",
    "    no_of_epochs = 200, batch_size = 16, validation_split_ratio = 0.15)"
   ]
  }
 ],
 "metadata": {
  "kernelspec": {
   "display_name": "Python 3.10.4 ('tensorflow_latest')",
   "language": "python",
   "name": "python3"
  },
  "language_info": {
   "codemirror_mode": {
    "name": "ipython",
    "version": 3
   },
   "file_extension": ".py",
   "mimetype": "text/x-python",
   "name": "python",
   "nbconvert_exporter": "python",
   "pygments_lexer": "ipython3",
   "version": "3.10.4"
  },
  "orig_nbformat": 4,
  "vscode": {
   "interpreter": {
    "hash": "7d1c19e37e5f6196bc516d7b965f651cc74a678b65e0e3f127f9e9132621bafc"
   }
  }
 },
 "nbformat": 4,
 "nbformat_minor": 2
}
