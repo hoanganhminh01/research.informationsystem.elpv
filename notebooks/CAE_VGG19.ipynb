{
 "cells": [
  {
   "cell_type": "code",
   "execution_count": 1,
   "metadata": {},
   "outputs": [],
   "source": [
    "import sys\n",
    "import os\n",
    "sys.path.append(os.path.join(os.path.abspath(os.path.dirname(\"__file__\")), '..'))\n",
    "from utils import data_handling, model_development\n",
    "import matplotlib.pyplot as plt\n",
    "from ipywidgets import interact"
   ]
  },
  {
   "cell_type": "code",
   "execution_count": 2,
   "metadata": {},
   "outputs": [],
   "source": [
    "##\n",
    "# Configure the model training policy:\n",
    "#\n",
    "model_development.configure_training_policy()"
   ]
  },
  {
   "cell_type": "code",
   "execution_count": 3,
   "metadata": {},
   "outputs": [
    {
     "name": "stdout",
     "output_type": "stream",
     "text": [
      "[(2624, 300, 300), 2624, 2624]\n"
     ]
    }
   ],
   "source": [
    "##\n",
    "# Load and preprocess data:\n",
    "#\n",
    "cell_images, cell_labels, cell_types = data_handling.load_data_from_file('../data/labels.csv', True)\n",
    "print([cell_images.shape, len(cell_labels), len(cell_types)])\n",
    "\n",
    "# @interact(n = (0, cell_images.shape[0] - 1))\n",
    "# def display_data(n = 0):\n",
    "#     fig, axs = plt.subplots()\n",
    "#     axs.imshow(cell_images[n], cmap = 'gray')\n",
    "#     axs.set_title(f'Class: {cell_labels[n]} - Type: {cell_types[n]}')\n",
    "#     return None"
   ]
  },
  {
   "cell_type": "code",
   "execution_count": 4,
   "metadata": {},
   "outputs": [
    {
     "name": "stdout",
     "output_type": "stream",
     "text": [
      "[(2230, 300, 300, 3), 2230, 2230]\n",
      "[(394, 300, 300), 394, 394]\n"
     ]
    }
   ],
   "source": [
    "##\n",
    "# Prepare data for model training:\n",
    "#\n",
    "train_test_split = int(0.85 * cell_images.shape[0])\n",
    "X_train, Y_train, Z_train  = data_handling.preprocess_data(\\\n",
    "    cell_images[: train_test_split], \n",
    "    cell_labels[: train_test_split], \n",
    "    cell_types[: train_test_split])\n",
    "X_test, Y_test, Z_test = \\\n",
    "    cell_images[train_test_split : ], \\\n",
    "    cell_labels[train_test_split : ], cell_types[train_test_split : ]\n",
    "\n",
    "print([X_train.shape, len(Y_train), len(Z_train)])\n",
    "print([X_test.shape, len(Y_test), len(Z_test)])"
   ]
  },
  {
   "cell_type": "code",
   "execution_count": null,
   "metadata": {},
   "outputs": [],
   "source": [
    "##\n",
    "# Train classification model (first phase):\n",
    "#\n",
    "optimizer = model_development.create_optimizer('nadam')\n",
    "cae_vgg19 = \\\n",
    "    model_development.cae_VGG19(input_shape = (300, 300, 3), weights = 'imagenet', freeze_convolutional_base = True, display_model_information = False)\n",
    "\n",
    "history, training_time = model_development.train_reconstruction_model(1, cae_vgg19, optimizer = optimizer,\n",
    "    training_metrics = model_development.ssim_loss, model_name = 'CAE_VGG19', version = '1.00.00',\n",
    "    X = X_train, Y = X_train, \n",
    "    metric_to_monitor = 'val_loss', no_of_epochs = 200, batch_size = 16, validation_split_ratio = 0.2)"
   ]
  },
  {
   "cell_type": "code",
   "execution_count": 5,
   "metadata": {},
   "outputs": [
    {
     "ename": "NameError",
     "evalue": "name 'optimizer' is not defined",
     "output_type": "error",
     "traceback": [
      "\u001b[1;31m---------------------------------------------------------------------------\u001b[0m",
      "\u001b[1;31mNameError\u001b[0m                                 Traceback (most recent call last)",
      "\u001b[1;32mc:\\Users\\Admin\\Documents\\GitHub\\research.informationsystem.elpv\\notebooks\\CAE_VGG19.ipynb Cell 6\u001b[0m in \u001b[0;36m<cell line: 4>\u001b[1;34m()\u001b[0m\n\u001b[0;32m      <a href='vscode-notebook-cell:/c%3A/Users/Admin/Documents/GitHub/research.informationsystem.elpv/notebooks/CAE_VGG19.ipynb#W5sZmlsZQ%3D%3D?line=0'>1</a>\u001b[0m \u001b[39m##\u001b[39;00m\n\u001b[0;32m      <a href='vscode-notebook-cell:/c%3A/Users/Admin/Documents/GitHub/research.informationsystem.elpv/notebooks/CAE_VGG19.ipynb#W5sZmlsZQ%3D%3D?line=1'>2</a>\u001b[0m \u001b[39m#\u001b[39;00m\n\u001b[0;32m      <a href='vscode-notebook-cell:/c%3A/Users/Admin/Documents/GitHub/research.informationsystem.elpv/notebooks/CAE_VGG19.ipynb#W5sZmlsZQ%3D%3D?line=2'>3</a>\u001b[0m \u001b[39m#\u001b[39;00m\n\u001b[1;32m----> <a href='vscode-notebook-cell:/c%3A/Users/Admin/Documents/GitHub/research.informationsystem.elpv/notebooks/CAE_VGG19.ipynb#W5sZmlsZQ%3D%3D?line=3'>4</a>\u001b[0m history, training_time \u001b[39m=\u001b[39m model_development\u001b[39m.\u001b[39mtrain_reconstruction_model(\u001b[39m2\u001b[39m, \u001b[39m'\u001b[39m\u001b[39m../models/weights/CAE_VGG19_1.00.00_fs.hdf5\u001b[39m\u001b[39m'\u001b[39m, optimizer \u001b[39m=\u001b[39m optimizer,\n\u001b[0;32m      <a href='vscode-notebook-cell:/c%3A/Users/Admin/Documents/GitHub/research.informationsystem.elpv/notebooks/CAE_VGG19.ipynb#W5sZmlsZQ%3D%3D?line=4'>5</a>\u001b[0m     training_metrics \u001b[39m=\u001b[39m model_development\u001b[39m.\u001b[39mssim_loss, model_name \u001b[39m=\u001b[39m \u001b[39m'\u001b[39m\u001b[39mCAE_VGG19\u001b[39m\u001b[39m'\u001b[39m, version \u001b[39m=\u001b[39m \u001b[39m'\u001b[39m\u001b[39m1.00.00_ss\u001b[39m\u001b[39m'\u001b[39m,\n\u001b[0;32m      <a href='vscode-notebook-cell:/c%3A/Users/Admin/Documents/GitHub/research.informationsystem.elpv/notebooks/CAE_VGG19.ipynb#W5sZmlsZQ%3D%3D?line=5'>6</a>\u001b[0m     X \u001b[39m=\u001b[39m X_train, Y \u001b[39m=\u001b[39m X_train, \n\u001b[0;32m      <a href='vscode-notebook-cell:/c%3A/Users/Admin/Documents/GitHub/research.informationsystem.elpv/notebooks/CAE_VGG19.ipynb#W5sZmlsZQ%3D%3D?line=6'>7</a>\u001b[0m     metric_to_monitor \u001b[39m=\u001b[39m \u001b[39m'\u001b[39m\u001b[39mval_loss\u001b[39m\u001b[39m'\u001b[39m, no_of_epochs \u001b[39m=\u001b[39m \u001b[39m200\u001b[39m, batch_size \u001b[39m=\u001b[39m \u001b[39m16\u001b[39m, validation_split_ratio \u001b[39m=\u001b[39m \u001b[39m0.2\u001b[39m)\n",
      "\u001b[1;31mNameError\u001b[0m: name 'optimizer' is not defined"
     ]
    }
   ],
   "source": [
    "##\n",
    "#\n",
    "#\n",
    "optimizer = model_development.create_optimizer('adam')\n",
    "history, training_time = model_development.train_reconstruction_model(2, '../models/weights/CAE_VGG19_1.00.00_fs.hdf5',\n",
    "    optimizer = optimizer, training_metrics = model_development.ssim_loss, \n",
    "    model_name = 'CAE_VGG19', version = '1.00.00_ss',\n",
    "    X = X_train, Y = X_train, \n",
    "    metric_to_monitor = 'val_loss', no_of_epochs = 200, batch_size = 16, validation_split_ratio = 0.2)"
   ]
  }
 ],
 "metadata": {
  "kernelspec": {
   "display_name": "Python 3.10.4 ('tensorflow_latest')",
   "language": "python",
   "name": "python3"
  },
  "language_info": {
   "codemirror_mode": {
    "name": "ipython",
    "version": 3
   },
   "file_extension": ".py",
   "mimetype": "text/x-python",
   "name": "python",
   "nbconvert_exporter": "python",
   "pygments_lexer": "ipython3",
   "version": "3.10.4"
  },
  "orig_nbformat": 4,
  "vscode": {
   "interpreter": {
    "hash": "7d1c19e37e5f6196bc516d7b965f651cc74a678b65e0e3f127f9e9132621bafc"
   }
  }
 },
 "nbformat": 4,
 "nbformat_minor": 2
}
